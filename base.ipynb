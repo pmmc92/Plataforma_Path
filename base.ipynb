{
 "cells": [
  {
   "cell_type": "markdown",
   "metadata": {},
   "source": [
    "# Import Packages"
   ]
  },
  {
   "cell_type": "code",
   "execution_count": 3,
   "metadata": {},
   "outputs": [],
   "source": [
    "import pandas as pd\n",
    "import matplotlib.pyplot as plt\n",
    "import numpy as np\n",
    "import seaborn as sns\n",
    "import pm4py as pm\n",
    "import plotly.express as pe\n",
    "from pm4py.algo.filtering.log.attributes import attributes_filter\n",
    "from pm4py.visualization.graphs import visualizer as graphs_visualizer\n",
    "import networkx as nx\n",
    "from IPython.core.display import HTML\n"
   ]
  },
  {
   "cell_type": "markdown",
   "metadata": {},
   "source": [
    "# Importing test log"
   ]
  },
  {
   "cell_type": "code",
   "execution_count": 4,
   "metadata": {},
   "outputs": [],
   "source": [
    "log = pd.read_csv(\"log.csv\")"
   ]
  },
  {
   "cell_type": "code",
   "execution_count": 68,
   "metadata": {},
   "outputs": [
    {
     "data": {
      "text/html": [
       "<div>\n",
       "<style scoped>\n",
       "    .dataframe tbody tr th:only-of-type {\n",
       "        vertical-align: middle;\n",
       "    }\n",
       "\n",
       "    .dataframe tbody tr th {\n",
       "        vertical-align: top;\n",
       "    }\n",
       "\n",
       "    .dataframe thead th {\n",
       "        text-align: right;\n",
       "    }\n",
       "</style>\n",
       "<table border=\"1\" class=\"dataframe\">\n",
       "  <thead>\n",
       "    <tr style=\"text-align: right;\">\n",
       "      <th></th>\n",
       "      <th>NHC</th>\n",
       "      <th>DATA</th>\n",
       "      <th>Atividade Agrupada</th>\n",
       "      <th>STAFF ID</th>\n",
       "    </tr>\n",
       "  </thead>\n",
       "  <tbody>\n",
       "    <tr>\n",
       "      <th>0</th>\n",
       "      <td>2637.0</td>\n",
       "      <td>20/08/2019</td>\n",
       "      <td>Consulta Ortopedia</td>\n",
       "      <td>43523.0</td>\n",
       "    </tr>\n",
       "    <tr>\n",
       "      <th>1</th>\n",
       "      <td>2637.0</td>\n",
       "      <td>29/08/2019</td>\n",
       "      <td>Rx Anca</td>\n",
       "      <td>34240.0</td>\n",
       "    </tr>\n",
       "    <tr>\n",
       "      <th>2</th>\n",
       "      <td>2637.0</td>\n",
       "      <td>29/08/2019</td>\n",
       "      <td>Rx Bacia</td>\n",
       "      <td>34240.0</td>\n",
       "    </tr>\n",
       "    <tr>\n",
       "      <th>3</th>\n",
       "      <td>2637.0</td>\n",
       "      <td>07/09/2019</td>\n",
       "      <td>Consulta Ortopedia</td>\n",
       "      <td>31897.0</td>\n",
       "    </tr>\n",
       "    <tr>\n",
       "      <th>4</th>\n",
       "      <td>2637.0</td>\n",
       "      <td>16/09/2019</td>\n",
       "      <td>RM Bacia</td>\n",
       "      <td>34233.0</td>\n",
       "    </tr>\n",
       "  </tbody>\n",
       "</table>\n",
       "</div>"
      ],
      "text/plain": [
       "      NHC        DATA  Atividade Agrupada  STAFF ID\n",
       "0  2637.0  20/08/2019  Consulta Ortopedia   43523.0\n",
       "1  2637.0  29/08/2019             Rx Anca   34240.0\n",
       "2  2637.0  29/08/2019            Rx Bacia   34240.0\n",
       "3  2637.0  07/09/2019  Consulta Ortopedia   31897.0\n",
       "4  2637.0  16/09/2019            RM Bacia   34233.0"
      ]
     },
     "execution_count": 68,
     "metadata": {},
     "output_type": "execute_result"
    }
   ],
   "source": [
    "log.head()"
   ]
  },
  {
   "cell_type": "markdown",
   "metadata": {},
   "source": [
    "# Converting to XES and Renaming"
   ]
  },
  {
   "cell_type": "code",
   "execution_count": 5,
   "metadata": {},
   "outputs": [
    {
     "name": "stderr",
     "output_type": "stream",
     "text": [
      "c:\\Users\\PMMCardoso\\anaconda3\\lib\\site-packages\\pm4py\\utils.py:87: SettingWithCopyWarning: \n",
      "A value is trying to be set on a copy of a slice from a DataFrame.\n",
      "Try using .loc[row_indexer,col_indexer] = value instead\n",
      "\n",
      "See the caveats in the documentation: https://pandas.pydata.org/pandas-docs/stable/user_guide/indexing.html#returning-a-view-versus-a-copy\n",
      "  df[constants.CASE_CONCEPT_NAME] = df[constants.CASE_CONCEPT_NAME].astype(\"string\")\n",
      "c:\\Users\\PMMCardoso\\anaconda3\\lib\\site-packages\\pm4py\\utils.py:89: SettingWithCopyWarning: \n",
      "A value is trying to be set on a copy of a slice from a DataFrame.\n",
      "Try using .loc[row_indexer,col_indexer] = value instead\n",
      "\n",
      "See the caveats in the documentation: https://pandas.pydata.org/pandas-docs/stable/user_guide/indexing.html#returning-a-view-versus-a-copy\n",
      "  df[xes_constants.DEFAULT_NAME_KEY] = df[xes_constants.DEFAULT_NAME_KEY].astype(\"string\")\n"
     ]
    }
   ],
   "source": [
    "log = log.rename(columns={\"STAFF ID\":\"org:resource\"})\n",
    "log = pm.format_dataframe(log, case_id = \"NHC\", activity_key=\"Atividade Agrupada\", timestamp_key=\"DATA\")\n",
    "log = log.drop([\"NHC\",\"DATA\",\"Atividade Agrupada\",\"@@index\"], axis = 1)\n",
    "log[\"org:resource\"] = log[\"org:resource\"].astype(str)"
   ]
  },
  {
   "cell_type": "code",
   "execution_count": 70,
   "metadata": {},
   "outputs": [
    {
     "name": "stdout",
     "output_type": "stream",
     "text": [
      "<class 'pandas.core.frame.DataFrame'>\n",
      "RangeIndex: 8894 entries, 0 to 8893\n",
      "Data columns (total 4 columns):\n",
      " #   Column             Non-Null Count  Dtype              \n",
      "---  ------             --------------  -----              \n",
      " 0   org:resource       8894 non-null   object             \n",
      " 1   case:concept:name  8894 non-null   string             \n",
      " 2   concept:name       8894 non-null   string             \n",
      " 3   time:timestamp     8894 non-null   datetime64[ns, UTC]\n",
      "dtypes: datetime64[ns, UTC](1), object(1), string(2)\n",
      "memory usage: 278.1+ KB\n"
     ]
    }
   ],
   "source": [
    "log.info()"
   ]
  },
  {
   "cell_type": "markdown",
   "metadata": {},
   "source": [
    "# EDA on the Event Log"
   ]
  },
  {
   "cell_type": "code",
   "execution_count": 5,
   "metadata": {},
   "outputs": [
    {
     "data": {
      "text/html": [
       "<div>\n",
       "<style scoped>\n",
       "    .dataframe tbody tr th:only-of-type {\n",
       "        vertical-align: middle;\n",
       "    }\n",
       "\n",
       "    .dataframe tbody tr th {\n",
       "        vertical-align: top;\n",
       "    }\n",
       "\n",
       "    .dataframe thead th {\n",
       "        text-align: right;\n",
       "    }\n",
       "</style>\n",
       "<table border=\"1\" class=\"dataframe\">\n",
       "  <thead>\n",
       "    <tr style=\"text-align: right;\">\n",
       "      <th></th>\n",
       "      <th>org:resource</th>\n",
       "      <th>case:concept:name</th>\n",
       "      <th>concept:name</th>\n",
       "      <th>time:timestamp</th>\n",
       "    </tr>\n",
       "  </thead>\n",
       "  <tbody>\n",
       "    <tr>\n",
       "      <th>0</th>\n",
       "      <td>532.0</td>\n",
       "      <td>100387160.0</td>\n",
       "      <td>Cirurgia Primária</td>\n",
       "      <td>2021-11-19 00:00:00+00:00</td>\n",
       "    </tr>\n",
       "    <tr>\n",
       "      <th>1</th>\n",
       "      <td>532.0</td>\n",
       "      <td>100387160.0</td>\n",
       "      <td>Internamento</td>\n",
       "      <td>2021-11-19 00:00:00+00:00</td>\n",
       "    </tr>\n",
       "    <tr>\n",
       "      <th>2</th>\n",
       "      <td>36867.0</td>\n",
       "      <td>100387160.0</td>\n",
       "      <td>Fisioterapia</td>\n",
       "      <td>2021-11-20 00:00:00+00:00</td>\n",
       "    </tr>\n",
       "    <tr>\n",
       "      <th>3</th>\n",
       "      <td>532.0</td>\n",
       "      <td>100387160.0</td>\n",
       "      <td>Consulta Ortopedia</td>\n",
       "      <td>2021-12-03 00:00:00+00:00</td>\n",
       "    </tr>\n",
       "    <tr>\n",
       "      <th>4</th>\n",
       "      <td>432.0</td>\n",
       "      <td>101152.0</td>\n",
       "      <td>Consulta Ortopedia</td>\n",
       "      <td>2020-08-31 00:00:00+00:00</td>\n",
       "    </tr>\n",
       "  </tbody>\n",
       "</table>\n",
       "</div>"
      ],
      "text/plain": [
       "   org:resource case:concept:name        concept:name  \\\n",
       "0         532.0       100387160.0   Cirurgia Primária   \n",
       "1         532.0       100387160.0        Internamento   \n",
       "2       36867.0       100387160.0        Fisioterapia   \n",
       "3         532.0       100387160.0  Consulta Ortopedia   \n",
       "4         432.0          101152.0  Consulta Ortopedia   \n",
       "\n",
       "             time:timestamp  \n",
       "0 2021-11-19 00:00:00+00:00  \n",
       "1 2021-11-19 00:00:00+00:00  \n",
       "2 2021-11-20 00:00:00+00:00  \n",
       "3 2021-12-03 00:00:00+00:00  \n",
       "4 2020-08-31 00:00:00+00:00  "
      ]
     },
     "execution_count": 5,
     "metadata": {},
     "output_type": "execute_result"
    }
   ],
   "source": [
    "log.head()"
   ]
  },
  {
   "cell_type": "markdown",
   "metadata": {},
   "source": [
    "## Number of activities per patient"
   ]
  },
  {
   "cell_type": "code",
   "execution_count": 6,
   "metadata": {},
   "outputs": [
    {
     "data": {
      "application/vnd.plotly.v1+json": {
       "config": {
        "plotlyServerURL": "https://plot.ly"
       },
       "data": [
        {
         "alignmentgroup": "True",
         "hovertemplate": "N Activities=%{x}<br>=%{y}<extra></extra>",
         "legendgroup": "",
         "marker": {
          "color": "#1F77B4"
         },
         "name": "",
         "notched": false,
         "offsetgroup": "",
         "orientation": "h",
         "showlegend": false,
         "type": "box",
         "x": [
          4,
          10,
          10,
          20,
          20,
          4,
          10,
          20,
          9,
          29,
          7,
          3,
          33,
          4,
          4,
          5,
          8,
          5,
          20,
          16,
          4,
          5,
          7,
          5,
          11,
          3,
          13,
          5,
          4,
          3,
          4,
          4,
          4,
          3,
          4,
          4,
          5,
          3,
          5,
          4,
          5,
          4,
          5,
          4,
          6,
          5,
          3,
          4,
          4,
          4,
          5,
          5,
          6,
          5,
          5,
          5,
          27,
          6,
          3,
          5,
          6,
          8,
          5,
          4,
          5,
          4,
          17,
          16,
          6,
          14,
          19,
          18,
          27,
          22,
          14,
          18,
          12,
          9,
          17,
          16,
          6,
          9,
          34,
          9,
          6,
          18,
          21,
          20,
          20,
          31,
          24,
          21,
          11,
          12,
          10,
          17,
          29,
          9,
          26,
          10,
          26,
          20,
          15,
          15,
          6,
          15,
          26,
          20,
          12,
          7,
          19,
          17,
          22,
          26,
          4,
          14,
          12,
          7,
          20,
          30,
          19,
          20,
          16,
          29,
          17,
          65,
          31,
          20,
          29,
          14,
          7,
          21,
          37,
          11,
          14,
          12,
          22,
          24,
          16,
          13,
          35,
          9,
          18,
          25,
          9,
          12,
          23,
          18,
          12,
          18,
          19,
          34,
          16,
          13,
          15,
          12,
          14,
          16,
          9,
          16,
          20,
          10,
          32,
          16,
          10,
          10,
          15,
          8,
          22,
          23,
          19,
          4,
          14,
          12,
          18,
          10,
          26,
          8,
          7,
          10,
          12,
          24,
          14,
          18,
          10,
          18,
          21,
          16,
          8,
          28,
          11,
          16,
          13,
          29,
          15,
          8,
          11,
          12,
          15,
          14,
          12,
          16,
          46,
          22,
          30,
          11,
          4,
          10,
          23,
          16,
          17,
          15,
          11,
          21,
          8,
          11,
          9,
          18,
          10,
          17,
          28,
          7,
          10,
          9,
          12,
          3,
          15,
          23,
          23,
          9,
          21,
          9,
          10,
          15,
          10,
          37,
          29,
          14,
          4,
          17,
          27,
          10,
          5,
          21,
          8,
          15,
          35,
          21,
          10,
          10,
          9,
          10,
          40,
          4,
          14,
          9,
          21,
          7,
          8,
          37,
          9,
          26,
          31,
          10,
          14,
          11,
          18,
          26,
          6,
          19,
          10,
          23,
          14,
          21,
          21,
          19,
          8,
          9,
          29,
          9,
          14,
          32,
          10,
          15,
          11,
          3,
          12,
          33,
          16,
          10,
          8,
          15,
          12,
          16,
          15,
          10,
          6,
          8,
          18,
          4,
          8,
          14,
          17,
          22,
          7,
          11,
          12,
          18,
          8,
          11,
          21,
          12,
          13,
          15,
          5,
          15,
          6,
          7,
          19,
          8,
          13,
          6,
          17,
          18,
          20,
          10,
          11,
          15,
          17,
          11,
          14,
          18,
          13,
          18,
          23,
          14,
          14,
          13,
          10,
          11,
          12,
          10,
          3,
          20,
          9,
          20,
          10,
          7,
          3,
          17,
          20,
          19,
          11,
          14,
          8,
          15,
          8,
          25,
          22,
          10,
          14,
          13,
          7,
          9,
          10,
          10,
          17,
          20,
          9,
          12,
          11,
          5,
          8,
          16,
          9,
          7,
          11,
          15,
          20,
          11,
          12,
          17,
          9,
          8,
          25,
          11,
          5,
          6,
          15,
          5,
          20,
          12,
          10,
          21,
          22,
          16,
          13,
          5,
          6,
          5,
          9,
          13,
          24,
          24,
          8,
          4,
          17,
          8,
          10,
          10,
          22,
          7,
          12,
          16,
          6,
          7,
          18,
          9,
          9,
          16,
          12,
          5,
          8,
          10,
          7,
          12,
          17,
          6,
          17,
          10,
          13,
          11,
          16,
          10,
          9,
          6,
          5,
          4,
          3,
          6,
          17,
          15,
          17,
          7,
          15,
          11,
          39,
          18,
          19,
          13,
          10,
          22,
          10,
          4,
          12,
          7,
          10,
          17,
          6,
          7,
          9,
          6,
          7,
          7,
          7,
          6,
          9,
          12,
          8,
          8,
          6,
          25,
          4,
          20,
          22,
          15,
          7,
          6,
          2,
          7,
          23,
          5,
          9,
          16,
          3,
          16,
          18,
          10,
          6,
          9,
          6,
          6,
          13,
          5,
          17,
          6,
          19,
          19,
          12,
          10,
          7,
          9,
          22,
          18,
          7,
          14,
          7,
          7,
          10,
          9,
          4,
          9,
          14,
          17,
          16,
          6,
          3,
          4,
          19,
          14,
          16,
          13,
          10,
          12,
          7,
          8,
          13,
          27,
          13,
          7,
          3,
          13,
          4,
          4,
          11,
          13,
          8,
          18,
          8,
          12,
          9,
          6,
          10,
          4,
          7,
          15,
          12,
          11,
          7,
          12,
          16,
          20,
          10,
          8,
          24,
          17,
          8,
          6,
          6,
          8,
          31,
          8,
          13,
          8,
          12,
          8,
          10,
          8,
          5,
          10,
          4,
          10,
          6,
          9,
          15,
          6,
          11,
          12,
          7,
          7,
          8,
          8,
          6,
          6,
          7,
          9,
          4,
          6,
          4,
          12,
          13,
          11,
          6,
          10,
          9,
          5,
          11,
          5,
          14,
          7,
          14,
          8,
          12,
          15,
          7,
          10,
          11,
          9,
          18,
          9,
          12,
          10,
          7,
          11,
          7,
          22,
          11,
          11,
          14,
          7,
          21,
          12,
          10,
          10,
          15,
          4,
          9,
          7,
          8,
          7,
          12,
          9,
          9,
          5,
          11,
          16,
          9,
          5,
          5,
          7,
          8,
          9,
          7,
          5,
          7,
          7,
          6,
          7,
          30,
          7,
          10,
          10,
          5,
          6,
          6,
          6,
          9,
          5,
          3,
          13,
          9,
          6,
          9,
          7,
          8,
          7,
          11,
          5,
          11,
          10,
          9,
          6,
          10,
          6,
          12,
          11,
          9,
          5,
          13,
          3,
          9,
          6,
          8,
          8,
          7,
          6,
          2,
          8,
          4,
          8,
          6,
          6,
          10,
          6,
          3,
          40,
          5,
          6,
          6,
          6,
          6,
          18,
          20,
          21,
          13,
          19,
          13,
          32,
          24,
          30,
          15,
          22
         ],
         "x0": " ",
         "xaxis": "x",
         "y": [
          "concept:name",
          "concept:name",
          "concept:name",
          "concept:name",
          "concept:name",
          "concept:name",
          "concept:name",
          "concept:name",
          "concept:name",
          "concept:name",
          "concept:name",
          "concept:name",
          "concept:name",
          "concept:name",
          "concept:name",
          "concept:name",
          "concept:name",
          "concept:name",
          "concept:name",
          "concept:name",
          "concept:name",
          "concept:name",
          "concept:name",
          "concept:name",
          "concept:name",
          "concept:name",
          "concept:name",
          "concept:name",
          "concept:name",
          "concept:name",
          "concept:name",
          "concept:name",
          "concept:name",
          "concept:name",
          "concept:name",
          "concept:name",
          "concept:name",
          "concept:name",
          "concept:name",
          "concept:name",
          "concept:name",
          "concept:name",
          "concept:name",
          "concept:name",
          "concept:name",
          "concept:name",
          "concept:name",
          "concept:name",
          "concept:name",
          "concept:name",
          "concept:name",
          "concept:name",
          "concept:name",
          "concept:name",
          "concept:name",
          "concept:name",
          "concept:name",
          "concept:name",
          "concept:name",
          "concept:name",
          "concept:name",
          "concept:name",
          "concept:name",
          "concept:name",
          "concept:name",
          "concept:name",
          "concept:name",
          "concept:name",
          "concept:name",
          "concept:name",
          "concept:name",
          "concept:name",
          "concept:name",
          "concept:name",
          "concept:name",
          "concept:name",
          "concept:name",
          "concept:name",
          "concept:name",
          "concept:name",
          "concept:name",
          "concept:name",
          "concept:name",
          "concept:name",
          "concept:name",
          "concept:name",
          "concept:name",
          "concept:name",
          "concept:name",
          "concept:name",
          "concept:name",
          "concept:name",
          "concept:name",
          "concept:name",
          "concept:name",
          "concept:name",
          "concept:name",
          "concept:name",
          "concept:name",
          "concept:name",
          "concept:name",
          "concept:name",
          "concept:name",
          "concept:name",
          "concept:name",
          "concept:name",
          "concept:name",
          "concept:name",
          "concept:name",
          "concept:name",
          "concept:name",
          "concept:name",
          "concept:name",
          "concept:name",
          "concept:name",
          "concept:name",
          "concept:name",
          "concept:name",
          "concept:name",
          "concept:name",
          "concept:name",
          "concept:name",
          "concept:name",
          "concept:name",
          "concept:name",
          "concept:name",
          "concept:name",
          "concept:name",
          "concept:name",
          "concept:name",
          "concept:name",
          "concept:name",
          "concept:name",
          "concept:name",
          "concept:name",
          "concept:name",
          "concept:name",
          "concept:name",
          "concept:name",
          "concept:name",
          "concept:name",
          "concept:name",
          "concept:name",
          "concept:name",
          "concept:name",
          "concept:name",
          "concept:name",
          "concept:name",
          "concept:name",
          "concept:name",
          "concept:name",
          "concept:name",
          "concept:name",
          "concept:name",
          "concept:name",
          "concept:name",
          "concept:name",
          "concept:name",
          "concept:name",
          "concept:name",
          "concept:name",
          "concept:name",
          "concept:name",
          "concept:name",
          "concept:name",
          "concept:name",
          "concept:name",
          "concept:name",
          "concept:name",
          "concept:name",
          "concept:name",
          "concept:name",
          "concept:name",
          "concept:name",
          "concept:name",
          "concept:name",
          "concept:name",
          "concept:name",
          "concept:name",
          "concept:name",
          "concept:name",
          "concept:name",
          "concept:name",
          "concept:name",
          "concept:name",
          "concept:name",
          "concept:name",
          "concept:name",
          "concept:name",
          "concept:name",
          "concept:name",
          "concept:name",
          "concept:name",
          "concept:name",
          "concept:name",
          "concept:name",
          "concept:name",
          "concept:name",
          "concept:name",
          "concept:name",
          "concept:name",
          "concept:name",
          "concept:name",
          "concept:name",
          "concept:name",
          "concept:name",
          "concept:name",
          "concept:name",
          "concept:name",
          "concept:name",
          "concept:name",
          "concept:name",
          "concept:name",
          "concept:name",
          "concept:name",
          "concept:name",
          "concept:name",
          "concept:name",
          "concept:name",
          "concept:name",
          "concept:name",
          "concept:name",
          "concept:name",
          "concept:name",
          "concept:name",
          "concept:name",
          "concept:name",
          "concept:name",
          "concept:name",
          "concept:name",
          "concept:name",
          "concept:name",
          "concept:name",
          "concept:name",
          "concept:name",
          "concept:name",
          "concept:name",
          "concept:name",
          "concept:name",
          "concept:name",
          "concept:name",
          "concept:name",
          "concept:name",
          "concept:name",
          "concept:name",
          "concept:name",
          "concept:name",
          "concept:name",
          "concept:name",
          "concept:name",
          "concept:name",
          "concept:name",
          "concept:name",
          "concept:name",
          "concept:name",
          "concept:name",
          "concept:name",
          "concept:name",
          "concept:name",
          "concept:name",
          "concept:name",
          "concept:name",
          "concept:name",
          "concept:name",
          "concept:name",
          "concept:name",
          "concept:name",
          "concept:name",
          "concept:name",
          "concept:name",
          "concept:name",
          "concept:name",
          "concept:name",
          "concept:name",
          "concept:name",
          "concept:name",
          "concept:name",
          "concept:name",
          "concept:name",
          "concept:name",
          "concept:name",
          "concept:name",
          "concept:name",
          "concept:name",
          "concept:name",
          "concept:name",
          "concept:name",
          "concept:name",
          "concept:name",
          "concept:name",
          "concept:name",
          "concept:name",
          "concept:name",
          "concept:name",
          "concept:name",
          "concept:name",
          "concept:name",
          "concept:name",
          "concept:name",
          "concept:name",
          "concept:name",
          "concept:name",
          "concept:name",
          "concept:name",
          "concept:name",
          "concept:name",
          "concept:name",
          "concept:name",
          "concept:name",
          "concept:name",
          "concept:name",
          "concept:name",
          "concept:name",
          "concept:name",
          "concept:name",
          "concept:name",
          "concept:name",
          "concept:name",
          "concept:name",
          "concept:name",
          "concept:name",
          "concept:name",
          "concept:name",
          "concept:name",
          "concept:name",
          "concept:name",
          "concept:name",
          "concept:name",
          "concept:name",
          "concept:name",
          "concept:name",
          "concept:name",
          "concept:name",
          "concept:name",
          "concept:name",
          "concept:name",
          "concept:name",
          "concept:name",
          "concept:name",
          "concept:name",
          "concept:name",
          "concept:name",
          "concept:name",
          "concept:name",
          "concept:name",
          "concept:name",
          "concept:name",
          "concept:name",
          "concept:name",
          "concept:name",
          "concept:name",
          "concept:name",
          "concept:name",
          "concept:name",
          "concept:name",
          "concept:name",
          "concept:name",
          "concept:name",
          "concept:name",
          "concept:name",
          "concept:name",
          "concept:name",
          "concept:name",
          "concept:name",
          "concept:name",
          "concept:name",
          "concept:name",
          "concept:name",
          "concept:name",
          "concept:name",
          "concept:name",
          "concept:name",
          "concept:name",
          "concept:name",
          "concept:name",
          "concept:name",
          "concept:name",
          "concept:name",
          "concept:name",
          "concept:name",
          "concept:name",
          "concept:name",
          "concept:name",
          "concept:name",
          "concept:name",
          "concept:name",
          "concept:name",
          "concept:name",
          "concept:name",
          "concept:name",
          "concept:name",
          "concept:name",
          "concept:name",
          "concept:name",
          "concept:name",
          "concept:name",
          "concept:name",
          "concept:name",
          "concept:name",
          "concept:name",
          "concept:name",
          "concept:name",
          "concept:name",
          "concept:name",
          "concept:name",
          "concept:name",
          "concept:name",
          "concept:name",
          "concept:name",
          "concept:name",
          "concept:name",
          "concept:name",
          "concept:name",
          "concept:name",
          "concept:name",
          "concept:name",
          "concept:name",
          "concept:name",
          "concept:name",
          "concept:name",
          "concept:name",
          "concept:name",
          "concept:name",
          "concept:name",
          "concept:name",
          "concept:name",
          "concept:name",
          "concept:name",
          "concept:name",
          "concept:name",
          "concept:name",
          "concept:name",
          "concept:name",
          "concept:name",
          "concept:name",
          "concept:name",
          "concept:name",
          "concept:name",
          "concept:name",
          "concept:name",
          "concept:name",
          "concept:name",
          "concept:name",
          "concept:name",
          "concept:name",
          "concept:name",
          "concept:name",
          "concept:name",
          "concept:name",
          "concept:name",
          "concept:name",
          "concept:name",
          "concept:name",
          "concept:name",
          "concept:name",
          "concept:name",
          "concept:name",
          "concept:name",
          "concept:name",
          "concept:name",
          "concept:name",
          "concept:name",
          "concept:name",
          "concept:name",
          "concept:name",
          "concept:name",
          "concept:name",
          "concept:name",
          "concept:name",
          "concept:name",
          "concept:name",
          "concept:name",
          "concept:name",
          "concept:name",
          "concept:name",
          "concept:name",
          "concept:name",
          "concept:name",
          "concept:name",
          "concept:name",
          "concept:name",
          "concept:name",
          "concept:name",
          "concept:name",
          "concept:name",
          "concept:name",
          "concept:name",
          "concept:name",
          "concept:name",
          "concept:name",
          "concept:name",
          "concept:name",
          "concept:name",
          "concept:name",
          "concept:name",
          "concept:name",
          "concept:name",
          "concept:name",
          "concept:name",
          "concept:name",
          "concept:name",
          "concept:name",
          "concept:name",
          "concept:name",
          "concept:name",
          "concept:name",
          "concept:name",
          "concept:name",
          "concept:name",
          "concept:name",
          "concept:name",
          "concept:name",
          "concept:name",
          "concept:name",
          "concept:name",
          "concept:name",
          "concept:name",
          "concept:name",
          "concept:name",
          "concept:name",
          "concept:name",
          "concept:name",
          "concept:name",
          "concept:name",
          "concept:name",
          "concept:name",
          "concept:name",
          "concept:name",
          "concept:name",
          "concept:name",
          "concept:name",
          "concept:name",
          "concept:name",
          "concept:name",
          "concept:name",
          "concept:name",
          "concept:name",
          "concept:name",
          "concept:name",
          "concept:name",
          "concept:name",
          "concept:name",
          "concept:name",
          "concept:name",
          "concept:name",
          "concept:name",
          "concept:name",
          "concept:name",
          "concept:name",
          "concept:name",
          "concept:name",
          "concept:name",
          "concept:name",
          "concept:name",
          "concept:name",
          "concept:name",
          "concept:name",
          "concept:name",
          "concept:name",
          "concept:name",
          "concept:name",
          "concept:name",
          "concept:name",
          "concept:name",
          "concept:name",
          "concept:name",
          "concept:name",
          "concept:name",
          "concept:name",
          "concept:name",
          "concept:name",
          "concept:name",
          "concept:name",
          "concept:name",
          "concept:name",
          "concept:name",
          "concept:name",
          "concept:name",
          "concept:name",
          "concept:name",
          "concept:name",
          "concept:name",
          "concept:name",
          "concept:name",
          "concept:name",
          "concept:name",
          "concept:name",
          "concept:name",
          "concept:name",
          "concept:name",
          "concept:name",
          "concept:name",
          "concept:name",
          "concept:name",
          "concept:name",
          "concept:name",
          "concept:name",
          "concept:name",
          "concept:name",
          "concept:name",
          "concept:name",
          "concept:name",
          "concept:name",
          "concept:name",
          "concept:name",
          "concept:name",
          "concept:name",
          "concept:name",
          "concept:name",
          "concept:name",
          "concept:name",
          "concept:name",
          "concept:name",
          "concept:name",
          "concept:name",
          "concept:name",
          "concept:name",
          "concept:name",
          "concept:name",
          "concept:name",
          "concept:name",
          "concept:name",
          "concept:name",
          "concept:name",
          "concept:name",
          "concept:name",
          "concept:name",
          "concept:name",
          "concept:name",
          "concept:name",
          "concept:name",
          "concept:name",
          "concept:name",
          "concept:name",
          "concept:name",
          "concept:name",
          "concept:name",
          "concept:name",
          "concept:name",
          "concept:name",
          "concept:name",
          "concept:name",
          "concept:name",
          "concept:name",
          "concept:name",
          "concept:name",
          "concept:name",
          "concept:name",
          "concept:name",
          "concept:name",
          "concept:name",
          "concept:name",
          "concept:name",
          "concept:name",
          "concept:name",
          "concept:name",
          "concept:name",
          "concept:name",
          "concept:name",
          "concept:name",
          "concept:name",
          "concept:name",
          "concept:name",
          "concept:name",
          "concept:name",
          "concept:name",
          "concept:name",
          "concept:name",
          "concept:name",
          "concept:name",
          "concept:name",
          "concept:name",
          "concept:name",
          "concept:name",
          "concept:name",
          "concept:name",
          "concept:name",
          "concept:name",
          "concept:name",
          "concept:name",
          "concept:name",
          "concept:name",
          "concept:name",
          "concept:name",
          "concept:name",
          "concept:name",
          "concept:name",
          "concept:name",
          "concept:name",
          "concept:name",
          "concept:name",
          "concept:name",
          "concept:name",
          "concept:name",
          "concept:name",
          "concept:name",
          "concept:name",
          "concept:name",
          "concept:name",
          "concept:name",
          "concept:name",
          "concept:name",
          "concept:name",
          "concept:name",
          "concept:name",
          "concept:name",
          "concept:name",
          "concept:name",
          "concept:name",
          "concept:name",
          "concept:name",
          "concept:name"
         ],
         "y0": " ",
         "yaxis": "y"
        }
       ],
       "layout": {
        "boxmode": "group",
        "height": 400,
        "legend": {
         "tracegroupgap": 0
        },
        "template": {
         "data": {
          "bar": [
           {
            "error_x": {
             "color": "rgb(36,36,36)"
            },
            "error_y": {
             "color": "rgb(36,36,36)"
            },
            "marker": {
             "line": {
              "color": "white",
              "width": 0.5
             }
            },
            "type": "bar"
           }
          ],
          "barpolar": [
           {
            "marker": {
             "line": {
              "color": "white",
              "width": 0.5
             }
            },
            "type": "barpolar"
           }
          ],
          "carpet": [
           {
            "aaxis": {
             "endlinecolor": "rgb(36,36,36)",
             "gridcolor": "white",
             "linecolor": "white",
             "minorgridcolor": "white",
             "startlinecolor": "rgb(36,36,36)"
            },
            "baxis": {
             "endlinecolor": "rgb(36,36,36)",
             "gridcolor": "white",
             "linecolor": "white",
             "minorgridcolor": "white",
             "startlinecolor": "rgb(36,36,36)"
            },
            "type": "carpet"
           }
          ],
          "choropleth": [
           {
            "colorbar": {
             "outlinewidth": 1,
             "tickcolor": "rgb(36,36,36)",
             "ticks": "outside"
            },
            "type": "choropleth"
           }
          ],
          "contour": [
           {
            "colorbar": {
             "outlinewidth": 1,
             "tickcolor": "rgb(36,36,36)",
             "ticks": "outside"
            },
            "colorscale": [
             [
              0,
              "#440154"
             ],
             [
              0.1111111111111111,
              "#482878"
             ],
             [
              0.2222222222222222,
              "#3e4989"
             ],
             [
              0.3333333333333333,
              "#31688e"
             ],
             [
              0.4444444444444444,
              "#26828e"
             ],
             [
              0.5555555555555556,
              "#1f9e89"
             ],
             [
              0.6666666666666666,
              "#35b779"
             ],
             [
              0.7777777777777778,
              "#6ece58"
             ],
             [
              0.8888888888888888,
              "#b5de2b"
             ],
             [
              1,
              "#fde725"
             ]
            ],
            "type": "contour"
           }
          ],
          "contourcarpet": [
           {
            "colorbar": {
             "outlinewidth": 1,
             "tickcolor": "rgb(36,36,36)",
             "ticks": "outside"
            },
            "type": "contourcarpet"
           }
          ],
          "heatmap": [
           {
            "colorbar": {
             "outlinewidth": 1,
             "tickcolor": "rgb(36,36,36)",
             "ticks": "outside"
            },
            "colorscale": [
             [
              0,
              "#440154"
             ],
             [
              0.1111111111111111,
              "#482878"
             ],
             [
              0.2222222222222222,
              "#3e4989"
             ],
             [
              0.3333333333333333,
              "#31688e"
             ],
             [
              0.4444444444444444,
              "#26828e"
             ],
             [
              0.5555555555555556,
              "#1f9e89"
             ],
             [
              0.6666666666666666,
              "#35b779"
             ],
             [
              0.7777777777777778,
              "#6ece58"
             ],
             [
              0.8888888888888888,
              "#b5de2b"
             ],
             [
              1,
              "#fde725"
             ]
            ],
            "type": "heatmap"
           }
          ],
          "heatmapgl": [
           {
            "colorbar": {
             "outlinewidth": 1,
             "tickcolor": "rgb(36,36,36)",
             "ticks": "outside"
            },
            "colorscale": [
             [
              0,
              "#440154"
             ],
             [
              0.1111111111111111,
              "#482878"
             ],
             [
              0.2222222222222222,
              "#3e4989"
             ],
             [
              0.3333333333333333,
              "#31688e"
             ],
             [
              0.4444444444444444,
              "#26828e"
             ],
             [
              0.5555555555555556,
              "#1f9e89"
             ],
             [
              0.6666666666666666,
              "#35b779"
             ],
             [
              0.7777777777777778,
              "#6ece58"
             ],
             [
              0.8888888888888888,
              "#b5de2b"
             ],
             [
              1,
              "#fde725"
             ]
            ],
            "type": "heatmapgl"
           }
          ],
          "histogram": [
           {
            "marker": {
             "line": {
              "color": "white",
              "width": 0.6
             }
            },
            "type": "histogram"
           }
          ],
          "histogram2d": [
           {
            "colorbar": {
             "outlinewidth": 1,
             "tickcolor": "rgb(36,36,36)",
             "ticks": "outside"
            },
            "colorscale": [
             [
              0,
              "#440154"
             ],
             [
              0.1111111111111111,
              "#482878"
             ],
             [
              0.2222222222222222,
              "#3e4989"
             ],
             [
              0.3333333333333333,
              "#31688e"
             ],
             [
              0.4444444444444444,
              "#26828e"
             ],
             [
              0.5555555555555556,
              "#1f9e89"
             ],
             [
              0.6666666666666666,
              "#35b779"
             ],
             [
              0.7777777777777778,
              "#6ece58"
             ],
             [
              0.8888888888888888,
              "#b5de2b"
             ],
             [
              1,
              "#fde725"
             ]
            ],
            "type": "histogram2d"
           }
          ],
          "histogram2dcontour": [
           {
            "colorbar": {
             "outlinewidth": 1,
             "tickcolor": "rgb(36,36,36)",
             "ticks": "outside"
            },
            "colorscale": [
             [
              0,
              "#440154"
             ],
             [
              0.1111111111111111,
              "#482878"
             ],
             [
              0.2222222222222222,
              "#3e4989"
             ],
             [
              0.3333333333333333,
              "#31688e"
             ],
             [
              0.4444444444444444,
              "#26828e"
             ],
             [
              0.5555555555555556,
              "#1f9e89"
             ],
             [
              0.6666666666666666,
              "#35b779"
             ],
             [
              0.7777777777777778,
              "#6ece58"
             ],
             [
              0.8888888888888888,
              "#b5de2b"
             ],
             [
              1,
              "#fde725"
             ]
            ],
            "type": "histogram2dcontour"
           }
          ],
          "mesh3d": [
           {
            "colorbar": {
             "outlinewidth": 1,
             "tickcolor": "rgb(36,36,36)",
             "ticks": "outside"
            },
            "type": "mesh3d"
           }
          ],
          "parcoords": [
           {
            "line": {
             "colorbar": {
              "outlinewidth": 1,
              "tickcolor": "rgb(36,36,36)",
              "ticks": "outside"
             }
            },
            "type": "parcoords"
           }
          ],
          "pie": [
           {
            "automargin": true,
            "type": "pie"
           }
          ],
          "scatter": [
           {
            "marker": {
             "colorbar": {
              "outlinewidth": 1,
              "tickcolor": "rgb(36,36,36)",
              "ticks": "outside"
             }
            },
            "type": "scatter"
           }
          ],
          "scatter3d": [
           {
            "line": {
             "colorbar": {
              "outlinewidth": 1,
              "tickcolor": "rgb(36,36,36)",
              "ticks": "outside"
             }
            },
            "marker": {
             "colorbar": {
              "outlinewidth": 1,
              "tickcolor": "rgb(36,36,36)",
              "ticks": "outside"
             }
            },
            "type": "scatter3d"
           }
          ],
          "scattercarpet": [
           {
            "marker": {
             "colorbar": {
              "outlinewidth": 1,
              "tickcolor": "rgb(36,36,36)",
              "ticks": "outside"
             }
            },
            "type": "scattercarpet"
           }
          ],
          "scattergeo": [
           {
            "marker": {
             "colorbar": {
              "outlinewidth": 1,
              "tickcolor": "rgb(36,36,36)",
              "ticks": "outside"
             }
            },
            "type": "scattergeo"
           }
          ],
          "scattergl": [
           {
            "marker": {
             "colorbar": {
              "outlinewidth": 1,
              "tickcolor": "rgb(36,36,36)",
              "ticks": "outside"
             }
            },
            "type": "scattergl"
           }
          ],
          "scattermapbox": [
           {
            "marker": {
             "colorbar": {
              "outlinewidth": 1,
              "tickcolor": "rgb(36,36,36)",
              "ticks": "outside"
             }
            },
            "type": "scattermapbox"
           }
          ],
          "scatterpolar": [
           {
            "marker": {
             "colorbar": {
              "outlinewidth": 1,
              "tickcolor": "rgb(36,36,36)",
              "ticks": "outside"
             }
            },
            "type": "scatterpolar"
           }
          ],
          "scatterpolargl": [
           {
            "marker": {
             "colorbar": {
              "outlinewidth": 1,
              "tickcolor": "rgb(36,36,36)",
              "ticks": "outside"
             }
            },
            "type": "scatterpolargl"
           }
          ],
          "scatterternary": [
           {
            "marker": {
             "colorbar": {
              "outlinewidth": 1,
              "tickcolor": "rgb(36,36,36)",
              "ticks": "outside"
             }
            },
            "type": "scatterternary"
           }
          ],
          "surface": [
           {
            "colorbar": {
             "outlinewidth": 1,
             "tickcolor": "rgb(36,36,36)",
             "ticks": "outside"
            },
            "colorscale": [
             [
              0,
              "#440154"
             ],
             [
              0.1111111111111111,
              "#482878"
             ],
             [
              0.2222222222222222,
              "#3e4989"
             ],
             [
              0.3333333333333333,
              "#31688e"
             ],
             [
              0.4444444444444444,
              "#26828e"
             ],
             [
              0.5555555555555556,
              "#1f9e89"
             ],
             [
              0.6666666666666666,
              "#35b779"
             ],
             [
              0.7777777777777778,
              "#6ece58"
             ],
             [
              0.8888888888888888,
              "#b5de2b"
             ],
             [
              1,
              "#fde725"
             ]
            ],
            "type": "surface"
           }
          ],
          "table": [
           {
            "cells": {
             "fill": {
              "color": "rgb(237,237,237)"
             },
             "line": {
              "color": "white"
             }
            },
            "header": {
             "fill": {
              "color": "rgb(217,217,217)"
             },
             "line": {
              "color": "white"
             }
            },
            "type": "table"
           }
          ]
         },
         "layout": {
          "annotationdefaults": {
           "arrowhead": 0,
           "arrowwidth": 1
          },
          "autotypenumbers": "strict",
          "coloraxis": {
           "colorbar": {
            "outlinewidth": 1,
            "tickcolor": "rgb(36,36,36)",
            "ticks": "outside"
           }
          },
          "colorscale": {
           "diverging": [
            [
             0,
             "rgb(103,0,31)"
            ],
            [
             0.1,
             "rgb(178,24,43)"
            ],
            [
             0.2,
             "rgb(214,96,77)"
            ],
            [
             0.3,
             "rgb(244,165,130)"
            ],
            [
             0.4,
             "rgb(253,219,199)"
            ],
            [
             0.5,
             "rgb(247,247,247)"
            ],
            [
             0.6,
             "rgb(209,229,240)"
            ],
            [
             0.7,
             "rgb(146,197,222)"
            ],
            [
             0.8,
             "rgb(67,147,195)"
            ],
            [
             0.9,
             "rgb(33,102,172)"
            ],
            [
             1,
             "rgb(5,48,97)"
            ]
           ],
           "sequential": [
            [
             0,
             "#440154"
            ],
            [
             0.1111111111111111,
             "#482878"
            ],
            [
             0.2222222222222222,
             "#3e4989"
            ],
            [
             0.3333333333333333,
             "#31688e"
            ],
            [
             0.4444444444444444,
             "#26828e"
            ],
            [
             0.5555555555555556,
             "#1f9e89"
            ],
            [
             0.6666666666666666,
             "#35b779"
            ],
            [
             0.7777777777777778,
             "#6ece58"
            ],
            [
             0.8888888888888888,
             "#b5de2b"
            ],
            [
             1,
             "#fde725"
            ]
           ],
           "sequentialminus": [
            [
             0,
             "#440154"
            ],
            [
             0.1111111111111111,
             "#482878"
            ],
            [
             0.2222222222222222,
             "#3e4989"
            ],
            [
             0.3333333333333333,
             "#31688e"
            ],
            [
             0.4444444444444444,
             "#26828e"
            ],
            [
             0.5555555555555556,
             "#1f9e89"
            ],
            [
             0.6666666666666666,
             "#35b779"
            ],
            [
             0.7777777777777778,
             "#6ece58"
            ],
            [
             0.8888888888888888,
             "#b5de2b"
            ],
            [
             1,
             "#fde725"
            ]
           ]
          },
          "colorway": [
           "#1F77B4",
           "#FF7F0E",
           "#2CA02C",
           "#D62728",
           "#9467BD",
           "#8C564B",
           "#E377C2",
           "#7F7F7F",
           "#BCBD22",
           "#17BECF"
          ],
          "font": {
           "color": "rgb(36,36,36)"
          },
          "geo": {
           "bgcolor": "white",
           "lakecolor": "white",
           "landcolor": "white",
           "showlakes": true,
           "showland": true,
           "subunitcolor": "white"
          },
          "hoverlabel": {
           "align": "left"
          },
          "hovermode": "closest",
          "mapbox": {
           "style": "light"
          },
          "paper_bgcolor": "white",
          "plot_bgcolor": "white",
          "polar": {
           "angularaxis": {
            "gridcolor": "rgb(232,232,232)",
            "linecolor": "rgb(36,36,36)",
            "showgrid": false,
            "showline": true,
            "ticks": "outside"
           },
           "bgcolor": "white",
           "radialaxis": {
            "gridcolor": "rgb(232,232,232)",
            "linecolor": "rgb(36,36,36)",
            "showgrid": false,
            "showline": true,
            "ticks": "outside"
           }
          },
          "scene": {
           "xaxis": {
            "backgroundcolor": "white",
            "gridcolor": "rgb(232,232,232)",
            "gridwidth": 2,
            "linecolor": "rgb(36,36,36)",
            "showbackground": true,
            "showgrid": false,
            "showline": true,
            "ticks": "outside",
            "zeroline": false,
            "zerolinecolor": "rgb(36,36,36)"
           },
           "yaxis": {
            "backgroundcolor": "white",
            "gridcolor": "rgb(232,232,232)",
            "gridwidth": 2,
            "linecolor": "rgb(36,36,36)",
            "showbackground": true,
            "showgrid": false,
            "showline": true,
            "ticks": "outside",
            "zeroline": false,
            "zerolinecolor": "rgb(36,36,36)"
           },
           "zaxis": {
            "backgroundcolor": "white",
            "gridcolor": "rgb(232,232,232)",
            "gridwidth": 2,
            "linecolor": "rgb(36,36,36)",
            "showbackground": true,
            "showgrid": false,
            "showline": true,
            "ticks": "outside",
            "zeroline": false,
            "zerolinecolor": "rgb(36,36,36)"
           }
          },
          "shapedefaults": {
           "fillcolor": "black",
           "line": {
            "width": 0
           },
           "opacity": 0.3
          },
          "ternary": {
           "aaxis": {
            "gridcolor": "rgb(232,232,232)",
            "linecolor": "rgb(36,36,36)",
            "showgrid": false,
            "showline": true,
            "ticks": "outside"
           },
           "baxis": {
            "gridcolor": "rgb(232,232,232)",
            "linecolor": "rgb(36,36,36)",
            "showgrid": false,
            "showline": true,
            "ticks": "outside"
           },
           "bgcolor": "white",
           "caxis": {
            "gridcolor": "rgb(232,232,232)",
            "linecolor": "rgb(36,36,36)",
            "showgrid": false,
            "showline": true,
            "ticks": "outside"
           }
          },
          "title": {
           "x": 0.05
          },
          "xaxis": {
           "automargin": true,
           "gridcolor": "rgb(232,232,232)",
           "linecolor": "rgb(36,36,36)",
           "showgrid": false,
           "showline": true,
           "ticks": "outside",
           "title": {
            "standoff": 15
           },
           "zeroline": false,
           "zerolinecolor": "rgb(36,36,36)"
          },
          "yaxis": {
           "automargin": true,
           "gridcolor": "rgb(232,232,232)",
           "linecolor": "rgb(36,36,36)",
           "showgrid": false,
           "showline": true,
           "ticks": "outside",
           "title": {
            "standoff": 15
           },
           "zeroline": false,
           "zerolinecolor": "rgb(36,36,36)"
          }
         }
        },
        "title": {
         "text": "Number of activities by patient"
        },
        "width": 700,
        "xaxis": {
         "anchor": "y",
         "domain": [
          0,
          1
         ],
         "title": {
          "text": "N Activities"
         }
        },
        "yaxis": {
         "anchor": "x",
         "domain": [
          0,
          1
         ],
         "title": {
          "text": ""
         }
        }
       }
      }
     },
     "metadata": {},
     "output_type": "display_data"
    }
   ],
   "source": [
    "n_activities = log.groupby(\"case:concept:name\")[\"concept:name\"].count()\n",
    "pe.box(n_activities,\n",
    "    title = \"Number of activities by patient\",\n",
    "    width = 700,\n",
    "    height = 400,\n",
    "    template = \"simple_white\",\n",
    "    orientation=\"h\",\n",
    "    labels = {\"value\" : \"N Activities\", \"variable\" : \"\"}\n",
    "    )"
   ]
  },
  {
   "cell_type": "markdown",
   "metadata": {},
   "source": [
    "## Distribution of activities"
   ]
  },
  {
   "cell_type": "code",
   "execution_count": 7,
   "metadata": {},
   "outputs": [
    {
     "data": {
      "text/html": [
       "<div>\n",
       "<style scoped>\n",
       "    .dataframe tbody tr th:only-of-type {\n",
       "        vertical-align: middle;\n",
       "    }\n",
       "\n",
       "    .dataframe tbody tr th {\n",
       "        vertical-align: top;\n",
       "    }\n",
       "\n",
       "    .dataframe thead th {\n",
       "        text-align: right;\n",
       "    }\n",
       "</style>\n",
       "<table border=\"1\" class=\"dataframe\">\n",
       "  <thead>\n",
       "    <tr style=\"text-align: right;\">\n",
       "      <th></th>\n",
       "      <th>concept:name</th>\n",
       "    </tr>\n",
       "  </thead>\n",
       "  <tbody>\n",
       "    <tr>\n",
       "      <th>Internamento</th>\n",
       "      <td>98.6</td>\n",
       "    </tr>\n",
       "    <tr>\n",
       "      <th>Cirurgia Primária</th>\n",
       "      <td>96.6</td>\n",
       "    </tr>\n",
       "    <tr>\n",
       "      <th>Fisioterapia</th>\n",
       "      <td>92.0</td>\n",
       "    </tr>\n",
       "    <tr>\n",
       "      <th>Consulta Ortopedia</th>\n",
       "      <td>89.2</td>\n",
       "    </tr>\n",
       "    <tr>\n",
       "      <th>Rx Anca</th>\n",
       "      <td>84.1</td>\n",
       "    </tr>\n",
       "    <tr>\n",
       "      <th>Rx Bacia</th>\n",
       "      <td>70.8</td>\n",
       "    </tr>\n",
       "    <tr>\n",
       "      <th>Análises</th>\n",
       "      <td>52.2</td>\n",
       "    </tr>\n",
       "    <tr>\n",
       "      <th>Consulta Anestesia</th>\n",
       "      <td>44.5</td>\n",
       "    </tr>\n",
       "    <tr>\n",
       "      <th>Cirurgia Complementar</th>\n",
       "      <td>10.8</td>\n",
       "    </tr>\n",
       "    <tr>\n",
       "      <th>Infiltração</th>\n",
       "      <td>4.6</td>\n",
       "    </tr>\n",
       "  </tbody>\n",
       "</table>\n",
       "</div>"
      ],
      "text/plain": [
       "                       concept:name\n",
       "Internamento                   98.6\n",
       "Cirurgia Primária              96.6\n",
       "Fisioterapia                   92.0\n",
       "Consulta Ortopedia             89.2\n",
       "Rx Anca                        84.1\n",
       "Rx Bacia                       70.8\n",
       "Análises                       52.2\n",
       "Consulta Anestesia             44.5\n",
       "Cirurgia Complementar          10.8\n",
       "Infiltração                     4.6"
      ]
     },
     "execution_count": 7,
     "metadata": {},
     "output_type": "execute_result"
    }
   ],
   "source": [
    "log3=log[[\"case:concept:name\",\"concept:name\"]]\n",
    "gb=log3.value_counts().to_frame(\"counts\").reset_index()\n",
    "d_act=gb[\"concept:name\"].value_counts().head(10).to_frame()\n",
    "d_act[\"concept:name\"]=d_act[\"concept:name\"].apply(lambda x : (x*100)/log[\"case:concept:name\"].nunique())\n",
    "d_act[\"concept:name\"]=d_act[\"concept:name\"].round(decimals=1)\n",
    "d_act"
   ]
  },
  {
   "cell_type": "code",
   "execution_count": 8,
   "metadata": {},
   "outputs": [
    {
     "data": {
      "application/vnd.plotly.v1+json": {
       "config": {
        "plotlyServerURL": "https://plot.ly"
       },
       "data": [
        {
         "alignmentgroup": "True",
         "hovertemplate": "variable=concept:name<br>=%{x}<br>%=%{y}<extra></extra>",
         "legendgroup": "concept:name",
         "marker": {
          "color": "Teal"
         },
         "name": "concept:name",
         "offsetgroup": "concept:name",
         "orientation": "v",
         "showlegend": true,
         "textposition": "auto",
         "type": "bar",
         "x": [
          "Internamento",
          "Cirurgia Primária",
          "Fisioterapia",
          "Consulta Ortopedia",
          "Rx Anca",
          "Rx Bacia",
          "Análises",
          "Consulta Anestesia",
          "Cirurgia Complementar",
          "Infiltração"
         ],
         "xaxis": "x",
         "y": [
          98.6,
          96.6,
          92,
          89.2,
          84.1,
          70.8,
          52.2,
          44.5,
          10.8,
          4.6
         ],
         "yaxis": "y"
        }
       ],
       "layout": {
        "barmode": "relative",
        "height": 400,
        "legend": {
         "title": {
          "text": "variable"
         },
         "tracegroupgap": 0
        },
        "showlegend": false,
        "template": {
         "data": {
          "bar": [
           {
            "error_x": {
             "color": "rgb(36,36,36)"
            },
            "error_y": {
             "color": "rgb(36,36,36)"
            },
            "marker": {
             "line": {
              "color": "white",
              "width": 0.5
             }
            },
            "type": "bar"
           }
          ],
          "barpolar": [
           {
            "marker": {
             "line": {
              "color": "white",
              "width": 0.5
             }
            },
            "type": "barpolar"
           }
          ],
          "carpet": [
           {
            "aaxis": {
             "endlinecolor": "rgb(36,36,36)",
             "gridcolor": "white",
             "linecolor": "white",
             "minorgridcolor": "white",
             "startlinecolor": "rgb(36,36,36)"
            },
            "baxis": {
             "endlinecolor": "rgb(36,36,36)",
             "gridcolor": "white",
             "linecolor": "white",
             "minorgridcolor": "white",
             "startlinecolor": "rgb(36,36,36)"
            },
            "type": "carpet"
           }
          ],
          "choropleth": [
           {
            "colorbar": {
             "outlinewidth": 1,
             "tickcolor": "rgb(36,36,36)",
             "ticks": "outside"
            },
            "type": "choropleth"
           }
          ],
          "contour": [
           {
            "colorbar": {
             "outlinewidth": 1,
             "tickcolor": "rgb(36,36,36)",
             "ticks": "outside"
            },
            "colorscale": [
             [
              0,
              "#440154"
             ],
             [
              0.1111111111111111,
              "#482878"
             ],
             [
              0.2222222222222222,
              "#3e4989"
             ],
             [
              0.3333333333333333,
              "#31688e"
             ],
             [
              0.4444444444444444,
              "#26828e"
             ],
             [
              0.5555555555555556,
              "#1f9e89"
             ],
             [
              0.6666666666666666,
              "#35b779"
             ],
             [
              0.7777777777777778,
              "#6ece58"
             ],
             [
              0.8888888888888888,
              "#b5de2b"
             ],
             [
              1,
              "#fde725"
             ]
            ],
            "type": "contour"
           }
          ],
          "contourcarpet": [
           {
            "colorbar": {
             "outlinewidth": 1,
             "tickcolor": "rgb(36,36,36)",
             "ticks": "outside"
            },
            "type": "contourcarpet"
           }
          ],
          "heatmap": [
           {
            "colorbar": {
             "outlinewidth": 1,
             "tickcolor": "rgb(36,36,36)",
             "ticks": "outside"
            },
            "colorscale": [
             [
              0,
              "#440154"
             ],
             [
              0.1111111111111111,
              "#482878"
             ],
             [
              0.2222222222222222,
              "#3e4989"
             ],
             [
              0.3333333333333333,
              "#31688e"
             ],
             [
              0.4444444444444444,
              "#26828e"
             ],
             [
              0.5555555555555556,
              "#1f9e89"
             ],
             [
              0.6666666666666666,
              "#35b779"
             ],
             [
              0.7777777777777778,
              "#6ece58"
             ],
             [
              0.8888888888888888,
              "#b5de2b"
             ],
             [
              1,
              "#fde725"
             ]
            ],
            "type": "heatmap"
           }
          ],
          "heatmapgl": [
           {
            "colorbar": {
             "outlinewidth": 1,
             "tickcolor": "rgb(36,36,36)",
             "ticks": "outside"
            },
            "colorscale": [
             [
              0,
              "#440154"
             ],
             [
              0.1111111111111111,
              "#482878"
             ],
             [
              0.2222222222222222,
              "#3e4989"
             ],
             [
              0.3333333333333333,
              "#31688e"
             ],
             [
              0.4444444444444444,
              "#26828e"
             ],
             [
              0.5555555555555556,
              "#1f9e89"
             ],
             [
              0.6666666666666666,
              "#35b779"
             ],
             [
              0.7777777777777778,
              "#6ece58"
             ],
             [
              0.8888888888888888,
              "#b5de2b"
             ],
             [
              1,
              "#fde725"
             ]
            ],
            "type": "heatmapgl"
           }
          ],
          "histogram": [
           {
            "marker": {
             "line": {
              "color": "white",
              "width": 0.6
             }
            },
            "type": "histogram"
           }
          ],
          "histogram2d": [
           {
            "colorbar": {
             "outlinewidth": 1,
             "tickcolor": "rgb(36,36,36)",
             "ticks": "outside"
            },
            "colorscale": [
             [
              0,
              "#440154"
             ],
             [
              0.1111111111111111,
              "#482878"
             ],
             [
              0.2222222222222222,
              "#3e4989"
             ],
             [
              0.3333333333333333,
              "#31688e"
             ],
             [
              0.4444444444444444,
              "#26828e"
             ],
             [
              0.5555555555555556,
              "#1f9e89"
             ],
             [
              0.6666666666666666,
              "#35b779"
             ],
             [
              0.7777777777777778,
              "#6ece58"
             ],
             [
              0.8888888888888888,
              "#b5de2b"
             ],
             [
              1,
              "#fde725"
             ]
            ],
            "type": "histogram2d"
           }
          ],
          "histogram2dcontour": [
           {
            "colorbar": {
             "outlinewidth": 1,
             "tickcolor": "rgb(36,36,36)",
             "ticks": "outside"
            },
            "colorscale": [
             [
              0,
              "#440154"
             ],
             [
              0.1111111111111111,
              "#482878"
             ],
             [
              0.2222222222222222,
              "#3e4989"
             ],
             [
              0.3333333333333333,
              "#31688e"
             ],
             [
              0.4444444444444444,
              "#26828e"
             ],
             [
              0.5555555555555556,
              "#1f9e89"
             ],
             [
              0.6666666666666666,
              "#35b779"
             ],
             [
              0.7777777777777778,
              "#6ece58"
             ],
             [
              0.8888888888888888,
              "#b5de2b"
             ],
             [
              1,
              "#fde725"
             ]
            ],
            "type": "histogram2dcontour"
           }
          ],
          "mesh3d": [
           {
            "colorbar": {
             "outlinewidth": 1,
             "tickcolor": "rgb(36,36,36)",
             "ticks": "outside"
            },
            "type": "mesh3d"
           }
          ],
          "parcoords": [
           {
            "line": {
             "colorbar": {
              "outlinewidth": 1,
              "tickcolor": "rgb(36,36,36)",
              "ticks": "outside"
             }
            },
            "type": "parcoords"
           }
          ],
          "pie": [
           {
            "automargin": true,
            "type": "pie"
           }
          ],
          "scatter": [
           {
            "marker": {
             "colorbar": {
              "outlinewidth": 1,
              "tickcolor": "rgb(36,36,36)",
              "ticks": "outside"
             }
            },
            "type": "scatter"
           }
          ],
          "scatter3d": [
           {
            "line": {
             "colorbar": {
              "outlinewidth": 1,
              "tickcolor": "rgb(36,36,36)",
              "ticks": "outside"
             }
            },
            "marker": {
             "colorbar": {
              "outlinewidth": 1,
              "tickcolor": "rgb(36,36,36)",
              "ticks": "outside"
             }
            },
            "type": "scatter3d"
           }
          ],
          "scattercarpet": [
           {
            "marker": {
             "colorbar": {
              "outlinewidth": 1,
              "tickcolor": "rgb(36,36,36)",
              "ticks": "outside"
             }
            },
            "type": "scattercarpet"
           }
          ],
          "scattergeo": [
           {
            "marker": {
             "colorbar": {
              "outlinewidth": 1,
              "tickcolor": "rgb(36,36,36)",
              "ticks": "outside"
             }
            },
            "type": "scattergeo"
           }
          ],
          "scattergl": [
           {
            "marker": {
             "colorbar": {
              "outlinewidth": 1,
              "tickcolor": "rgb(36,36,36)",
              "ticks": "outside"
             }
            },
            "type": "scattergl"
           }
          ],
          "scattermapbox": [
           {
            "marker": {
             "colorbar": {
              "outlinewidth": 1,
              "tickcolor": "rgb(36,36,36)",
              "ticks": "outside"
             }
            },
            "type": "scattermapbox"
           }
          ],
          "scatterpolar": [
           {
            "marker": {
             "colorbar": {
              "outlinewidth": 1,
              "tickcolor": "rgb(36,36,36)",
              "ticks": "outside"
             }
            },
            "type": "scatterpolar"
           }
          ],
          "scatterpolargl": [
           {
            "marker": {
             "colorbar": {
              "outlinewidth": 1,
              "tickcolor": "rgb(36,36,36)",
              "ticks": "outside"
             }
            },
            "type": "scatterpolargl"
           }
          ],
          "scatterternary": [
           {
            "marker": {
             "colorbar": {
              "outlinewidth": 1,
              "tickcolor": "rgb(36,36,36)",
              "ticks": "outside"
             }
            },
            "type": "scatterternary"
           }
          ],
          "surface": [
           {
            "colorbar": {
             "outlinewidth": 1,
             "tickcolor": "rgb(36,36,36)",
             "ticks": "outside"
            },
            "colorscale": [
             [
              0,
              "#440154"
             ],
             [
              0.1111111111111111,
              "#482878"
             ],
             [
              0.2222222222222222,
              "#3e4989"
             ],
             [
              0.3333333333333333,
              "#31688e"
             ],
             [
              0.4444444444444444,
              "#26828e"
             ],
             [
              0.5555555555555556,
              "#1f9e89"
             ],
             [
              0.6666666666666666,
              "#35b779"
             ],
             [
              0.7777777777777778,
              "#6ece58"
             ],
             [
              0.8888888888888888,
              "#b5de2b"
             ],
             [
              1,
              "#fde725"
             ]
            ],
            "type": "surface"
           }
          ],
          "table": [
           {
            "cells": {
             "fill": {
              "color": "rgb(237,237,237)"
             },
             "line": {
              "color": "white"
             }
            },
            "header": {
             "fill": {
              "color": "rgb(217,217,217)"
             },
             "line": {
              "color": "white"
             }
            },
            "type": "table"
           }
          ]
         },
         "layout": {
          "annotationdefaults": {
           "arrowhead": 0,
           "arrowwidth": 1
          },
          "autotypenumbers": "strict",
          "coloraxis": {
           "colorbar": {
            "outlinewidth": 1,
            "tickcolor": "rgb(36,36,36)",
            "ticks": "outside"
           }
          },
          "colorscale": {
           "diverging": [
            [
             0,
             "rgb(103,0,31)"
            ],
            [
             0.1,
             "rgb(178,24,43)"
            ],
            [
             0.2,
             "rgb(214,96,77)"
            ],
            [
             0.3,
             "rgb(244,165,130)"
            ],
            [
             0.4,
             "rgb(253,219,199)"
            ],
            [
             0.5,
             "rgb(247,247,247)"
            ],
            [
             0.6,
             "rgb(209,229,240)"
            ],
            [
             0.7,
             "rgb(146,197,222)"
            ],
            [
             0.8,
             "rgb(67,147,195)"
            ],
            [
             0.9,
             "rgb(33,102,172)"
            ],
            [
             1,
             "rgb(5,48,97)"
            ]
           ],
           "sequential": [
            [
             0,
             "#440154"
            ],
            [
             0.1111111111111111,
             "#482878"
            ],
            [
             0.2222222222222222,
             "#3e4989"
            ],
            [
             0.3333333333333333,
             "#31688e"
            ],
            [
             0.4444444444444444,
             "#26828e"
            ],
            [
             0.5555555555555556,
             "#1f9e89"
            ],
            [
             0.6666666666666666,
             "#35b779"
            ],
            [
             0.7777777777777778,
             "#6ece58"
            ],
            [
             0.8888888888888888,
             "#b5de2b"
            ],
            [
             1,
             "#fde725"
            ]
           ],
           "sequentialminus": [
            [
             0,
             "#440154"
            ],
            [
             0.1111111111111111,
             "#482878"
            ],
            [
             0.2222222222222222,
             "#3e4989"
            ],
            [
             0.3333333333333333,
             "#31688e"
            ],
            [
             0.4444444444444444,
             "#26828e"
            ],
            [
             0.5555555555555556,
             "#1f9e89"
            ],
            [
             0.6666666666666666,
             "#35b779"
            ],
            [
             0.7777777777777778,
             "#6ece58"
            ],
            [
             0.8888888888888888,
             "#b5de2b"
            ],
            [
             1,
             "#fde725"
            ]
           ]
          },
          "colorway": [
           "#1F77B4",
           "#FF7F0E",
           "#2CA02C",
           "#D62728",
           "#9467BD",
           "#8C564B",
           "#E377C2",
           "#7F7F7F",
           "#BCBD22",
           "#17BECF"
          ],
          "font": {
           "color": "rgb(36,36,36)"
          },
          "geo": {
           "bgcolor": "white",
           "lakecolor": "white",
           "landcolor": "white",
           "showlakes": true,
           "showland": true,
           "subunitcolor": "white"
          },
          "hoverlabel": {
           "align": "left"
          },
          "hovermode": "closest",
          "mapbox": {
           "style": "light"
          },
          "paper_bgcolor": "white",
          "plot_bgcolor": "white",
          "polar": {
           "angularaxis": {
            "gridcolor": "rgb(232,232,232)",
            "linecolor": "rgb(36,36,36)",
            "showgrid": false,
            "showline": true,
            "ticks": "outside"
           },
           "bgcolor": "white",
           "radialaxis": {
            "gridcolor": "rgb(232,232,232)",
            "linecolor": "rgb(36,36,36)",
            "showgrid": false,
            "showline": true,
            "ticks": "outside"
           }
          },
          "scene": {
           "xaxis": {
            "backgroundcolor": "white",
            "gridcolor": "rgb(232,232,232)",
            "gridwidth": 2,
            "linecolor": "rgb(36,36,36)",
            "showbackground": true,
            "showgrid": false,
            "showline": true,
            "ticks": "outside",
            "zeroline": false,
            "zerolinecolor": "rgb(36,36,36)"
           },
           "yaxis": {
            "backgroundcolor": "white",
            "gridcolor": "rgb(232,232,232)",
            "gridwidth": 2,
            "linecolor": "rgb(36,36,36)",
            "showbackground": true,
            "showgrid": false,
            "showline": true,
            "ticks": "outside",
            "zeroline": false,
            "zerolinecolor": "rgb(36,36,36)"
           },
           "zaxis": {
            "backgroundcolor": "white",
            "gridcolor": "rgb(232,232,232)",
            "gridwidth": 2,
            "linecolor": "rgb(36,36,36)",
            "showbackground": true,
            "showgrid": false,
            "showline": true,
            "ticks": "outside",
            "zeroline": false,
            "zerolinecolor": "rgb(36,36,36)"
           }
          },
          "shapedefaults": {
           "fillcolor": "black",
           "line": {
            "width": 0
           },
           "opacity": 0.3
          },
          "ternary": {
           "aaxis": {
            "gridcolor": "rgb(232,232,232)",
            "linecolor": "rgb(36,36,36)",
            "showgrid": false,
            "showline": true,
            "ticks": "outside"
           },
           "baxis": {
            "gridcolor": "rgb(232,232,232)",
            "linecolor": "rgb(36,36,36)",
            "showgrid": false,
            "showline": true,
            "ticks": "outside"
           },
           "bgcolor": "white",
           "caxis": {
            "gridcolor": "rgb(232,232,232)",
            "linecolor": "rgb(36,36,36)",
            "showgrid": false,
            "showline": true,
            "ticks": "outside"
           }
          },
          "title": {
           "x": 0.05
          },
          "xaxis": {
           "automargin": true,
           "gridcolor": "rgb(232,232,232)",
           "linecolor": "rgb(36,36,36)",
           "showgrid": false,
           "showline": true,
           "ticks": "outside",
           "title": {
            "standoff": 15
           },
           "zeroline": false,
           "zerolinecolor": "rgb(36,36,36)"
          },
          "yaxis": {
           "automargin": true,
           "gridcolor": "rgb(232,232,232)",
           "linecolor": "rgb(36,36,36)",
           "showgrid": false,
           "showline": true,
           "ticks": "outside",
           "title": {
            "standoff": 15
           },
           "zeroline": false,
           "zerolinecolor": "rgb(36,36,36)"
          }
         }
        },
        "title": {
         "text": "Actividades mais comuns por doente"
        },
        "width": 700,
        "xaxis": {
         "anchor": "y",
         "domain": [
          0,
          1
         ],
         "title": {
          "text": ""
         }
        },
        "yaxis": {
         "anchor": "x",
         "domain": [
          0,
          1
         ],
         "title": {
          "text": "%"
         }
        }
       }
      }
     },
     "metadata": {},
     "output_type": "display_data"
    }
   ],
   "source": [
    "fig2=pe.bar(d_act,\n",
    "    template=\"simple_white\",\n",
    "    width=700,\n",
    "    height=400,\n",
    "    title=\"Actividades mais comuns por doente\",\n",
    "    labels={\"value\":\"%\",\"index\":\"\"},\n",
    "    color_discrete_sequence=[\"Teal\"],\n",
    "    )\n",
    "fig2.update_layout(showlegend=False)"
   ]
  },
  {
   "cell_type": "markdown",
   "metadata": {},
   "source": [
    "## Distribution of Traces"
   ]
  },
  {
   "cell_type": "code",
   "execution_count": 9,
   "metadata": {},
   "outputs": [
    {
     "data": {
      "text/plain": [
       "<StringArray>\n",
       "['100387160.0',    '101152.0',    '102903.0',    '105589.0',    '105666.0',\n",
       " '106773224.0',    '107209.0',    '107438.0',    '107570.0',    '111301.0',\n",
       " ...\n",
       "     '88725.0',     '90375.0',     '91192.0',     '92732.0',     '95240.0',\n",
       "     '98201.0',     '98364.0',     '98516.0',     '98631.0',     '99504.0']\n",
       "Length: 712, dtype: string"
      ]
     },
     "execution_count": 9,
     "metadata": {},
     "output_type": "execute_result"
    }
   ],
   "source": [
    "list_cases = log[\"case:concept:name\"].unique()\n",
    "list_cases"
   ]
  },
  {
   "cell_type": "code",
   "execution_count": 10,
   "metadata": {},
   "outputs": [
    {
     "data": {
      "text/html": [
       "<div>\n",
       "<style scoped>\n",
       "    .dataframe tbody tr th:only-of-type {\n",
       "        vertical-align: middle;\n",
       "    }\n",
       "\n",
       "    .dataframe tbody tr th {\n",
       "        vertical-align: top;\n",
       "    }\n",
       "\n",
       "    .dataframe thead th {\n",
       "        text-align: right;\n",
       "    }\n",
       "</style>\n",
       "<table border=\"1\" class=\"dataframe\">\n",
       "  <thead>\n",
       "    <tr style=\"text-align: right;\">\n",
       "      <th></th>\n",
       "      <th>index</th>\n",
       "      <th>Trace</th>\n",
       "    </tr>\n",
       "  </thead>\n",
       "  <tbody>\n",
       "    <tr>\n",
       "      <th>0</th>\n",
       "      <td>Cirurgia Primária,Internamento,Rx Anca,Fisiote...</td>\n",
       "      <td>2.5</td>\n",
       "    </tr>\n",
       "    <tr>\n",
       "      <th>1</th>\n",
       "      <td>Cirurgia Primária,Internamento,Fisioterapia</td>\n",
       "      <td>1.4</td>\n",
       "    </tr>\n",
       "    <tr>\n",
       "      <th>2</th>\n",
       "      <td>Consulta Ortopedia,Cirurgia Primária,Intername...</td>\n",
       "      <td>1.1</td>\n",
       "    </tr>\n",
       "    <tr>\n",
       "      <th>3</th>\n",
       "      <td>Consulta Ortopedia,Cirurgia Primária,Intername...</td>\n",
       "      <td>1.0</td>\n",
       "    </tr>\n",
       "    <tr>\n",
       "      <th>4</th>\n",
       "      <td>Consulta Ortopedia,Cirurgia Primária,Intername...</td>\n",
       "      <td>0.8</td>\n",
       "    </tr>\n",
       "    <tr>\n",
       "      <th>5</th>\n",
       "      <td>Consulta Ortopedia,Análises,Cirurgia Primária,...</td>\n",
       "      <td>0.7</td>\n",
       "    </tr>\n",
       "    <tr>\n",
       "      <th>6</th>\n",
       "      <td>Consulta Ortopedia,Análises,Análises,Cirurgia ...</td>\n",
       "      <td>0.7</td>\n",
       "    </tr>\n",
       "    <tr>\n",
       "      <th>7</th>\n",
       "      <td>Consulta Ortopedia,Análises,Cirurgia Primária,...</td>\n",
       "      <td>0.7</td>\n",
       "    </tr>\n",
       "    <tr>\n",
       "      <th>8</th>\n",
       "      <td>Rx Anca,Rx Bacia,Consulta Ortopedia,Cirurgia P...</td>\n",
       "      <td>0.7</td>\n",
       "    </tr>\n",
       "    <tr>\n",
       "      <th>9</th>\n",
       "      <td>Rx Anca,Rx Bacia,Consulta Ortopedia,Cirurgia P...</td>\n",
       "      <td>0.6</td>\n",
       "    </tr>\n",
       "  </tbody>\n",
       "</table>\n",
       "</div>"
      ],
      "text/plain": [
       "                                               index  Trace\n",
       "0  Cirurgia Primária,Internamento,Rx Anca,Fisiote...    2.5\n",
       "1        Cirurgia Primária,Internamento,Fisioterapia    1.4\n",
       "2  Consulta Ortopedia,Cirurgia Primária,Intername...    1.1\n",
       "3  Consulta Ortopedia,Cirurgia Primária,Intername...    1.0\n",
       "4  Consulta Ortopedia,Cirurgia Primária,Intername...    0.8\n",
       "5  Consulta Ortopedia,Análises,Cirurgia Primária,...    0.7\n",
       "6  Consulta Ortopedia,Análises,Análises,Cirurgia ...    0.7\n",
       "7  Consulta Ortopedia,Análises,Cirurgia Primária,...    0.7\n",
       "8  Rx Anca,Rx Bacia,Consulta Ortopedia,Cirurgia P...    0.7\n",
       "9  Rx Anca,Rx Bacia,Consulta Ortopedia,Cirurgia P...    0.6"
      ]
     },
     "execution_count": 10,
     "metadata": {},
     "output_type": "execute_result"
    }
   ],
   "source": [
    "Traces = []\n",
    "ids = []\n",
    "for i in list_cases:\n",
    "    a = log.loc[log[\"case:concept:name\"] == \"{}\".format(i)].sort_values([\"time:timestamp\"])\n",
    "    b = a[\"concept:name\"].str.cat(sep=\",\")\n",
    "    ids.append(i)\n",
    "    Traces.append(b)\n",
    "trace_db = pd.DataFrame({\"ID\":ids,\"Trace\":Traces})\n",
    "\n",
    "trace_db = trace_db.Trace.value_counts().head(10).to_frame().reset_index()\n",
    "trace_db.Trace = trace_db.Trace.apply(lambda x : (x*100)/log[\"case:concept:name\"].nunique())\n",
    "trace_db.Trace = trace_db.Trace.round(decimals=1)\n",
    "trace_db\n",
    "\n"
   ]
  },
  {
   "cell_type": "code",
   "execution_count": 11,
   "metadata": {},
   "outputs": [
    {
     "data": {
      "application/vnd.plotly.v1+json": {
       "config": {
        "plotlyServerURL": "https://plot.ly"
       },
       "data": [
        {
         "alignmentgroup": "True",
         "hovertemplate": "%=%{text}<br>=%{y}<extra></extra>",
         "legendgroup": "",
         "marker": {
          "color": "Teal"
         },
         "name": "",
         "offsetgroup": "",
         "orientation": "h",
         "showlegend": false,
         "text": [
          2.5,
          1.4,
          1.1,
          1,
          0.8,
          0.7,
          0.7,
          0.7,
          0.7,
          0.6
         ],
         "textposition": "outside",
         "type": "bar",
         "x": [
          2.5,
          1.4,
          1.1,
          1,
          0.8,
          0.7,
          0.7,
          0.7,
          0.7,
          0.6
         ],
         "xaxis": "x",
         "y": [
          "Cirurgia Primária,Internamento,Rx Anca,Fisioterapia",
          "Cirurgia Primária,Internamento,Fisioterapia",
          "Consulta Ortopedia,Cirurgia Primária,Internamento,Rx Anca,Fisioterapia,Consulta Ortopedia",
          "Consulta Ortopedia,Cirurgia Primária,Internamento,Rx Anca,Fisioterapia",
          "Consulta Ortopedia,Cirurgia Primária,Internamento,Fisioterapia",
          "Consulta Ortopedia,Análises,Cirurgia Primária,Internamento,Rx Anca,Fisioterapia,Consulta Ortopedia",
          "Consulta Ortopedia,Análises,Análises,Cirurgia Primária,Internamento,Fisioterapia",
          "Consulta Ortopedia,Análises,Cirurgia Primária,Internamento,Rx Anca,Fisioterapia",
          "Rx Anca,Rx Bacia,Consulta Ortopedia,Cirurgia Primária,Internamento,Rx Anca,Fisioterapia,Rx Anca,Rx Bacia,Consulta Ortopedia",
          "Rx Anca,Rx Bacia,Consulta Ortopedia,Cirurgia Primária,Internamento,Fisioterapia,Consulta Ortopedia,Rx Anca,Rx Bacia,Consulta Ortopedia"
         ],
         "yaxis": "y"
        }
       ],
       "layout": {
        "barmode": "relative",
        "height": 400,
        "legend": {
         "tracegroupgap": 0
        },
        "margin": {
         "t": 60
        },
        "template": {
         "data": {
          "bar": [
           {
            "error_x": {
             "color": "rgb(36,36,36)"
            },
            "error_y": {
             "color": "rgb(36,36,36)"
            },
            "marker": {
             "line": {
              "color": "white",
              "width": 0.5
             }
            },
            "type": "bar"
           }
          ],
          "barpolar": [
           {
            "marker": {
             "line": {
              "color": "white",
              "width": 0.5
             }
            },
            "type": "barpolar"
           }
          ],
          "carpet": [
           {
            "aaxis": {
             "endlinecolor": "rgb(36,36,36)",
             "gridcolor": "white",
             "linecolor": "white",
             "minorgridcolor": "white",
             "startlinecolor": "rgb(36,36,36)"
            },
            "baxis": {
             "endlinecolor": "rgb(36,36,36)",
             "gridcolor": "white",
             "linecolor": "white",
             "minorgridcolor": "white",
             "startlinecolor": "rgb(36,36,36)"
            },
            "type": "carpet"
           }
          ],
          "choropleth": [
           {
            "colorbar": {
             "outlinewidth": 1,
             "tickcolor": "rgb(36,36,36)",
             "ticks": "outside"
            },
            "type": "choropleth"
           }
          ],
          "contour": [
           {
            "colorbar": {
             "outlinewidth": 1,
             "tickcolor": "rgb(36,36,36)",
             "ticks": "outside"
            },
            "colorscale": [
             [
              0,
              "#440154"
             ],
             [
              0.1111111111111111,
              "#482878"
             ],
             [
              0.2222222222222222,
              "#3e4989"
             ],
             [
              0.3333333333333333,
              "#31688e"
             ],
             [
              0.4444444444444444,
              "#26828e"
             ],
             [
              0.5555555555555556,
              "#1f9e89"
             ],
             [
              0.6666666666666666,
              "#35b779"
             ],
             [
              0.7777777777777778,
              "#6ece58"
             ],
             [
              0.8888888888888888,
              "#b5de2b"
             ],
             [
              1,
              "#fde725"
             ]
            ],
            "type": "contour"
           }
          ],
          "contourcarpet": [
           {
            "colorbar": {
             "outlinewidth": 1,
             "tickcolor": "rgb(36,36,36)",
             "ticks": "outside"
            },
            "type": "contourcarpet"
           }
          ],
          "heatmap": [
           {
            "colorbar": {
             "outlinewidth": 1,
             "tickcolor": "rgb(36,36,36)",
             "ticks": "outside"
            },
            "colorscale": [
             [
              0,
              "#440154"
             ],
             [
              0.1111111111111111,
              "#482878"
             ],
             [
              0.2222222222222222,
              "#3e4989"
             ],
             [
              0.3333333333333333,
              "#31688e"
             ],
             [
              0.4444444444444444,
              "#26828e"
             ],
             [
              0.5555555555555556,
              "#1f9e89"
             ],
             [
              0.6666666666666666,
              "#35b779"
             ],
             [
              0.7777777777777778,
              "#6ece58"
             ],
             [
              0.8888888888888888,
              "#b5de2b"
             ],
             [
              1,
              "#fde725"
             ]
            ],
            "type": "heatmap"
           }
          ],
          "heatmapgl": [
           {
            "colorbar": {
             "outlinewidth": 1,
             "tickcolor": "rgb(36,36,36)",
             "ticks": "outside"
            },
            "colorscale": [
             [
              0,
              "#440154"
             ],
             [
              0.1111111111111111,
              "#482878"
             ],
             [
              0.2222222222222222,
              "#3e4989"
             ],
             [
              0.3333333333333333,
              "#31688e"
             ],
             [
              0.4444444444444444,
              "#26828e"
             ],
             [
              0.5555555555555556,
              "#1f9e89"
             ],
             [
              0.6666666666666666,
              "#35b779"
             ],
             [
              0.7777777777777778,
              "#6ece58"
             ],
             [
              0.8888888888888888,
              "#b5de2b"
             ],
             [
              1,
              "#fde725"
             ]
            ],
            "type": "heatmapgl"
           }
          ],
          "histogram": [
           {
            "marker": {
             "line": {
              "color": "white",
              "width": 0.6
             }
            },
            "type": "histogram"
           }
          ],
          "histogram2d": [
           {
            "colorbar": {
             "outlinewidth": 1,
             "tickcolor": "rgb(36,36,36)",
             "ticks": "outside"
            },
            "colorscale": [
             [
              0,
              "#440154"
             ],
             [
              0.1111111111111111,
              "#482878"
             ],
             [
              0.2222222222222222,
              "#3e4989"
             ],
             [
              0.3333333333333333,
              "#31688e"
             ],
             [
              0.4444444444444444,
              "#26828e"
             ],
             [
              0.5555555555555556,
              "#1f9e89"
             ],
             [
              0.6666666666666666,
              "#35b779"
             ],
             [
              0.7777777777777778,
              "#6ece58"
             ],
             [
              0.8888888888888888,
              "#b5de2b"
             ],
             [
              1,
              "#fde725"
             ]
            ],
            "type": "histogram2d"
           }
          ],
          "histogram2dcontour": [
           {
            "colorbar": {
             "outlinewidth": 1,
             "tickcolor": "rgb(36,36,36)",
             "ticks": "outside"
            },
            "colorscale": [
             [
              0,
              "#440154"
             ],
             [
              0.1111111111111111,
              "#482878"
             ],
             [
              0.2222222222222222,
              "#3e4989"
             ],
             [
              0.3333333333333333,
              "#31688e"
             ],
             [
              0.4444444444444444,
              "#26828e"
             ],
             [
              0.5555555555555556,
              "#1f9e89"
             ],
             [
              0.6666666666666666,
              "#35b779"
             ],
             [
              0.7777777777777778,
              "#6ece58"
             ],
             [
              0.8888888888888888,
              "#b5de2b"
             ],
             [
              1,
              "#fde725"
             ]
            ],
            "type": "histogram2dcontour"
           }
          ],
          "mesh3d": [
           {
            "colorbar": {
             "outlinewidth": 1,
             "tickcolor": "rgb(36,36,36)",
             "ticks": "outside"
            },
            "type": "mesh3d"
           }
          ],
          "parcoords": [
           {
            "line": {
             "colorbar": {
              "outlinewidth": 1,
              "tickcolor": "rgb(36,36,36)",
              "ticks": "outside"
             }
            },
            "type": "parcoords"
           }
          ],
          "pie": [
           {
            "automargin": true,
            "type": "pie"
           }
          ],
          "scatter": [
           {
            "marker": {
             "colorbar": {
              "outlinewidth": 1,
              "tickcolor": "rgb(36,36,36)",
              "ticks": "outside"
             }
            },
            "type": "scatter"
           }
          ],
          "scatter3d": [
           {
            "line": {
             "colorbar": {
              "outlinewidth": 1,
              "tickcolor": "rgb(36,36,36)",
              "ticks": "outside"
             }
            },
            "marker": {
             "colorbar": {
              "outlinewidth": 1,
              "tickcolor": "rgb(36,36,36)",
              "ticks": "outside"
             }
            },
            "type": "scatter3d"
           }
          ],
          "scattercarpet": [
           {
            "marker": {
             "colorbar": {
              "outlinewidth": 1,
              "tickcolor": "rgb(36,36,36)",
              "ticks": "outside"
             }
            },
            "type": "scattercarpet"
           }
          ],
          "scattergeo": [
           {
            "marker": {
             "colorbar": {
              "outlinewidth": 1,
              "tickcolor": "rgb(36,36,36)",
              "ticks": "outside"
             }
            },
            "type": "scattergeo"
           }
          ],
          "scattergl": [
           {
            "marker": {
             "colorbar": {
              "outlinewidth": 1,
              "tickcolor": "rgb(36,36,36)",
              "ticks": "outside"
             }
            },
            "type": "scattergl"
           }
          ],
          "scattermapbox": [
           {
            "marker": {
             "colorbar": {
              "outlinewidth": 1,
              "tickcolor": "rgb(36,36,36)",
              "ticks": "outside"
             }
            },
            "type": "scattermapbox"
           }
          ],
          "scatterpolar": [
           {
            "marker": {
             "colorbar": {
              "outlinewidth": 1,
              "tickcolor": "rgb(36,36,36)",
              "ticks": "outside"
             }
            },
            "type": "scatterpolar"
           }
          ],
          "scatterpolargl": [
           {
            "marker": {
             "colorbar": {
              "outlinewidth": 1,
              "tickcolor": "rgb(36,36,36)",
              "ticks": "outside"
             }
            },
            "type": "scatterpolargl"
           }
          ],
          "scatterternary": [
           {
            "marker": {
             "colorbar": {
              "outlinewidth": 1,
              "tickcolor": "rgb(36,36,36)",
              "ticks": "outside"
             }
            },
            "type": "scatterternary"
           }
          ],
          "surface": [
           {
            "colorbar": {
             "outlinewidth": 1,
             "tickcolor": "rgb(36,36,36)",
             "ticks": "outside"
            },
            "colorscale": [
             [
              0,
              "#440154"
             ],
             [
              0.1111111111111111,
              "#482878"
             ],
             [
              0.2222222222222222,
              "#3e4989"
             ],
             [
              0.3333333333333333,
              "#31688e"
             ],
             [
              0.4444444444444444,
              "#26828e"
             ],
             [
              0.5555555555555556,
              "#1f9e89"
             ],
             [
              0.6666666666666666,
              "#35b779"
             ],
             [
              0.7777777777777778,
              "#6ece58"
             ],
             [
              0.8888888888888888,
              "#b5de2b"
             ],
             [
              1,
              "#fde725"
             ]
            ],
            "type": "surface"
           }
          ],
          "table": [
           {
            "cells": {
             "fill": {
              "color": "rgb(237,237,237)"
             },
             "line": {
              "color": "white"
             }
            },
            "header": {
             "fill": {
              "color": "rgb(217,217,217)"
             },
             "line": {
              "color": "white"
             }
            },
            "type": "table"
           }
          ]
         },
         "layout": {
          "annotationdefaults": {
           "arrowhead": 0,
           "arrowwidth": 1
          },
          "autotypenumbers": "strict",
          "coloraxis": {
           "colorbar": {
            "outlinewidth": 1,
            "tickcolor": "rgb(36,36,36)",
            "ticks": "outside"
           }
          },
          "colorscale": {
           "diverging": [
            [
             0,
             "rgb(103,0,31)"
            ],
            [
             0.1,
             "rgb(178,24,43)"
            ],
            [
             0.2,
             "rgb(214,96,77)"
            ],
            [
             0.3,
             "rgb(244,165,130)"
            ],
            [
             0.4,
             "rgb(253,219,199)"
            ],
            [
             0.5,
             "rgb(247,247,247)"
            ],
            [
             0.6,
             "rgb(209,229,240)"
            ],
            [
             0.7,
             "rgb(146,197,222)"
            ],
            [
             0.8,
             "rgb(67,147,195)"
            ],
            [
             0.9,
             "rgb(33,102,172)"
            ],
            [
             1,
             "rgb(5,48,97)"
            ]
           ],
           "sequential": [
            [
             0,
             "#440154"
            ],
            [
             0.1111111111111111,
             "#482878"
            ],
            [
             0.2222222222222222,
             "#3e4989"
            ],
            [
             0.3333333333333333,
             "#31688e"
            ],
            [
             0.4444444444444444,
             "#26828e"
            ],
            [
             0.5555555555555556,
             "#1f9e89"
            ],
            [
             0.6666666666666666,
             "#35b779"
            ],
            [
             0.7777777777777778,
             "#6ece58"
            ],
            [
             0.8888888888888888,
             "#b5de2b"
            ],
            [
             1,
             "#fde725"
            ]
           ],
           "sequentialminus": [
            [
             0,
             "#440154"
            ],
            [
             0.1111111111111111,
             "#482878"
            ],
            [
             0.2222222222222222,
             "#3e4989"
            ],
            [
             0.3333333333333333,
             "#31688e"
            ],
            [
             0.4444444444444444,
             "#26828e"
            ],
            [
             0.5555555555555556,
             "#1f9e89"
            ],
            [
             0.6666666666666666,
             "#35b779"
            ],
            [
             0.7777777777777778,
             "#6ece58"
            ],
            [
             0.8888888888888888,
             "#b5de2b"
            ],
            [
             1,
             "#fde725"
            ]
           ]
          },
          "colorway": [
           "#1F77B4",
           "#FF7F0E",
           "#2CA02C",
           "#D62728",
           "#9467BD",
           "#8C564B",
           "#E377C2",
           "#7F7F7F",
           "#BCBD22",
           "#17BECF"
          ],
          "font": {
           "color": "rgb(36,36,36)"
          },
          "geo": {
           "bgcolor": "white",
           "lakecolor": "white",
           "landcolor": "white",
           "showlakes": true,
           "showland": true,
           "subunitcolor": "white"
          },
          "hoverlabel": {
           "align": "left"
          },
          "hovermode": "closest",
          "mapbox": {
           "style": "light"
          },
          "paper_bgcolor": "white",
          "plot_bgcolor": "white",
          "polar": {
           "angularaxis": {
            "gridcolor": "rgb(232,232,232)",
            "linecolor": "rgb(36,36,36)",
            "showgrid": false,
            "showline": true,
            "ticks": "outside"
           },
           "bgcolor": "white",
           "radialaxis": {
            "gridcolor": "rgb(232,232,232)",
            "linecolor": "rgb(36,36,36)",
            "showgrid": false,
            "showline": true,
            "ticks": "outside"
           }
          },
          "scene": {
           "xaxis": {
            "backgroundcolor": "white",
            "gridcolor": "rgb(232,232,232)",
            "gridwidth": 2,
            "linecolor": "rgb(36,36,36)",
            "showbackground": true,
            "showgrid": false,
            "showline": true,
            "ticks": "outside",
            "zeroline": false,
            "zerolinecolor": "rgb(36,36,36)"
           },
           "yaxis": {
            "backgroundcolor": "white",
            "gridcolor": "rgb(232,232,232)",
            "gridwidth": 2,
            "linecolor": "rgb(36,36,36)",
            "showbackground": true,
            "showgrid": false,
            "showline": true,
            "ticks": "outside",
            "zeroline": false,
            "zerolinecolor": "rgb(36,36,36)"
           },
           "zaxis": {
            "backgroundcolor": "white",
            "gridcolor": "rgb(232,232,232)",
            "gridwidth": 2,
            "linecolor": "rgb(36,36,36)",
            "showbackground": true,
            "showgrid": false,
            "showline": true,
            "ticks": "outside",
            "zeroline": false,
            "zerolinecolor": "rgb(36,36,36)"
           }
          },
          "shapedefaults": {
           "fillcolor": "black",
           "line": {
            "width": 0
           },
           "opacity": 0.3
          },
          "ternary": {
           "aaxis": {
            "gridcolor": "rgb(232,232,232)",
            "linecolor": "rgb(36,36,36)",
            "showgrid": false,
            "showline": true,
            "ticks": "outside"
           },
           "baxis": {
            "gridcolor": "rgb(232,232,232)",
            "linecolor": "rgb(36,36,36)",
            "showgrid": false,
            "showline": true,
            "ticks": "outside"
           },
           "bgcolor": "white",
           "caxis": {
            "gridcolor": "rgb(232,232,232)",
            "linecolor": "rgb(36,36,36)",
            "showgrid": false,
            "showline": true,
            "ticks": "outside"
           }
          },
          "title": {
           "x": 0.05
          },
          "xaxis": {
           "automargin": true,
           "gridcolor": "rgb(232,232,232)",
           "linecolor": "rgb(36,36,36)",
           "showgrid": false,
           "showline": true,
           "ticks": "outside",
           "title": {
            "standoff": 15
           },
           "zeroline": false,
           "zerolinecolor": "rgb(36,36,36)"
          },
          "yaxis": {
           "automargin": true,
           "gridcolor": "rgb(232,232,232)",
           "linecolor": "rgb(36,36,36)",
           "showgrid": false,
           "showline": true,
           "ticks": "outside",
           "title": {
            "standoff": 15
           },
           "zeroline": false,
           "zerolinecolor": "rgb(36,36,36)"
          }
         }
        },
        "width": 1000,
        "xaxis": {
         "anchor": "y",
         "domain": [
          0,
          1
         ],
         "title": {
          "text": "%"
         },
         "visible": false
        },
        "yaxis": {
         "anchor": "x",
         "categoryorder": "total ascending",
         "domain": [
          0,
          1
         ],
         "tickfont": {
          "size": 8
         },
         "title": {
          "text": ""
         }
        }
       }
      }
     },
     "metadata": {},
     "output_type": "display_data"
    }
   ],
   "source": [
    "fig4 = pe.bar(trace_db, x = \"Trace\", y = \"index\",\n",
    "    orientation=\"h\",\n",
    "    width = 1000,\n",
    "    height = 400,\n",
    "    template=\"simple_white\",\n",
    "    labels={\"index\":\"\",\"Trace\":\"%\"},\n",
    "    color_discrete_sequence=[\"Teal\"],\n",
    "    text=\"Trace\").update_yaxes(categoryorder=\"total ascending\").update_xaxes(visible=False)\n",
    "fig4.update_layout(yaxis=dict(tickfont=dict(size=8)))\n",
    "fig4.update_traces(textposition=\"outside\")\n"
   ]
  },
  {
   "cell_type": "code",
   "execution_count": 45,
   "metadata": {},
   "outputs": [
    {
     "data": {
      "text/plain": [
       "'Consulta Anestesia,Cirurgia Primária,Fisioterapia,Internamento,Rx Anca,Fisioterapia,Rx Anca,Rx Anca,Rx Bacia,Consulta Ortopedia,Rx Anca,Rx Anca,Rx Bacia'"
      ]
     },
     "execution_count": 45,
     "metadata": {},
     "output_type": "execute_result"
    }
   ],
   "source": [
    "a = log.loc[log[\"case:concept:name\"] == \"91192.0\"].sort_values([\"time:timestamp\"])\n",
    "b = a[\"concept:name\"].str.cat(sep=\",\")\n",
    "b"
   ]
  },
  {
   "cell_type": "markdown",
   "metadata": {},
   "source": [
    "# Process Discovery"
   ]
  },
  {
   "cell_type": "code",
   "execution_count": 18,
   "metadata": {},
   "outputs": [],
   "source": [
    "filtered_log = pm.filter_case_size(elog, 3, 30)"
   ]
  },
  {
   "cell_type": "code",
   "execution_count": 22,
   "metadata": {},
   "outputs": [
    {
     "data": {
      "image/png": "[encoded data removed]",
      "text/plain": [
       "<IPython.core.display.Image object>"
      ]
     },
     "metadata": {},
     "output_type": "display_data"
    }
   ],
   "source": [
    "heu_net = pm.discover_heuristics_net(filtered_log, dependency_threshold=0.99, loop_two_threshold=0.99)\n",
    "pm.view_heuristics_net(heu_net)\n",
    "path = os.getcwd()\n",
    "aa = pm.save_vis_heuristics_net(heu_net, file_path=f'{path}/heu_net.png')"
   ]
  },
  {
   "cell_type": "markdown",
   "metadata": {},
   "source": [
    "# Time and other analysis"
   ]
  },
  {
   "cell_type": "markdown",
   "metadata": {},
   "source": [
    "## Duration of Traces"
   ]
  },
  {
   "cell_type": "code",
   "execution_count": 6,
   "metadata": {},
   "outputs": [],
   "source": [
    "elog = pm.convert_to_event_log(log)"
   ]
  },
  {
   "cell_type": "code",
   "execution_count": 107,
   "metadata": {},
   "outputs": [
    {
     "data": {
      "text/html": [
       "<div>\n",
       "<style scoped>\n",
       "    .dataframe tbody tr th:only-of-type {\n",
       "        vertical-align: middle;\n",
       "    }\n",
       "\n",
       "    .dataframe tbody tr th {\n",
       "        vertical-align: top;\n",
       "    }\n",
       "\n",
       "    .dataframe thead th {\n",
       "        text-align: right;\n",
       "    }\n",
       "</style>\n",
       "<table border=\"1\" class=\"dataframe\">\n",
       "  <thead>\n",
       "    <tr style=\"text-align: right;\">\n",
       "      <th></th>\n",
       "      <th>durat</th>\n",
       "    </tr>\n",
       "  </thead>\n",
       "  <tbody>\n",
       "    <tr>\n",
       "      <th>0</th>\n",
       "      <td>0.0</td>\n",
       "    </tr>\n",
       "    <tr>\n",
       "      <th>1</th>\n",
       "      <td>0.0</td>\n",
       "    </tr>\n",
       "    <tr>\n",
       "      <th>2</th>\n",
       "      <td>0.0</td>\n",
       "    </tr>\n",
       "    <tr>\n",
       "      <th>3</th>\n",
       "      <td>1.0</td>\n",
       "    </tr>\n",
       "    <tr>\n",
       "      <th>4</th>\n",
       "      <td>1.0</td>\n",
       "    </tr>\n",
       "    <tr>\n",
       "      <th>...</th>\n",
       "      <td>...</td>\n",
       "    </tr>\n",
       "    <tr>\n",
       "      <th>707</th>\n",
       "      <td>993.0</td>\n",
       "    </tr>\n",
       "    <tr>\n",
       "      <th>708</th>\n",
       "      <td>999.0</td>\n",
       "    </tr>\n",
       "    <tr>\n",
       "      <th>709</th>\n",
       "      <td>1016.0</td>\n",
       "    </tr>\n",
       "    <tr>\n",
       "      <th>710</th>\n",
       "      <td>1065.0</td>\n",
       "    </tr>\n",
       "    <tr>\n",
       "      <th>711</th>\n",
       "      <td>1221.0</td>\n",
       "    </tr>\n",
       "  </tbody>\n",
       "</table>\n",
       "<p>712 rows × 1 columns</p>\n",
       "</div>"
      ],
      "text/plain": [
       "      durat\n",
       "0       0.0\n",
       "1       0.0\n",
       "2       0.0\n",
       "3       1.0\n",
       "4       1.0\n",
       "..      ...\n",
       "707   993.0\n",
       "708   999.0\n",
       "709  1016.0\n",
       "710  1065.0\n",
       "711  1221.0\n",
       "\n",
       "[712 rows x 1 columns]"
      ]
     },
     "execution_count": 107,
     "metadata": {},
     "output_type": "execute_result"
    }
   ],
   "source": [
    "all_case_durations = pm.get_all_case_durations(log)\n",
    "durations = pd.DataFrame(all_case_durations,columns=[\"durat\"])\n",
    "durations.durat = durations.durat.apply(lambda x : (((x/60)/60)/24))\n",
    "durations\n"
   ]
  },
  {
   "cell_type": "code",
   "execution_count": 117,
   "metadata": {},
   "outputs": [
    {
     "data": {
      "application/vnd.plotly.v1+json": {
       "config": {
        "plotlyServerURL": "https://plot.ly"
       },
       "data": [
        {
         "alignmentgroup": "True",
         "bingroup": "x",
         "hovertemplate": "variable=durat<br>Nº de dias=%{x}<br>count=%{y}<extra></extra>",
         "legendgroup": "durat",
         "marker": {
          "color": "#1F77B4"
         },
         "name": "durat",
         "offsetgroup": "durat",
         "orientation": "v",
         "showlegend": true,
         "type": "histogram",
         "x": [
          0,
          0,
          0,
          1,
          1,
          1,
          1,
          1,
          1,
          1,
          1,
          1,
          1,
          1,
          1,
          1,
          1,
          1,
          1,
          1,
          1,
          1,
          1,
          1,
          1,
          1,
          1,
          1,
          1,
          1,
          1,
          1,
          1,
          1,
          1,
          1,
          2,
          2,
          2,
          3,
          3,
          3,
          3,
          3,
          3,
          3,
          3,
          3,
          3,
          4,
          4,
          4,
          6,
          6,
          7,
          7,
          7,
          7,
          7,
          7,
          8,
          8,
          8,
          8,
          8,
          9,
          9,
          9,
          9,
          9,
          9,
          10,
          10,
          10,
          10,
          10,
          10,
          11,
          11,
          11,
          11,
          11,
          12,
          13,
          13,
          14,
          14,
          14,
          14,
          15,
          15,
          15,
          16,
          16,
          16,
          16,
          17,
          17,
          17,
          18,
          18,
          18,
          19,
          19,
          20,
          20,
          20,
          21,
          21,
          21,
          22,
          22,
          22,
          23,
          23,
          23,
          23,
          24,
          24,
          25,
          25,
          25,
          25,
          26,
          26,
          27,
          29,
          29,
          30,
          30,
          31,
          31,
          32,
          32,
          32,
          32,
          35,
          35,
          39,
          39,
          39,
          40,
          40,
          42,
          42,
          42,
          43,
          44,
          45,
          49,
          49,
          49,
          53,
          53,
          56,
          57,
          58,
          59,
          62,
          63,
          63,
          63,
          63,
          63,
          63,
          64,
          65,
          66,
          66,
          66,
          67,
          69,
          69,
          70,
          70,
          70,
          70,
          70,
          70,
          70,
          70,
          70,
          70,
          70,
          70,
          71,
          71,
          72,
          73,
          74,
          74,
          75,
          75,
          76,
          76,
          77,
          77,
          77,
          77,
          77,
          77,
          77,
          77,
          77,
          79,
          79,
          79,
          80,
          80,
          81,
          82,
          82,
          82,
          82,
          82,
          82,
          83,
          84,
          84,
          84,
          85,
          85,
          86,
          87,
          87,
          87,
          88,
          88,
          89,
          89,
          90,
          91,
          91,
          92,
          94,
          95,
          96,
          96,
          98,
          98,
          100,
          100,
          101,
          102,
          103,
          103,
          104,
          105,
          105,
          105,
          105,
          105,
          106,
          108,
          109,
          110,
          111,
          111,
          112,
          112,
          112,
          112,
          112,
          112,
          112,
          112,
          113,
          116,
          117,
          118,
          118,
          119,
          119,
          119,
          119,
          119,
          119,
          119,
          120,
          123,
          124,
          125,
          125,
          126,
          126,
          127,
          127,
          133,
          133,
          133,
          133,
          133,
          134,
          134,
          134,
          135,
          139,
          140,
          140,
          140,
          140,
          140,
          141,
          141,
          144,
          145,
          146,
          146,
          146,
          147,
          147,
          147,
          147,
          147,
          147,
          147,
          147,
          148,
          150,
          151,
          153,
          153,
          154,
          154,
          154,
          157,
          158,
          161,
          161,
          162,
          163,
          164,
          167,
          168,
          168,
          174,
          176,
          179,
          180,
          181,
          181,
          188,
          189,
          195,
          196,
          196,
          201,
          201,
          202,
          202,
          203,
          210,
          210,
          210,
          216,
          217,
          217,
          217,
          217,
          218,
          220,
          223,
          227,
          231,
          231,
          232,
          238,
          239,
          240,
          241,
          246,
          248,
          248,
          251,
          251,
          251,
          257,
          260,
          262,
          266,
          266,
          270,
          272,
          272,
          278,
          280,
          280,
          280,
          287,
          287,
          289,
          291,
          296,
          297,
          300,
          302,
          305,
          308,
          315,
          318,
          319,
          320,
          322,
          329,
          332,
          342,
          343,
          343,
          346,
          347,
          349,
          351,
          351,
          352,
          357,
          358,
          361,
          361,
          362,
          364,
          364,
          367,
          367,
          367,
          368,
          371,
          373,
          375,
          375,
          378,
          380,
          382,
          385,
          385,
          385,
          386,
          391,
          392,
          392,
          393,
          396,
          399,
          399,
          402,
          403,
          403,
          404,
          406,
          411,
          417,
          419,
          419,
          420,
          420,
          421,
          421,
          421,
          421,
          425,
          427,
          433,
          434,
          435,
          436,
          444,
          447,
          448,
          451,
          454,
          455,
          459,
          461,
          461,
          462,
          462,
          466,
          467,
          468,
          469,
          471,
          476,
          476,
          477,
          477,
          479,
          480,
          482,
          483,
          484,
          488,
          490,
          490,
          491,
          500,
          501,
          503,
          511,
          511,
          512,
          515,
          518,
          518,
          519,
          525,
          525,
          526,
          527,
          529,
          532,
          532,
          532,
          534,
          539,
          546,
          547,
          547,
          553,
          554,
          556,
          560,
          562,
          563,
          565,
          566,
          568,
          568,
          570,
          572,
          574,
          574,
          577,
          580,
          581,
          582,
          584,
          585,
          587,
          587,
          588,
          591,
          593,
          594,
          598,
          598,
          601,
          602,
          602,
          605,
          609,
          610,
          611,
          615,
          621,
          622,
          623,
          623,
          627,
          630,
          638,
          638,
          641,
          648,
          648,
          648,
          651,
          652,
          656,
          658,
          662,
          665,
          672,
          676,
          679,
          680,
          682,
          683,
          685,
          686,
          692,
          693,
          694,
          696,
          696,
          700,
          705,
          713,
          714,
          714,
          715,
          720,
          721,
          733,
          735,
          738,
          739,
          740,
          741,
          742,
          745,
          745,
          751,
          752,
          752,
          756,
          758,
          761,
          761,
          762,
          766,
          768,
          769,
          776,
          782,
          783,
          784,
          784,
          785,
          791,
          791,
          792,
          792,
          793,
          797,
          798,
          801,
          801,
          806,
          812,
          817,
          826,
          833,
          833,
          835,
          838,
          838,
          839,
          839,
          840,
          844,
          844,
          844,
          845,
          846,
          847,
          847,
          849,
          851,
          853,
          854,
          860,
          861,
          861,
          861,
          861,
          861,
          868,
          871,
          871,
          871,
          873,
          874,
          878,
          878,
          888,
          888,
          889,
          893,
          895,
          897,
          910,
          910,
          914,
          917,
          918,
          924,
          931,
          939,
          941,
          942,
          943,
          944,
          944,
          945,
          949,
          949,
          950,
          952,
          959,
          960,
          960,
          965,
          965,
          967,
          969,
          970,
          972,
          974,
          974,
          975,
          976,
          980,
          981,
          986,
          987,
          988,
          988,
          992,
          993,
          999,
          1016,
          1065,
          1221
         ],
         "xaxis": "x",
         "yaxis": "y"
        },
        {
         "alignmentgroup": "True",
         "hovertemplate": "variable=durat<br>Nº de dias=%{x}<extra></extra>",
         "legendgroup": "durat",
         "marker": {
          "color": "#1F77B4"
         },
         "name": "durat",
         "notched": true,
         "offsetgroup": "durat",
         "showlegend": false,
         "type": "box",
         "x": [
          0,
          0,
          0,
          1,
          1,
          1,
          1,
          1,
          1,
          1,
          1,
          1,
          1,
          1,
          1,
          1,
          1,
          1,
          1,
          1,
          1,
          1,
          1,
          1,
          1,
          1,
          1,
          1,
          1,
          1,
          1,
          1,
          1,
          1,
          1,
          1,
          2,
          2,
          2,
          3,
          3,
          3,
          3,
          3,
          3,
          3,
          3,
          3,
          3,
          4,
          4,
          4,
          6,
          6,
          7,
          7,
          7,
          7,
          7,
          7,
          8,
          8,
          8,
          8,
          8,
          9,
          9,
          9,
          9,
          9,
          9,
          10,
          10,
          10,
          10,
          10,
          10,
          11,
          11,
          11,
          11,
          11,
          12,
          13,
          13,
          14,
          14,
          14,
          14,
          15,
          15,
          15,
          16,
          16,
          16,
          16,
          17,
          17,
          17,
          18,
          18,
          18,
          19,
          19,
          20,
          20,
          20,
          21,
          21,
          21,
          22,
          22,
          22,
          23,
          23,
          23,
          23,
          24,
          24,
          25,
          25,
          25,
          25,
          26,
          26,
          27,
          29,
          29,
          30,
          30,
          31,
          31,
          32,
          32,
          32,
          32,
          35,
          35,
          39,
          39,
          39,
          40,
          40,
          42,
          42,
          42,
          43,
          44,
          45,
          49,
          49,
          49,
          53,
          53,
          56,
          57,
          58,
          59,
          62,
          63,
          63,
          63,
          63,
          63,
          63,
          64,
          65,
          66,
          66,
          66,
          67,
          69,
          69,
          70,
          70,
          70,
          70,
          70,
          70,
          70,
          70,
          70,
          70,
          70,
          70,
          71,
          71,
          72,
          73,
          74,
          74,
          75,
          75,
          76,
          76,
          77,
          77,
          77,
          77,
          77,
          77,
          77,
          77,
          77,
          79,
          79,
          79,
          80,
          80,
          81,
          82,
          82,
          82,
          82,
          82,
          82,
          83,
          84,
          84,
          84,
          85,
          85,
          86,
          87,
          87,
          87,
          88,
          88,
          89,
          89,
          90,
          91,
          91,
          92,
          94,
          95,
          96,
          96,
          98,
          98,
          100,
          100,
          101,
          102,
          103,
          103,
          104,
          105,
          105,
          105,
          105,
          105,
          106,
          108,
          109,
          110,
          111,
          111,
          112,
          112,
          112,
          112,
          112,
          112,
          112,
          112,
          113,
          116,
          117,
          118,
          118,
          119,
          119,
          119,
          119,
          119,
          119,
          119,
          120,
          123,
          124,
          125,
          125,
          126,
          126,
          127,
          127,
          133,
          133,
          133,
          133,
          133,
          134,
          134,
          134,
          135,
          139,
          140,
          140,
          140,
          140,
          140,
          141,
          141,
          144,
          145,
          146,
          146,
          146,
          147,
          147,
          147,
          147,
          147,
          147,
          147,
          147,
          148,
          150,
          151,
          153,
          153,
          154,
          154,
          154,
          157,
          158,
          161,
          161,
          162,
          163,
          164,
          167,
          168,
          168,
          174,
          176,
          179,
          180,
          181,
          181,
          188,
          189,
          195,
          196,
          196,
          201,
          201,
          202,
          202,
          203,
          210,
          210,
          210,
          216,
          217,
          217,
          217,
          217,
          218,
          220,
          223,
          227,
          231,
          231,
          232,
          238,
          239,
          240,
          241,
          246,
          248,
          248,
          251,
          251,
          251,
          257,
          260,
          262,
          266,
          266,
          270,
          272,
          272,
          278,
          280,
          280,
          280,
          287,
          287,
          289,
          291,
          296,
          297,
          300,
          302,
          305,
          308,
          315,
          318,
          319,
          320,
          322,
          329,
          332,
          342,
          343,
          343,
          346,
          347,
          349,
          351,
          351,
          352,
          357,
          358,
          361,
          361,
          362,
          364,
          364,
          367,
          367,
          367,
          368,
          371,
          373,
          375,
          375,
          378,
          380,
          382,
          385,
          385,
          385,
          386,
          391,
          392,
          392,
          393,
          396,
          399,
          399,
          402,
          403,
          403,
          404,
          406,
          411,
          417,
          419,
          419,
          420,
          420,
          421,
          421,
          421,
          421,
          425,
          427,
          433,
          434,
          435,
          436,
          444,
          447,
          448,
          451,
          454,
          455,
          459,
          461,
          461,
          462,
          462,
          466,
          467,
          468,
          469,
          471,
          476,
          476,
          477,
          477,
          479,
          480,
          482,
          483,
          484,
          488,
          490,
          490,
          491,
          500,
          501,
          503,
          511,
          511,
          512,
          515,
          518,
          518,
          519,
          525,
          525,
          526,
          527,
          529,
          532,
          532,
          532,
          534,
          539,
          546,
          547,
          547,
          553,
          554,
          556,
          560,
          562,
          563,
          565,
          566,
          568,
          568,
          570,
          572,
          574,
          574,
          577,
          580,
          581,
          582,
          584,
          585,
          587,
          587,
          588,
          591,
          593,
          594,
          598,
          598,
          601,
          602,
          602,
          605,
          609,
          610,
          611,
          615,
          621,
          622,
          623,
          623,
          627,
          630,
          638,
          638,
          641,
          648,
          648,
          648,
          651,
          652,
          656,
          658,
          662,
          665,
          672,
          676,
          679,
          680,
          682,
          683,
          685,
          686,
          692,
          693,
          694,
          696,
          696,
          700,
          705,
          713,
          714,
          714,
          715,
          720,
          721,
          733,
          735,
          738,
          739,
          740,
          741,
          742,
          745,
          745,
          751,
          752,
          752,
          756,
          758,
          761,
          761,
          762,
          766,
          768,
          769,
          776,
          782,
          783,
          784,
          784,
          785,
          791,
          791,
          792,
          792,
          793,
          797,
          798,
          801,
          801,
          806,
          812,
          817,
          826,
          833,
          833,
          835,
          838,
          838,
          839,
          839,
          840,
          844,
          844,
          844,
          845,
          846,
          847,
          847,
          849,
          851,
          853,
          854,
          860,
          861,
          861,
          861,
          861,
          861,
          868,
          871,
          871,
          871,
          873,
          874,
          878,
          878,
          888,
          888,
          889,
          893,
          895,
          897,
          910,
          910,
          914,
          917,
          918,
          924,
          931,
          939,
          941,
          942,
          943,
          944,
          944,
          945,
          949,
          949,
          950,
          952,
          959,
          960,
          960,
          965,
          965,
          967,
          969,
          970,
          972,
          974,
          974,
          975,
          976,
          980,
          981,
          986,
          987,
          988,
          988,
          992,
          993,
          999,
          1016,
          1065,
          1221
         ],
         "xaxis": "x2",
         "yaxis": "y2"
        }
       ],
       "layout": {
        "barmode": "relative",
        "height": 400,
        "legend": {
         "title": {
          "text": "variable"
         },
         "tracegroupgap": 0
        },
        "margin": {
         "t": 60
        },
        "showlegend": false,
        "template": {
         "data": {
          "bar": [
           {
            "error_x": {
             "color": "rgb(36,36,36)"
            },
            "error_y": {
             "color": "rgb(36,36,36)"
            },
            "marker": {
             "line": {
              "color": "white",
              "width": 0.5
             }
            },
            "type": "bar"
           }
          ],
          "barpolar": [
           {
            "marker": {
             "line": {
              "color": "white",
              "width": 0.5
             }
            },
            "type": "barpolar"
           }
          ],
          "carpet": [
           {
            "aaxis": {
             "endlinecolor": "rgb(36,36,36)",
             "gridcolor": "white",
             "linecolor": "white",
             "minorgridcolor": "white",
             "startlinecolor": "rgb(36,36,36)"
            },
            "baxis": {
             "endlinecolor": "rgb(36,36,36)",
             "gridcolor": "white",
             "linecolor": "white",
             "minorgridcolor": "white",
             "startlinecolor": "rgb(36,36,36)"
            },
            "type": "carpet"
           }
          ],
          "choropleth": [
           {
            "colorbar": {
             "outlinewidth": 1,
             "tickcolor": "rgb(36,36,36)",
             "ticks": "outside"
            },
            "type": "choropleth"
           }
          ],
          "contour": [
           {
            "colorbar": {
             "outlinewidth": 1,
             "tickcolor": "rgb(36,36,36)",
             "ticks": "outside"
            },
            "colorscale": [
             [
              0,
              "#440154"
             ],
             [
              0.1111111111111111,
              "#482878"
             ],
             [
              0.2222222222222222,
              "#3e4989"
             ],
             [
              0.3333333333333333,
              "#31688e"
             ],
             [
              0.4444444444444444,
              "#26828e"
             ],
             [
              0.5555555555555556,
              "#1f9e89"
             ],
             [
              0.6666666666666666,
              "#35b779"
             ],
             [
              0.7777777777777778,
              "#6ece58"
             ],
             [
              0.8888888888888888,
              "#b5de2b"
             ],
             [
              1,
              "#fde725"
             ]
            ],
            "type": "contour"
           }
          ],
          "contourcarpet": [
           {
            "colorbar": {
             "outlinewidth": 1,
             "tickcolor": "rgb(36,36,36)",
             "ticks": "outside"
            },
            "type": "contourcarpet"
           }
          ],
          "heatmap": [
           {
            "colorbar": {
             "outlinewidth": 1,
             "tickcolor": "rgb(36,36,36)",
             "ticks": "outside"
            },
            "colorscale": [
             [
              0,
              "#440154"
             ],
             [
              0.1111111111111111,
              "#482878"
             ],
             [
              0.2222222222222222,
              "#3e4989"
             ],
             [
              0.3333333333333333,
              "#31688e"
             ],
             [
              0.4444444444444444,
              "#26828e"
             ],
             [
              0.5555555555555556,
              "#1f9e89"
             ],
             [
              0.6666666666666666,
              "#35b779"
             ],
             [
              0.7777777777777778,
              "#6ece58"
             ],
             [
              0.8888888888888888,
              "#b5de2b"
             ],
             [
              1,
              "#fde725"
             ]
            ],
            "type": "heatmap"
           }
          ],
          "heatmapgl": [
           {
            "colorbar": {
             "outlinewidth": 1,
             "tickcolor": "rgb(36,36,36)",
             "ticks": "outside"
            },
            "colorscale": [
             [
              0,
              "#440154"
             ],
             [
              0.1111111111111111,
              "#482878"
             ],
             [
              0.2222222222222222,
              "#3e4989"
             ],
             [
              0.3333333333333333,
              "#31688e"
             ],
             [
              0.4444444444444444,
              "#26828e"
             ],
             [
              0.5555555555555556,
              "#1f9e89"
             ],
             [
              0.6666666666666666,
              "#35b779"
             ],
             [
              0.7777777777777778,
              "#6ece58"
             ],
             [
              0.8888888888888888,
              "#b5de2b"
             ],
             [
              1,
              "#fde725"
             ]
            ],
            "type": "heatmapgl"
           }
          ],
          "histogram": [
           {
            "marker": {
             "line": {
              "color": "white",
              "width": 0.6
             }
            },
            "type": "histogram"
           }
          ],
          "histogram2d": [
           {
            "colorbar": {
             "outlinewidth": 1,
             "tickcolor": "rgb(36,36,36)",
             "ticks": "outside"
            },
            "colorscale": [
             [
              0,
              "#440154"
             ],
             [
              0.1111111111111111,
              "#482878"
             ],
             [
              0.2222222222222222,
              "#3e4989"
             ],
             [
              0.3333333333333333,
              "#31688e"
             ],
             [
              0.4444444444444444,
              "#26828e"
             ],
             [
              0.5555555555555556,
              "#1f9e89"
             ],
             [
              0.6666666666666666,
              "#35b779"
             ],
             [
              0.7777777777777778,
              "#6ece58"
             ],
             [
              0.8888888888888888,
              "#b5de2b"
             ],
             [
              1,
              "#fde725"
             ]
            ],
            "type": "histogram2d"
           }
          ],
          "histogram2dcontour": [
           {
            "colorbar": {
             "outlinewidth": 1,
             "tickcolor": "rgb(36,36,36)",
             "ticks": "outside"
            },
            "colorscale": [
             [
              0,
              "#440154"
             ],
             [
              0.1111111111111111,
              "#482878"
             ],
             [
              0.2222222222222222,
              "#3e4989"
             ],
             [
              0.3333333333333333,
              "#31688e"
             ],
             [
              0.4444444444444444,
              "#26828e"
             ],
             [
              0.5555555555555556,
              "#1f9e89"
             ],
             [
              0.6666666666666666,
              "#35b779"
             ],
             [
              0.7777777777777778,
              "#6ece58"
             ],
             [
              0.8888888888888888,
              "#b5de2b"
             ],
             [
              1,
              "#fde725"
             ]
            ],
            "type": "histogram2dcontour"
           }
          ],
          "mesh3d": [
           {
            "colorbar": {
             "outlinewidth": 1,
             "tickcolor": "rgb(36,36,36)",
             "ticks": "outside"
            },
            "type": "mesh3d"
           }
          ],
          "parcoords": [
           {
            "line": {
             "colorbar": {
              "outlinewidth": 1,
              "tickcolor": "rgb(36,36,36)",
              "ticks": "outside"
             }
            },
            "type": "parcoords"
           }
          ],
          "pie": [
           {
            "automargin": true,
            "type": "pie"
           }
          ],
          "scatter": [
           {
            "marker": {
             "colorbar": {
              "outlinewidth": 1,
              "tickcolor": "rgb(36,36,36)",
              "ticks": "outside"
             }
            },
            "type": "scatter"
           }
          ],
          "scatter3d": [
           {
            "line": {
             "colorbar": {
              "outlinewidth": 1,
              "tickcolor": "rgb(36,36,36)",
              "ticks": "outside"
             }
            },
            "marker": {
             "colorbar": {
              "outlinewidth": 1,
              "tickcolor": "rgb(36,36,36)",
              "ticks": "outside"
             }
            },
            "type": "scatter3d"
           }
          ],
          "scattercarpet": [
           {
            "marker": {
             "colorbar": {
              "outlinewidth": 1,
              "tickcolor": "rgb(36,36,36)",
              "ticks": "outside"
             }
            },
            "type": "scattercarpet"
           }
          ],
          "scattergeo": [
           {
            "marker": {
             "colorbar": {
              "outlinewidth": 1,
              "tickcolor": "rgb(36,36,36)",
              "ticks": "outside"
             }
            },
            "type": "scattergeo"
           }
          ],
          "scattergl": [
           {
            "marker": {
             "colorbar": {
              "outlinewidth": 1,
              "tickcolor": "rgb(36,36,36)",
              "ticks": "outside"
             }
            },
            "type": "scattergl"
           }
          ],
          "scattermapbox": [
           {
            "marker": {
             "colorbar": {
              "outlinewidth": 1,
              "tickcolor": "rgb(36,36,36)",
              "ticks": "outside"
             }
            },
            "type": "scattermapbox"
           }
          ],
          "scatterpolar": [
           {
            "marker": {
             "colorbar": {
              "outlinewidth": 1,
              "tickcolor": "rgb(36,36,36)",
              "ticks": "outside"
             }
            },
            "type": "scatterpolar"
           }
          ],
          "scatterpolargl": [
           {
            "marker": {
             "colorbar": {
              "outlinewidth": 1,
              "tickcolor": "rgb(36,36,36)",
              "ticks": "outside"
             }
            },
            "type": "scatterpolargl"
           }
          ],
          "scatterternary": [
           {
            "marker": {
             "colorbar": {
              "outlinewidth": 1,
              "tickcolor": "rgb(36,36,36)",
              "ticks": "outside"
             }
            },
            "type": "scatterternary"
           }
          ],
          "surface": [
           {
            "colorbar": {
             "outlinewidth": 1,
             "tickcolor": "rgb(36,36,36)",
             "ticks": "outside"
            },
            "colorscale": [
             [
              0,
              "#440154"
             ],
             [
              0.1111111111111111,
              "#482878"
             ],
             [
              0.2222222222222222,
              "#3e4989"
             ],
             [
              0.3333333333333333,
              "#31688e"
             ],
             [
              0.4444444444444444,
              "#26828e"
             ],
             [
              0.5555555555555556,
              "#1f9e89"
             ],
             [
              0.6666666666666666,
              "#35b779"
             ],
             [
              0.7777777777777778,
              "#6ece58"
             ],
             [
              0.8888888888888888,
              "#b5de2b"
             ],
             [
              1,
              "#fde725"
             ]
            ],
            "type": "surface"
           }
          ],
          "table": [
           {
            "cells": {
             "fill": {
              "color": "rgb(237,237,237)"
             },
             "line": {
              "color": "white"
             }
            },
            "header": {
             "fill": {
              "color": "rgb(217,217,217)"
             },
             "line": {
              "color": "white"
             }
            },
            "type": "table"
           }
          ]
         },
         "layout": {
          "annotationdefaults": {
           "arrowhead": 0,
           "arrowwidth": 1
          },
          "autotypenumbers": "strict",
          "coloraxis": {
           "colorbar": {
            "outlinewidth": 1,
            "tickcolor": "rgb(36,36,36)",
            "ticks": "outside"
           }
          },
          "colorscale": {
           "diverging": [
            [
             0,
             "rgb(103,0,31)"
            ],
            [
             0.1,
             "rgb(178,24,43)"
            ],
            [
             0.2,
             "rgb(214,96,77)"
            ],
            [
             0.3,
             "rgb(244,165,130)"
            ],
            [
             0.4,
             "rgb(253,219,199)"
            ],
            [
             0.5,
             "rgb(247,247,247)"
            ],
            [
             0.6,
             "rgb(209,229,240)"
            ],
            [
             0.7,
             "rgb(146,197,222)"
            ],
            [
             0.8,
             "rgb(67,147,195)"
            ],
            [
             0.9,
             "rgb(33,102,172)"
            ],
            [
             1,
             "rgb(5,48,97)"
            ]
           ],
           "sequential": [
            [
             0,
             "#440154"
            ],
            [
             0.1111111111111111,
             "#482878"
            ],
            [
             0.2222222222222222,
             "#3e4989"
            ],
            [
             0.3333333333333333,
             "#31688e"
            ],
            [
             0.4444444444444444,
             "#26828e"
            ],
            [
             0.5555555555555556,
             "#1f9e89"
            ],
            [
             0.6666666666666666,
             "#35b779"
            ],
            [
             0.7777777777777778,
             "#6ece58"
            ],
            [
             0.8888888888888888,
             "#b5de2b"
            ],
            [
             1,
             "#fde725"
            ]
           ],
           "sequentialminus": [
            [
             0,
             "#440154"
            ],
            [
             0.1111111111111111,
             "#482878"
            ],
            [
             0.2222222222222222,
             "#3e4989"
            ],
            [
             0.3333333333333333,
             "#31688e"
            ],
            [
             0.4444444444444444,
             "#26828e"
            ],
            [
             0.5555555555555556,
             "#1f9e89"
            ],
            [
             0.6666666666666666,
             "#35b779"
            ],
            [
             0.7777777777777778,
             "#6ece58"
            ],
            [
             0.8888888888888888,
             "#b5de2b"
            ],
            [
             1,
             "#fde725"
            ]
           ]
          },
          "colorway": [
           "#1F77B4",
           "#FF7F0E",
           "#2CA02C",
           "#D62728",
           "#9467BD",
           "#8C564B",
           "#E377C2",
           "#7F7F7F",
           "#BCBD22",
           "#17BECF"
          ],
          "font": {
           "color": "rgb(36,36,36)"
          },
          "geo": {
           "bgcolor": "white",
           "lakecolor": "white",
           "landcolor": "white",
           "showlakes": true,
           "showland": true,
           "subunitcolor": "white"
          },
          "hoverlabel": {
           "align": "left"
          },
          "hovermode": "closest",
          "mapbox": {
           "style": "light"
          },
          "paper_bgcolor": "white",
          "plot_bgcolor": "white",
          "polar": {
           "angularaxis": {
            "gridcolor": "rgb(232,232,232)",
            "linecolor": "rgb(36,36,36)",
            "showgrid": false,
            "showline": true,
            "ticks": "outside"
           },
           "bgcolor": "white",
           "radialaxis": {
            "gridcolor": "rgb(232,232,232)",
            "linecolor": "rgb(36,36,36)",
            "showgrid": false,
            "showline": true,
            "ticks": "outside"
           }
          },
          "scene": {
           "xaxis": {
            "backgroundcolor": "white",
            "gridcolor": "rgb(232,232,232)",
            "gridwidth": 2,
            "linecolor": "rgb(36,36,36)",
            "showbackground": true,
            "showgrid": false,
            "showline": true,
            "ticks": "outside",
            "zeroline": false,
            "zerolinecolor": "rgb(36,36,36)"
           },
           "yaxis": {
            "backgroundcolor": "white",
            "gridcolor": "rgb(232,232,232)",
            "gridwidth": 2,
            "linecolor": "rgb(36,36,36)",
            "showbackground": true,
            "showgrid": false,
            "showline": true,
            "ticks": "outside",
            "zeroline": false,
            "zerolinecolor": "rgb(36,36,36)"
           },
           "zaxis": {
            "backgroundcolor": "white",
            "gridcolor": "rgb(232,232,232)",
            "gridwidth": 2,
            "linecolor": "rgb(36,36,36)",
            "showbackground": true,
            "showgrid": false,
            "showline": true,
            "ticks": "outside",
            "zeroline": false,
            "zerolinecolor": "rgb(36,36,36)"
           }
          },
          "shapedefaults": {
           "fillcolor": "black",
           "line": {
            "width": 0
           },
           "opacity": 0.3
          },
          "ternary": {
           "aaxis": {
            "gridcolor": "rgb(232,232,232)",
            "linecolor": "rgb(36,36,36)",
            "showgrid": false,
            "showline": true,
            "ticks": "outside"
           },
           "baxis": {
            "gridcolor": "rgb(232,232,232)",
            "linecolor": "rgb(36,36,36)",
            "showgrid": false,
            "showline": true,
            "ticks": "outside"
           },
           "bgcolor": "white",
           "caxis": {
            "gridcolor": "rgb(232,232,232)",
            "linecolor": "rgb(36,36,36)",
            "showgrid": false,
            "showline": true,
            "ticks": "outside"
           }
          },
          "title": {
           "x": 0.05
          },
          "xaxis": {
           "automargin": true,
           "gridcolor": "rgb(232,232,232)",
           "linecolor": "rgb(36,36,36)",
           "showgrid": false,
           "showline": true,
           "ticks": "outside",
           "title": {
            "standoff": 15
           },
           "zeroline": false,
           "zerolinecolor": "rgb(36,36,36)"
          },
          "yaxis": {
           "automargin": true,
           "gridcolor": "rgb(232,232,232)",
           "linecolor": "rgb(36,36,36)",
           "showgrid": false,
           "showline": true,
           "ticks": "outside",
           "title": {
            "standoff": 15
           },
           "zeroline": false,
           "zerolinecolor": "rgb(36,36,36)"
          }
         }
        },
        "width": 700,
        "xaxis": {
         "anchor": "y",
         "domain": [
          0,
          1
         ],
         "title": {
          "text": "Nº de dias"
         }
        },
        "xaxis2": {
         "anchor": "y2",
         "domain": [
          0,
          1
         ],
         "matches": "x",
         "showticklabels": false
        },
        "yaxis": {
         "anchor": "x",
         "domain": [
          0,
          0.7326
         ],
         "title": {
          "text": "count"
         }
        },
        "yaxis2": {
         "anchor": "x2",
         "domain": [
          0.7426,
          1
         ],
         "matches": "y2",
         "showline": false,
         "showticklabels": false,
         "ticks": ""
        }
       }
      }
     },
     "metadata": {},
     "output_type": "display_data"
    }
   ],
   "source": [
    "fig5=pe.histogram(durations,\n",
    "    template=\"simple_white\",\n",
    "    width = 700,\n",
    "    height = 400,\n",
    "    labels={\"value\":\"Nº de dias\"},\n",
    "    marginal=\"box\")\n",
    "fig5.update_layout(showlegend=False)"
   ]
  },
  {
   "cell_type": "code",
   "execution_count": 42,
   "metadata": {},
   "outputs": [
    {
     "data": {
      "image/png": "[encoded data removed]",
      "text/plain": [
       "<IPython.core.display.Image object>"
      ]
     },
     "metadata": {},
     "output_type": "display_data"
    },
    {
     "data": {
      "text/plain": [
       "<Figure size 1440x720 with 0 Axes>"
      ]
     },
     "metadata": {},
     "output_type": "display_data"
    }
   ],
   "source": [
    "x, y = attributes_filter.get_kde_date_attribute(elog, attribute=\"time:timestamp\")\n",
    "gviz = graphs_visualizer.apply_plot(x, y, variant=graphs_visualizer.Variants.DATES)\n",
    "plt.figure(figsize = (20,10))\n",
    "graphs_visualizer.view(gviz)"
   ]
  },
  {
   "cell_type": "code",
   "execution_count": 56,
   "metadata": {},
   "outputs": [
    {
     "data": {
      "image/png": "[encoded data removed]",
      "text/plain": [
       "<IPython.core.display.Image object>"
      ]
     },
     "metadata": {},
     "output_type": "display_data"
    }
   ],
   "source": [
    "teste = pm.view_events_distribution_graph(elog, distr_type=\"days_week\")\n",
    "teste"
   ]
  },
  {
   "cell_type": "markdown",
   "metadata": {},
   "source": [
    "## Social Network"
   ]
  },
  {
   "cell_type": "code",
   "execution_count": 6,
   "metadata": {},
   "outputs": [
    {
     "data": {
      "image/png": "[encoded data removed]",
      "text/plain": [
       "<IPython.core.display.Image object>"
      ]
     },
     "metadata": {},
     "output_type": "display_data"
    }
   ],
   "source": [
    "hw_values = pm.discover_handover_of_work_network(elog)\n",
    "teste3 = pm.visualization.sna.visualizer.apply(hw_values)\n",
    "pm.visualization.sna.visualizer.view(teste3)"
   ]
  },
  {
   "cell_type": "code",
   "execution_count": 7,
   "metadata": {},
   "outputs": [],
   "source": [
    "from pyvis.network import Network\n",
    "from pm4py.visualization.sna import visualizer as sna_visualizer\n",
    "path = os.getcwd()\n",
    "net = Network()\n",
    "gviz2 = sna_visualizer.apply(hw_values, variant=sna_visualizer.Variants.PYVIS)\n",
    "sna_visualizer.save(gviz2,f\"{path}/html_files/pyvis_graph.html\")"
   ]
  },
  {
   "cell_type": "markdown",
   "metadata": {},
   "source": [
    "# Deploying into streamlit"
   ]
  },
  {
   "cell_type": "code",
   "execution_count": 76,
   "metadata": {},
   "outputs": [
    {
     "name": "stdout",
     "output_type": "stream",
     "text": [
      "Overwriting Home.py\n"
     ]
    }
   ],
   "source": [
    "%%writefile Home.py\n",
    "\n",
    "import streamlit as st\n",
    "st.set_page_config(layout=\"wide\")\n",
    "\n",
    "def check_password():\n",
    "    \"\"\"Returns `True` if the user had the correct password.\"\"\"\n",
    "\n",
    "    def password_entered():\n",
    "        \"\"\"Checks whether a password entered by the user is correct.\"\"\"\n",
    "        if st.session_state[\"password\"] == st.secrets[\"password\"]:\n",
    "            st.session_state[\"password_correct\"] = True\n",
    "            del st.session_state[\"password\"]  # don't store password\n",
    "        else:\n",
    "            st.session_state[\"password_correct\"] = False\n",
    "\n",
    "    if \"password_correct\" not in st.session_state:\n",
    "        # First run, show input for password.\n",
    "        st.text_input(\n",
    "            \"Password\", type=\"password\", on_change=password_entered, key=\"password\"\n",
    "        )\n",
    "        return False\n",
    "    elif not st.session_state[\"password_correct\"]:\n",
    "        # Password not correct, show input + error.\n",
    "        st.text_input(\n",
    "            \"Password\", type=\"password\", on_change=password_entered, key=\"password\"\n",
    "        )\n",
    "        st.error(\"😕 Password incorrect\")\n",
    "        return False\n",
    "    else:\n",
    "        # Password correct.\n",
    "        return True\n",
    "\n",
    "if check_password() == True:\n",
    "    st.header(\"Home Page\")"
   ]
  },
  {
   "cell_type": "code",
   "execution_count": 77,
   "metadata": {},
   "outputs": [
    {
     "name": "stdout",
     "output_type": "stream",
     "text": [
      "Overwriting pages/🔀_Log_Analysis_and_discovery.py\n"
     ]
    }
   ],
   "source": [
    "%%writefile \"pages/🔀_Log_Analysis_and_discovery.py\"\n",
    "\n",
    "import streamlit as st\n",
    "import pandas as pd\n",
    "import matplotlib.pyplot as plt\n",
    "import numpy as np\n",
    "import seaborn as sns\n",
    "import pm4py as pm\n",
    "import os\n",
    "from PIL import Image\n",
    "import plotly.express as pe\n",
    "import missingno as msn\n",
    "from pm4py.algo.filtering.log.attributes import attributes_filter\n",
    "from pm4py.visualization.graphs import visualizer as graphs_visualizer\n",
    "from pyvis.network import Network\n",
    "from pm4py.visualization.sna import visualizer as sna_visualizer\n",
    "import streamlit.components.v1 as components\n",
    "import graphviz\n",
    "import pydotplus\n",
    "\n",
    "#Page Layout and config\n",
    "\n",
    "st.set_page_config(\n",
    "     page_title=\"Log Analysis and Process Discovery\",\n",
    "     page_icon=\":clipboard:\",\n",
    "     layout=\"wide\")\n",
    "\n",
    "# Password check\n",
    "\n",
    "def check_password():\n",
    "    \"\"\"Returns `True` if the user had the correct password.\"\"\"\n",
    "\n",
    "    def password_entered():\n",
    "        \"\"\"Checks whether a password entered by the user is correct.\"\"\"\n",
    "        if st.session_state[\"password\"] == st.secrets[\"password\"]:\n",
    "            st.session_state[\"password_correct\"] = True\n",
    "            del st.session_state[\"password\"]  # don't store password\n",
    "        else:\n",
    "            st.session_state[\"password_correct\"] = False\n",
    "\n",
    "    if \"password_correct\" not in st.session_state:\n",
    "        # First run, show input for password.\n",
    "        st.text_input(\n",
    "            \"Password\", type=\"password\", on_change=password_entered, key=\"password\"\n",
    "        )\n",
    "        return False\n",
    "    elif not st.session_state[\"password_correct\"]:\n",
    "        # Password not correct, show input + error.\n",
    "        st.text_input(\n",
    "            \"Password\", type=\"password\", on_change=password_entered, key=\"password\"\n",
    "        )\n",
    "        st.error(\"😕 Password incorrect\")\n",
    "        return False\n",
    "    else:\n",
    "        # Password correct.\n",
    "        return True\n",
    "\n",
    "if check_password() == True:\n",
    "\n",
    "    # App structure\n",
    "\n",
    "    st.title(\"Show me a Path\")\n",
    "\n",
    "    log_file_input = st.file_uploader(\"Upload the event log file\", accept_multiple_files=False, type = [\".xlsx\",\".csv\",\".xes\"], help = \"The event log should have the following structure: ID, Timestamp, Activity, Resource\")\n",
    "\n",
    "    if st.button(\"Analisar\"):\n",
    "        if (os.path.splitext(log_file_input.name)[1]) == \".csv\":\n",
    "            log = pd.read_csv(log_file_input)\n",
    "            log = log.rename(columns={log.columns[3]:\"org:resource\"})\n",
    "            log = pm.format_dataframe(log, case_id = log.columns[0], activity_key=log.columns[2], timestamp_key=log.columns[1])\n",
    "            log = log[['org:resource', 'case:concept:name', 'concept:name', 'time:timestamp']]\n",
    "            log[\"org:resource\"] = log[\"org:resource\"].astype(str)\n",
    "            elog = pm.convert_to_event_log(log)\n",
    "        elif (os.path.splitext(log_file_input.name)[1]) == \".xlsx\":\n",
    "            log = pd.read_excel(log_file_input)\n",
    "            log = log.rename(columns={log.columns[3]:\"org:resource\"})\n",
    "            log = pm.format_dataframe(log, case_id = log.columns[0], activity_key=log.columns[2], timestamp_key=log.columns[1])\n",
    "            log = log[['org:resource', 'case:concept:name', 'concept:name', 'time:timestamp']]\n",
    "            log[\"org:resource\"] = log[\"org:resource\"].astype(str)\n",
    "            elog = pm.convert_to_event_log(log)\n",
    "        else:\n",
    "            log = pm.read_xes(log_file_input)\n",
    "            filtered_log = pm.filter_case_size(log, 3, 30)\n",
    "            heu_net = pm.discover_heuristics_net(filtered_log, dependency_threshold=0.99, loop_two_threshold=0.99)\n",
    "            pm.save_vis_heuristics_net(heu_net, \"net.png\")\n",
    "            st.image(\"net.png\")\n",
    "        \n",
    "        tab1,tab2,tab3,tab4,tab5 = st.tabs([\" Event log information\",\"Time and Performance Analysis\",\"Activities Report\",\"Process Discovery\",\"Social Network\"])\n",
    "        # Tab 1 - Log File Info\n",
    "        with tab1:\n",
    "            st.header(\":page_facing_up:\" \"Log File and structure\")\n",
    "            st.subheader(\"Basic Information\")\n",
    "            st.write(\"There are **{} patients** in this event log\".format(log[\"case:concept:name\"].nunique()))\n",
    "            st.dataframe(log)\n",
    "            st.subheader(\"Missing Data\")\n",
    "            md = msn.matrix(log)\n",
    "            st.pyplot(md.figure)\n",
    "        # Tab 2 - Time and Performance Analysis\n",
    "        with tab2:\n",
    "            #Gráfico 1 - Case Durations\n",
    "            st.header(\":clock2:\" \"Time and Performance Analysis\")\n",
    "            st.subheader(\"Duration of Traces\")\n",
    "            all_case_durations = pm.get_all_case_durations(elog)\n",
    "            durations = pd.DataFrame(all_case_durations,columns=[\"durat\"])\n",
    "            durations.durat = durations.durat.apply(lambda x : (((x/60)/60)/24))\n",
    "            fig5=pe.histogram(durations,\n",
    "            template=\"simple_white\",\n",
    "            width = 700,\n",
    "            height = 400,\n",
    "            labels={\"value\":\"Nº de dias\"},\n",
    "            marginal=\"box\")\n",
    "            fig5.update_layout(showlegend=False)\n",
    "            st.plotly_chart(fig5)\n",
    "            #Gráfico 2 - Log density over time\n",
    "            st.subheader(\"Log Density over time\")\n",
    "            x, y = attributes_filter.get_kde_date_attribute(elog, attribute=\"time:timestamp\")\n",
    "            gviz = graphs_visualizer.apply_plot(x, y, variant=graphs_visualizer.Variants.DATES)\n",
    "            image = Image.open(gviz)\n",
    "            st.image(image)\n",
    "            # Gráficos 3 - Days of the week\n",
    "            st.subheader(\"Distribution of log by day of the week\")\n",
    "        # Tab 3 - Activities Report\n",
    "        with tab3:\n",
    "            st.header(\":bar_chart:\" \"Activities Report\")\n",
    "            #Gráfico 1 - N activities\n",
    "            st.subheader(\"Number of activities by patient\")\n",
    "            n_activities = log.groupby(\"case:concept:name\")[\"concept:name\"].count()\n",
    "            n_act_graph = pe.box(n_activities,\n",
    "            width = 700,\n",
    "            height = 400,\n",
    "            template = \"simple_white\",\n",
    "            orientation=\"h\",\n",
    "            labels = {\"value\" : \"N Activities\", \"variable\" : \"\"})\n",
    "            st.plotly_chart(n_act_graph)\n",
    "            #Gráfico 2 - Most common activities\n",
    "            st.subheader(\"Top10 activities\")\n",
    "            log3=log[[\"case:concept:name\",\"concept:name\"]]\n",
    "            gb=log3.value_counts().to_frame(\"counts\").reset_index()\n",
    "            d_act=gb[\"concept:name\"].value_counts().head(10).to_frame()\n",
    "            d_act[\"concept:name\"]=d_act[\"concept:name\"].apply(lambda x : (x*100)/log[\"case:concept:name\"].nunique())\n",
    "            d_act[\"concept:name\"]=d_act[\"concept:name\"].round(decimals=1)\n",
    "            fig2=pe.bar(d_act,\n",
    "            template=\"simple_white\",\n",
    "            width=700,\n",
    "            height=400,\n",
    "            labels={\"value\":\"%\",\"index\":\"\"},\n",
    "            color_discrete_sequence=[\"Teal\"])\n",
    "            fig2.update_layout(showlegend=False)\n",
    "            st.plotly_chart(fig2)\n",
    "            #Gráfico 3 - Traces\n",
    "            st.subheader(\"Most common traces\")\n",
    "            list_cases = log[\"case:concept:name\"].unique()\n",
    "            Traces = []\n",
    "            ids = []\n",
    "            for i in list_cases:\n",
    "                a = log.loc[log[\"case:concept:name\"] == \"{}\".format(i)].sort_values([\"time:timestamp\"])\n",
    "                b = a[\"concept:name\"].str.cat(sep=\",\")\n",
    "                ids.append(i)\n",
    "                Traces.append(b)\n",
    "            trace_db = pd.DataFrame({\"ID\":ids,\"Trace\":Traces})\n",
    "            trace_db = trace_db.Trace.value_counts().head(10).to_frame().reset_index()\n",
    "            trace_db.Trace = trace_db.Trace.apply(lambda x : (x*100)/log[\"case:concept:name\"].nunique())\n",
    "            trace_db.Trace = trace_db.Trace.round(decimals=1)\n",
    "            fig4 = pe.bar(trace_db, x = \"Trace\", y = \"index\",\n",
    "            orientation=\"h\",\n",
    "            width = 1000,\n",
    "            height = 400,\n",
    "            template=\"simple_white\",\n",
    "            labels={\"index\":\"\",\"Trace\":\"%\"},\n",
    "            color_discrete_sequence=[\"Teal\"],\n",
    "            text=\"Trace\").update_yaxes(categoryorder=\"total ascending\").update_xaxes(visible=False)\n",
    "            fig4.update_layout(yaxis=dict(tickfont=dict(size=8)))\n",
    "            fig4.update_traces(textposition=\"outside\")\n",
    "            st.plotly_chart(fig4)\n",
    "\n",
    "            \n",
    "        with tab4:\n",
    "            filtered_log = pm.filter_case_size(elog, 3, 30)\n",
    "            heu_net = pm.discover_heuristics_net(filtered_log, dependency_threshold=0.99, loop_two_threshold=0.99)\n",
    "        #Tab 5 - Social Network\n",
    "        with tab5:\n",
    "            st.subheader(\":male-doctor:\"\"Social Network\")\n",
    "            hw_values = pm.discover_handover_of_work_network(elog)\n",
    "            gviz2 = sna_visualizer.apply(hw_values, variant=sna_visualizer.Variants.PYVIS)\n",
    "            path = os.getcwd()\n",
    "            sna_visualizer.save(gviz2,f\"{path}/html_files/pyvis_graph.html\")\n",
    "            HtmlFile = open(f\"{path}/html_files/pyvis_graph.html\")\n",
    "            components.html(HtmlFile.read(), width = 800, height = 800)\n",
    "    \n",
    "\n"
   ]
  },
  {
   "cell_type": "markdown",
   "metadata": {},
   "source": [
    "## Page 2"
   ]
  },
  {
   "cell_type": "code",
   "execution_count": 28,
   "metadata": {},
   "outputs": [
    {
     "name": "stdout",
     "output_type": "stream",
     "text": [
      "Overwriting pages/✅_Conformance_Checking.py\n"
     ]
    }
   ],
   "source": [
    "%%writefile \"pages/✅_Conformance_Checking.py\"\n",
    "\n",
    "import streamlit as st\n",
    "import pandas as pd\n",
    "import matplotlib.pyplot as plt\n",
    "import numpy as np\n",
    "import seaborn as sns\n",
    "import pm4py as pm\n",
    "import os\n",
    "import plotly.express as pe\n",
    "\n",
    "st.set_page_config(\n",
    "     page_title=\"Conformance Analysis\",\n",
    "     page_icon=\":heavy_check_mark:\",\n",
    "     layout=\"wide\")\n",
    "\n",
    "# Password check\n",
    "\n",
    "def check_password():\n",
    "    \"\"\"Returns `True` if the user had the correct password.\"\"\"\n",
    "\n",
    "    def password_entered():\n",
    "        \"\"\"Checks whether a password entered by the user is correct.\"\"\"\n",
    "        if st.session_state[\"password\"] == st.secrets[\"password\"]:\n",
    "            st.session_state[\"password_correct\"] = True\n",
    "            del st.session_state[\"password\"]  # don't store password\n",
    "        else:\n",
    "            st.session_state[\"password_correct\"] = False\n",
    "\n",
    "    if \"password_correct\" not in st.session_state:\n",
    "        # First run, show input for password.\n",
    "        st.text_input(\n",
    "            \"Password\", type=\"password\", on_change=password_entered, key=\"password\"\n",
    "        )\n",
    "        return False\n",
    "    elif not st.session_state[\"password_correct\"]:\n",
    "        # Password not correct, show input + error.\n",
    "        st.text_input(\n",
    "            \"Password\", type=\"password\", on_change=password_entered, key=\"password\"\n",
    "        )\n",
    "        st.error(\"😕 Password incorrect\")\n",
    "        return False\n",
    "    else:\n",
    "        # Password correct.\n",
    "        return True\n",
    "\n",
    "if check_password() == True:\n",
    "\n",
    "\n",
    "    # App structure\n",
    "\n",
    "    st.title(\"Conformance Analysis\")\n",
    "    \n",
    "    #Upload Log File\n",
    "\n",
    "    log_file_input = st.file_uploader(\"Upload the event log file\", accept_multiple_files=False, type = [\".xlsx\",\".csv\",\".xes\"], help = \"The event log should have the following structure: ID, Timestamp, Activity, Resource\")\n",
    "\n",
    "    # Upload BPMN\n",
    "    bpmn_file_input = st.file_uploader(\"Upload the BPMN file\", accept_multiple_files=False, type = [\".bpmn\"])\n",
    "\n",
    "    if st.button(\"Analisar\"):\n",
    "        if (os.path.splitext(log_file_input.name)[1]) == \".csv\":\n",
    "            log = pd.read_csv(log_file_input)\n",
    "            log = log.rename(columns={log.columns[3]:\"org:resource\"})\n",
    "            log = pm.format_dataframe(log, case_id = log.columns[0], activity_key=log.columns[2], timestamp_key=log.columns[1])\n",
    "            log = log[['org:resource', 'case:concept:name', 'concept:name', 'time:timestamp']]\n",
    "            log[\"org:resource\"] = log[\"org:resource\"].astype(str)\n",
    "            elog = pm.convert_to_event_log(log)\n",
    "        elif (os.path.splitext(log_file_input.name)[1]) == \".xlsx\":\n",
    "            log = pd.read_excel(log_file_input)\n",
    "            log = log.rename(columns={log.columns[3]:\"org:resource\"})\n",
    "            log = pm.format_dataframe(log, case_id = log.columns[0], activity_key=log.columns[2], timestamp_key=log.columns[1])\n",
    "            log = log[['org:resource', 'case:concept:name', 'concept:name', 'time:timestamp']]\n",
    "            log[\"org:resource\"] = log[\"org:resource\"].astype(str)\n",
    "            elog = pm.convert_to_event_log(log)\n",
    "        else:\n",
    "            log = pm.read_xes(log_file_input)\n",
    "            filtered_log = pm.filter_case_size(log, 3, 30)\n",
    "            heu_net = pm.discover_heuristics_net(filtered_log, dependency_threshold=0.99, loop_two_threshold=0.99)\n",
    "            pm.save_vis_heuristics_net(heu_net, \"net.png\")\n",
    "            st.image(\"net.png\")\n",
    "        # Read BPMN and transform to petrinet\n",
    "        bpmn_graph = pm.read_bpmn(bpmn_file_input)\n",
    "        net, im, fm = pm.convert_to_petri_net(bpmn_graph)\n",
    "        tab1,tab2 = st.tabs([\"Token Replay Method\",\"Alignments Method\"])\n",
    "        # Token Replay Method\n",
    "        with tab1:\n",
    "            replayed_traces = pm.conformance_diagnostics_token_based_replay(elog, net, im, fm)\n",
    "            list_tf = []\n",
    "            for i in range(len(replayed_traces)):\n",
    "                trace_sel = replayed_traces[i]\n",
    "                tf_t = trace_sel.get(\"trace_fitness\")\n",
    "                list_tf.append(tf_t)\n",
    "            st.header(\"Token Replay Method\")\n",
    "            st.markdown(\"Token-based replay technique is a conformance checking algorithm that checks how well a process conforms with its model by replaying each trace on the model.Using the four counters produced tokens, consumed tokens, missing tokens, and remaining tokens, it records the situations where a transition is forced to fire and the remaining tokens after the replay ends. Based on the count at each counter, we can compute the fitness value between the trace and the model.\")\n",
    "            st.subheader(\"The trace fitness value is **{:.2f}**\".format(np.mean(list_tf)))\n",
    "            tf_g1=pe.histogram(list_tf,\n",
    "            template=\"simple_white\",\n",
    "            width = 900,\n",
    "            height = 400,\n",
    "            labels={\"variable\":\"Trace Fitness\"},\n",
    "            color_discrete_sequence=[\"teal\"],\n",
    "            marginal=\"box\").update_xaxes(visible=False)\n",
    "            tf_g1.update_layout(showlegend=False)\n",
    "            st.plotly_chart(tf_g1)\n",
    "        #Alignment Method\n",
    "        with tab2:\n",
    "            aligned_traces = pm.conformance_diagnostics_alignments(elog,net,im,fm)\n",
    "            list_tf2 = []\n",
    "            for i in range(len(aligned_traces)):\n",
    "                trace_sel2 = aligned_traces[i]\n",
    "                tf_t2 = trace_sel2.get(\"fitness\")\n",
    "                list_tf2.append(tf_t2)\n",
    "            st.header(\"Alignment method\")\n",
    "            st.markdown(\"Alignments is a technique, which performs an exhaustive search to find out the optimal alignment between the observed trace and the process model. Hence, it is guaranteed to return the closest model run in comparison to the trace.\")\n",
    "            st.subheader(\"The trace fitness value is **{:.2f}**\".format(np.mean(list_tf2)))\n",
    "            tf_g2=pe.histogram(list_tf2,\n",
    "            template=\"simple_white\",\n",
    "            width = 900,\n",
    "            height = 400,\n",
    "            labels={\"variable\":\"Trace Fitness\"},\n",
    "            color_discrete_sequence=[\"teal\"],\n",
    "            marginal=\"box\").update_xaxes(visible=False)\n",
    "            tf_g2.update_layout(showlegend=False)\n",
    "            st.plotly_chart(tf_g2)\n",
    "\n",
    "    "
   ]
  },
  {
   "cell_type": "code",
   "execution_count": 7,
   "metadata": {},
   "outputs": [],
   "source": [
    "bpmn_graph = pm.read_bpmn(\"Diagram 1.bpmn\")\n",
    "net, im, fm = pm.convert_to_petri_net(bpmn_graph)"
   ]
  },
  {
   "cell_type": "code",
   "execution_count": 8,
   "metadata": {},
   "outputs": [
    {
     "data": {
      "application/vnd.jupyter.widget-view+json": {
       "model_id": "074253e1e1434acaac5c772e3eaee961",
       "version_major": 2,
       "version_minor": 0
      },
      "text/plain": [
       "replaying log with TBR, completed variants ::   0%|          | 0/573 [00:00<?, ?it/s]"
      ]
     },
     "metadata": {},
     "output_type": "display_data"
    }
   ],
   "source": [
    "replayed_traces = pm.conformance_diagnostics_token_based_replay(elog, net, im, fm)"
   ]
  },
  {
   "cell_type": "code",
   "execution_count": 9,
   "metadata": {},
   "outputs": [
    {
     "name": "stdout",
     "output_type": "stream",
     "text": [
      "The trace fitness is 0.36205191911402873\n"
     ]
    }
   ],
   "source": [
    "list_tf = []\n",
    "for i in range(len(replayed_traces)):\n",
    "    trace_sel = replayed_traces[i]\n",
    "    tf_t = trace_sel.get(\"trace_fitness\")\n",
    "    list_tf.append(tf_t)\n",
    "\n",
    "print(\"The trace fitness is {}\".format(np.mean(list_tf)))\n"
   ]
  },
  {
   "cell_type": "code",
   "execution_count": 14,
   "metadata": {},
   "outputs": [
    {
     "data": {
      "application/vnd.jupyter.widget-view+json": {
       "model_id": "cb0b6410af8449f7bad4f6ef5cf429b2",
       "version_major": 2,
       "version_minor": 0
      },
      "text/plain": [
       "aligning log, completed variants ::   0%|          | 0/573 [00:00<?, ?it/s]"
      ]
     },
     "metadata": {},
     "output_type": "display_data"
    }
   ],
   "source": [
    "aligned_traces = pm.conformance_diagnostics_alignments(elog,net,im,fm)"
   ]
  },
  {
   "cell_type": "code",
   "execution_count": 16,
   "metadata": {},
   "outputs": [
    {
     "name": "stdout",
     "output_type": "stream",
     "text": [
      "The trace fitness is 0.42194506447763647\n"
     ]
    }
   ],
   "source": [
    "list_tf = []\n",
    "for i in range(len(aligned_traces)):\n",
    "    trace_sel = aligned_traces[i]\n",
    "    tf_t = trace_sel.get(\"fitness\")\n",
    "    list_tf.append(tf_t)\n",
    "\n",
    "print(\"The trace fitness is {}\".format(np.mean(list_tf)))"
   ]
  },
  {
   "cell_type": "code",
   "execution_count": 24,
   "metadata": {},
   "outputs": [
    {
     "data": {
      "application/vnd.plotly.v1+json": {
       "config": {
        "plotlyServerURL": "https://plot.ly"
       },
       "data": [
        {
         "alignmentgroup": "True",
         "bingroup": "x",
         "hovertemplate": "Trace Fitness=0<br>value=%{x}<br>count=%{y}<extra></extra>",
         "legendgroup": "0",
         "marker": {
          "color": "teal"
         },
         "name": "0",
         "offsetgroup": "0",
         "orientation": "v",
         "showlegend": true,
         "type": "histogram",
         "x": [
          0.4444444444444444,
          0.5833333333333333,
          0.41666666666666663,
          0.3529411764705882,
          0.3529411764705882,
          0.33333333333333337,
          0.5,
          0.3529411764705882,
          0.5217391304347826,
          0.32558139534883723,
          0.5714285714285714,
          0.23529411764705888,
          0.2978723404255319,
          0.33333333333333337,
          0.2222222222222222,
          0.10526315789473684,
          0.4545454545454546,
          0.3157894736842105,
          0.2941176470588235,
          0.33333333333333337,
          0.33333333333333337,
          0.42105263157894735,
          0.38095238095238093,
          0.42105263157894735,
          0.48,
          0.3529411764705882,
          0.5185185185185186,
          0.42105263157894735,
          0.33333333333333337,
          0.3529411764705882,
          0.33333333333333337,
          0.33333333333333337,
          0.33333333333333337,
          0.3529411764705882,
          0.2222222222222222,
          0.4444444444444444,
          0.3157894736842105,
          0.3529411764705882,
          0.42105263157894735,
          0.4444444444444444,
          0.42105263157894735,
          0.33333333333333337,
          0.42105263157894735,
          0.33333333333333337,
          0.4,
          0.42105263157894735,
          0.3529411764705882,
          0.33333333333333337,
          0.33333333333333337,
          0.33333333333333337,
          0.42105263157894735,
          0.3157894736842105,
          0.4,
          0.42105263157894735,
          0.42105263157894735,
          0.42105263157894735,
          0.3902439024390244,
          0.4,
          0.23529411764705888,
          0.42105263157894735,
          0.5,
          0.4545454545454546,
          0.5263157894736843,
          0.33333333333333337,
          0.42105263157894735,
          0.4444444444444444,
          0.3870967741935484,
          0.19999999999999996,
          0.4,
          0.5,
          0.4242424242424242,
          0.4375,
          0.3414634146341463,
          0.38888888888888884,
          0.4285714285714286,
          0.4375,
          0.46153846153846156,
          0.4347826086956522,
          0.3870967741935484,
          0.4,
          0.5,
          0.5217391304347826,
          0.33333333333333337,
          0.5217391304347826,
          0.5,
          0.375,
          0.22857142857142854,
          0.4117647058823529,
          0.4117647058823529,
          0.3111111111111111,
          0.368421052631579,
          0.4,
          0.48,
          0.5384615384615384,
          0.5,
          0.4516129032258065,
          0.32558139534883723,
          0.4347826086956522,
          0.35,
          0.33333333333333337,
          0.35,
          0.4117647058823529,
          0.48275862068965514,
          0.48275862068965514,
          0.5,
          0.48275862068965514,
          0.35,
          0.4117647058823529,
          0.46153846153846156,
          0.47619047619047616,
          0.303030303030303,
          0.3870967741935484,
          0.38888888888888884,
          0.35,
          0.33333333333333337,
          0.5,
          0.3846153846153846,
          0.5714285714285714,
          0.47058823529411764,
          0.36363636363636365,
          0.4242424242424242,
          0.2941176470588235,
          0.4666666666666667,
          0.2790697674418605,
          0.4516129032258065,
          0.20253164556962022,
          0.3111111111111111,
          0.3529411764705882,
          0.37209302325581395,
          0.4285714285714286,
          0.38095238095238093,
          0.4571428571428572,
          0.3529411764705882,
          0.48,
          0.5,
          0.3076923076923077,
          0.33333333333333337,
          0.368421052631579,
          0.4,
          0.4444444444444444,
          0.2857142857142857,
          0.4347826086956522,
          0.3125,
          0.41025641025641024,
          0.4347826086956522,
          0.3846153846153846,
          0.32432432432432434,
          0.1875,
          0.6153846153846154,
          0.5,
          0.4242424242424242,
          0.29166666666666663,
          0.4,
          0.5185185185185186,
          0.48275862068965514,
          0.46153846153846156,
          0.5,
          0.4,
          0.4347826086956522,
          0.4666666666666667,
          0.47058823529411764,
          0.5,
          0.34782608695652173,
          0.4,
          0.41666666666666663,
          0.41666666666666663,
          0.3448275862068966,
          0.6363636363636364,
          0.33333333333333337,
          0.32432432432432434,
          0.36363636363636365,
          0.4444444444444444,
          0.3571428571428571,
          0.5384615384615384,
          0.4375,
          0.5833333333333333,
          0.30000000000000004,
          0.4545454545454546,
          0.38095238095238093,
          0.5,
          0.23076923076923073,
          0.368421052631579,
          0.5714285714285714,
          0.375,
          0.5,
          0.3125,
          0.4571428571428572,
          0.2666666666666667,
          0.4545454545454546,
          0.38095238095238093,
          0.48,
          0.4,
          0.4444444444444444,
          0.41860465116279066,
          0.48275862068965514,
          0.4545454545454546,
          0.31999999999999995,
          0.3846153846153846,
          0.4137931034482759,
          0.2857142857142857,
          0.46153846153846156,
          0.5333333333333333,
          0.23333333333333328,
          0.4444444444444444,
          0.31818181818181823,
          0.48,
          0.33333333333333337,
          0.5,
          0.32432432432432434,
          0.4,
          0.3870967741935484,
          0.4137931034482759,
          0.48,
          0.2857142857142857,
          0.5454545454545454,
          0.4,
          0.5217391304347826,
          0.4375,
          0.5,
          0.4516129032258065,
          0.38095238095238093,
          0.47619047619047616,
          0.5,
          0.4347826086956522,
          0.46153846153846156,
          0.3529411764705882,
          0.48275862068965514,
          0.43243243243243246,
          0.2702702702702703,
          0.4347826086956522,
          0.34285714285714286,
          0.4347826086956522,
          0.41666666666666663,
          0.4137931034482759,
          0.5,
          0.23529411764705888,
          0.32558139534883723,
          0.5,
          0.4444444444444444,
          0.3870967741935484,
          0.3902439024390244,
          0.41666666666666663,
          0.42105263157894735,
          0.4,
          0.36363636363636365,
          0.4137931034482759,
          0.326530612244898,
          0.4,
          0.5,
          0.5,
          0.26086956521739135,
          0.5,
          0.2962962962962963,
          0.33333333333333337,
          0.5714285714285714,
          0.5217391304347826,
          0.4,
          0.47619047619047616,
          0.36363636363636365,
          0.23529411764705888,
          0.4347826086956522,
          0.35,
          0.3111111111111111,
          0.5,
          0.4285714285714286,
          0.4,
          0.5,
          0.4,
          0.30000000000000004,
          0.36363636363636365,
          0.41666666666666663,
          0.32432432432432434,
          0.4285714285714286,
          0.4,
          0.4,
          0.303030303030303,
          0.5454545454545454,
          0.4347826086956522,
          0.32558139534883723,
          0.34782608695652173,
          0.5,
          0.30434782608695654,
          0.5,
          0.48275862068965514,
          0.56,
          0.3529411764705882,
          0.46153846153846156,
          0.21276595744680848,
          0.33333333333333337,
          0.41666666666666663,
          0.4545454545454546,
          0.48275862068965514,
          0.3076923076923077,
          0.4666666666666667,
          0.3448275862068966,
          0.41666666666666663,
          0.6,
          0.4545454545454546,
          0.4375,
          0.4444444444444444,
          0.5454545454545454,
          0.2857142857142857,
          0.5161290322580645,
          0.2777777777777778,
          0.38095238095238093,
          0.24,
          0.23076923076923073,
          0.375,
          0.36363636363636365,
          0.48,
          0.34285714285714286,
          0.5384615384615384,
          0.4444444444444444,
          0.2068965517241379,
          0.42105263157894735,
          0.4137931034482759,
          0.4,
          0.38095238095238093,
          0.4242424242424242,
          0.5454545454545454,
          0.5185185185185186,
          0.4,
          0.4516129032258065,
          0.3125,
          0.2941176470588235,
          0.41666666666666663,
          0.31999999999999995,
          0.48275862068965514,
          0.3870967741935484,
          0.4,
          0.4285714285714286,
          0.25,
          0.5925925925925926,
          0.375,
          0.3783783783783784,
          0.5,
          0.4285714285714286,
          0.37037037037037035,
          0.5,
          0.48,
          0.3076923076923077,
          0.33333333333333337,
          0.11764705882352944,
          0.3529411764705882,
          0.26086956521739135,
          0.3529411764705882,
          0.41666666666666663,
          0.5714285714285714,
          0.3529411764705882,
          0.4516129032258065,
          0.4117647058823529,
          0.36363636363636365,
          0.48,
          0.4285714285714286,
          0.5454545454545454,
          0.4137931034482759,
          0.5454545454545454,
          0.2564102564102564,
          0.2222222222222222,
          0.41666666666666663,
          0.5,
          0.4444444444444444,
          0.38095238095238093,
          0.34782608695652173,
          0.5,
          0.41666666666666663,
          0.4516129032258065,
          0.4117647058823529,
          0.4347826086956522,
          0.3846153846153846,
          0.24,
          0.42105263157894735,
          0.4545454545454546,
          0.4666666666666667,
          0.34782608695652173,
          0.19047619047619047,
          0.31999999999999995,
          0.4137931034482759,
          0.2941176470588235,
          0.4,
          0.3076923076923077,
          0.4516129032258065,
          0.34782608695652173,
          0.4545454545454546,
          0.2564102564102564,
          0.31999999999999995,
          0.42105263157894735,
          0.4,
          0.5517241379310345,
          0.42105263157894735,
          0.47058823529411764,
          0.3846153846153846,
          0.33333333333333337,
          0.4,
          0.2777777777777778,
          0.4,
          0.37037037037037035,
          0.42105263157894735,
          0.5,
          0.5263157894736843,
          0.5217391304347826,
          0.37037037037037035,
          0.42105263157894735,
          0.3157894736842105,
          0.5454545454545454,
          0.4444444444444444,
          0.5161290322580645,
          0.5454545454545454,
          0.41666666666666663,
          0.5833333333333333,
          0.38888888888888884,
          0.47619047619047616,
          0.5384615384615384,
          0.33333333333333337,
          0.5,
          0.5714285714285714,
          0.375,
          0.6086956521739131,
          0.4347826086956522,
          0.4,
          0.46153846153846156,
          0.42105263157894735,
          0.5454545454545454,
          0.5833333333333333,
          0.38095238095238093,
          0.46153846153846156,
          0.4516129032258065,
          0.5,
          0.4516129032258065,
          0.5,
          0.37037037037037035,
          0.48,
          0.4666666666666667,
          0.5833333333333333,
          0.5217391304347826,
          0.5,
          0.5263157894736843,
          0.33333333333333337,
          0.23529411764705888,
          0.30000000000000004,
          0.4516129032258065,
          0.3448275862068966,
          0.4516129032258065,
          0.5714285714285714,
          0.48275862068965514,
          0.56,
          0.26415094339622647,
          0.375,
          0.36363636363636365,
          0.4444444444444444,
          0.41666666666666663,
          0.33333333333333337,
          0.5,
          0.4444444444444444,
          0.46153846153846156,
          0.38095238095238093,
          0.5833333333333333,
          0.3870967741935484,
          0.5,
          0.47619047619047616,
          0.5217391304347826,
          0.6,
          0.47619047619047616,
          0.5714285714285714,
          0.5714285714285714,
          0.5,
          0.5217391304347826,
          0.46153846153846156,
          0.6363636363636364,
          0.5454545454545454,
          0.5,
          0.3589743589743589,
          0.4444444444444444,
          0.3529411764705882,
          0.38888888888888884,
          0.4137931034482759,
          0.5714285714285714,
          0.5,
          0.125,
          0.47619047619047616,
          0.3783783783783784,
          0.3157894736842105,
          0.4347826086956522,
          0.4666666666666667,
          0.11764705882352944,
          0.4,
          0.375,
          0.5,
          0.5,
          0.5217391304347826,
          0.5,
          0.5,
          0.4444444444444444,
          0.42105263157894735,
          0.4516129032258065,
          0.4,
          0.36363636363636365,
          0.36363636363636365,
          0.5384615384615384,
          0.6666666666666667,
          0.47619047619047616,
          0.6086956521739131,
          0.4444444444444444,
          0.375,
          0.38095238095238093,
          0.5,
          0.47619047619047616,
          0.5714285714285714,
          0.41666666666666663,
          0.4347826086956522,
          0.33333333333333337,
          0.4347826086956522,
          0.3571428571428571,
          0.4516129032258065,
          0.4666666666666667,
          0.6,
          0.3529411764705882,
          0.4444444444444444,
          0.4242424242424242,
          0.2857142857142857,
          0.4,
          0.4444444444444444,
          0.41666666666666663,
          0.5384615384615384,
          0.5714285714285714,
          0.5454545454545454,
          0.37037037037037035,
          0.29268292682926833,
          0.4444444444444444,
          0.47619047619047616,
          0.3529411764705882,
          0.4444444444444444,
          0.33333333333333337,
          0.33333333333333337,
          0.4,
          0.4444444444444444,
          0.5454545454545454,
          0.4375,
          0.4545454545454546,
          0.46153846153846156,
          0.6086956521739131,
          0.4,
          0.5833333333333333,
          0.33333333333333337,
          0.2857142857142857,
          0.4137931034482759,
          0.46153846153846156,
          0.48,
          0.38095238095238093,
          0.3846153846153846,
          0.4,
          0.4117647058823529,
          0.5,
          0.36363636363636365,
          0.368421052631579,
          0.3870967741935484,
          0.5454545454545454,
          0.6,
          0.5,
          0.5454545454545454,
          0.3555555555555555,
          0.4545454545454546,
          0.4444444444444444,
          0.6363636363636364,
          0.3076923076923077,
          0.5454545454545454,
          0.5,
          0.5454545454545454,
          0.3157894736842105,
          0.5,
          0.2222222222222222,
          0.41666666666666663,
          0.4,
          0.4347826086956522,
          0.48275862068965514,
          0.5,
          0.48,
          0.3846153846153846,
          0.38095238095238093,
          0.47619047619047616,
          0.5454545454545454,
          0.4545454545454546,
          0.5,
          0.6,
          0.5714285714285714,
          0.5217391304347826,
          0.33333333333333337,
          0.4,
          0.33333333333333337,
          0.5384615384615384,
          0.37037037037037035,
          0.48,
          0.5,
          0.41666666666666663,
          0.4347826086956522,
          0.42105263157894735,
          0.31999999999999995,
          0.42105263157894735,
          0.3571428571428571,
          0.47619047619047616,
          0.4285714285714286,
          0.5454545454545454,
          0.46153846153846156,
          0.4137931034482759,
          0.38095238095238093,
          0.41666666666666663,
          0.4,
          0.4347826086956522,
          0.25,
          0.34782608695652173,
          0.5384615384615384,
          0.41666666666666663,
          0.5714285714285714,
          0.56,
          0.38095238095238093,
          0.33333333333333337,
          0.31999999999999995,
          0.48,
          0.4285714285714286,
          0.5714285714285714,
          0.34285714285714286,
          0.3076923076923077,
          0.41666666666666663,
          0.5,
          0.48275862068965514,
          0.33333333333333337,
          0.5217391304347826,
          0.5714285714285714,
          0.5454545454545454,
          0.47619047619047616,
          0.46153846153846156,
          0.4347826086956522,
          0.5217391304347826,
          0.42105263157894735,
          0.48,
          0.4666666666666667,
          0.5217391304347826,
          0.5263157894736843,
          0.42105263157894735,
          0.5714285714285714,
          0.4545454545454546,
          0.5217391304347826,
          0.38095238095238093,
          0.42105263157894735,
          0.6666666666666667,
          0.6666666666666667,
          0.5,
          0.5714285714285714,
          0.2727272727272727,
          0.5714285714285714,
          0.5833333333333333,
          0.5833333333333333,
          0.42105263157894735,
          0.5,
          0.5,
          0.6,
          0.6086956521739131,
          0.5263157894736843,
          0.23529411764705888,
          0.4444444444444444,
          0.4347826086956522,
          0.5,
          0.4347826086956522,
          0.38095238095238093,
          0.4545454545454546,
          0.47619047619047616,
          0.48,
          0.3157894736842105,
          0.48,
          0.5,
          0.5217391304347826,
          0.5,
          0.41666666666666663,
          0.4,
          0.46153846153846156,
          0.4,
          0.34782608695652173,
          0.3157894736842105,
          0.4444444444444444,
          0.23529411764705888,
          0.4347826086956522,
          0.5,
          0.6363636363636364,
          0.4545454545454546,
          0.38095238095238093,
          0.5,
          0.125,
          0.5454545454545454,
          0.4444444444444444,
          0.5454545454545454,
          0.4,
          0.30000000000000004,
          0.5,
          0.5,
          0.3529411764705882,
          0.2592592592592593,
          0.5263157894736843,
          0.5,
          0.5,
          0.5,
          0.4,
          0.4375,
          0.47058823529411764,
          0.34285714285714286,
          0.37037037037037035,
          0.303030303030303,
          0.5185185185185186,
          0.30434782608695654,
          0.368421052631579,
          0.31818181818181823,
          0.4137931034482759,
          0.38888888888888884
         ],
         "xaxis": "x",
         "yaxis": "y"
        },
        {
         "alignmentgroup": "True",
         "hovertemplate": "Trace Fitness=0<br>value=%{x}<extra></extra>",
         "legendgroup": "0",
         "marker": {
          "color": "teal"
         },
         "name": "0",
         "notched": true,
         "offsetgroup": "0",
         "showlegend": false,
         "type": "box",
         "x": [
          0.4444444444444444,
          0.5833333333333333,
          0.41666666666666663,
          0.3529411764705882,
          0.3529411764705882,
          0.33333333333333337,
          0.5,
          0.3529411764705882,
          0.5217391304347826,
          0.32558139534883723,
          0.5714285714285714,
          0.23529411764705888,
          0.2978723404255319,
          0.33333333333333337,
          0.2222222222222222,
          0.10526315789473684,
          0.4545454545454546,
          0.3157894736842105,
          0.2941176470588235,
          0.33333333333333337,
          0.33333333333333337,
          0.42105263157894735,
          0.38095238095238093,
          0.42105263157894735,
          0.48,
          0.3529411764705882,
          0.5185185185185186,
          0.42105263157894735,
          0.33333333333333337,
          0.3529411764705882,
          0.33333333333333337,
          0.33333333333333337,
          0.33333333333333337,
          0.3529411764705882,
          0.2222222222222222,
          0.4444444444444444,
          0.3157894736842105,
          0.3529411764705882,
          0.42105263157894735,
          0.4444444444444444,
          0.42105263157894735,
          0.33333333333333337,
          0.42105263157894735,
          0.33333333333333337,
          0.4,
          0.42105263157894735,
          0.3529411764705882,
          0.33333333333333337,
          0.33333333333333337,
          0.33333333333333337,
          0.42105263157894735,
          0.3157894736842105,
          0.4,
          0.42105263157894735,
          0.42105263157894735,
          0.42105263157894735,
          0.3902439024390244,
          0.4,
          0.23529411764705888,
          0.42105263157894735,
          0.5,
          0.4545454545454546,
          0.5263157894736843,
          0.33333333333333337,
          0.42105263157894735,
          0.4444444444444444,
          0.3870967741935484,
          0.19999999999999996,
          0.4,
          0.5,
          0.4242424242424242,
          0.4375,
          0.3414634146341463,
          0.38888888888888884,
          0.4285714285714286,
          0.4375,
          0.46153846153846156,
          0.4347826086956522,
          0.3870967741935484,
          0.4,
          0.5,
          0.5217391304347826,
          0.33333333333333337,
          0.5217391304347826,
          0.5,
          0.375,
          0.22857142857142854,
          0.4117647058823529,
          0.4117647058823529,
          0.3111111111111111,
          0.368421052631579,
          0.4,
          0.48,
          0.5384615384615384,
          0.5,
          0.4516129032258065,
          0.32558139534883723,
          0.4347826086956522,
          0.35,
          0.33333333333333337,
          0.35,
          0.4117647058823529,
          0.48275862068965514,
          0.48275862068965514,
          0.5,
          0.48275862068965514,
          0.35,
          0.4117647058823529,
          0.46153846153846156,
          0.47619047619047616,
          0.303030303030303,
          0.3870967741935484,
          0.38888888888888884,
          0.35,
          0.33333333333333337,
          0.5,
          0.3846153846153846,
          0.5714285714285714,
          0.47058823529411764,
          0.36363636363636365,
          0.4242424242424242,
          0.2941176470588235,
          0.4666666666666667,
          0.2790697674418605,
          0.4516129032258065,
          0.20253164556962022,
          0.3111111111111111,
          0.3529411764705882,
          0.37209302325581395,
          0.4285714285714286,
          0.38095238095238093,
          0.4571428571428572,
          0.3529411764705882,
          0.48,
          0.5,
          0.3076923076923077,
          0.33333333333333337,
          0.368421052631579,
          0.4,
          0.4444444444444444,
          0.2857142857142857,
          0.4347826086956522,
          0.3125,
          0.41025641025641024,
          0.4347826086956522,
          0.3846153846153846,
          0.32432432432432434,
          0.1875,
          0.6153846153846154,
          0.5,
          0.4242424242424242,
          0.29166666666666663,
          0.4,
          0.5185185185185186,
          0.48275862068965514,
          0.46153846153846156,
          0.5,
          0.4,
          0.4347826086956522,
          0.4666666666666667,
          0.47058823529411764,
          0.5,
          0.34782608695652173,
          0.4,
          0.41666666666666663,
          0.41666666666666663,
          0.3448275862068966,
          0.6363636363636364,
          0.33333333333333337,
          0.32432432432432434,
          0.36363636363636365,
          0.4444444444444444,
          0.3571428571428571,
          0.5384615384615384,
          0.4375,
          0.5833333333333333,
          0.30000000000000004,
          0.4545454545454546,
          0.38095238095238093,
          0.5,
          0.23076923076923073,
          0.368421052631579,
          0.5714285714285714,
          0.375,
          0.5,
          0.3125,
          0.4571428571428572,
          0.2666666666666667,
          0.4545454545454546,
          0.38095238095238093,
          0.48,
          0.4,
          0.4444444444444444,
          0.41860465116279066,
          0.48275862068965514,
          0.4545454545454546,
          0.31999999999999995,
          0.3846153846153846,
          0.4137931034482759,
          0.2857142857142857,
          0.46153846153846156,
          0.5333333333333333,
          0.23333333333333328,
          0.4444444444444444,
          0.31818181818181823,
          0.48,
          0.33333333333333337,
          0.5,
          0.32432432432432434,
          0.4,
          0.3870967741935484,
          0.4137931034482759,
          0.48,
          0.2857142857142857,
          0.5454545454545454,
          0.4,
          0.5217391304347826,
          0.4375,
          0.5,
          0.4516129032258065,
          0.38095238095238093,
          0.47619047619047616,
          0.5,
          0.4347826086956522,
          0.46153846153846156,
          0.3529411764705882,
          0.48275862068965514,
          0.43243243243243246,
          0.2702702702702703,
          0.4347826086956522,
          0.34285714285714286,
          0.4347826086956522,
          0.41666666666666663,
          0.4137931034482759,
          0.5,
          0.23529411764705888,
          0.32558139534883723,
          0.5,
          0.4444444444444444,
          0.3870967741935484,
          0.3902439024390244,
          0.41666666666666663,
          0.42105263157894735,
          0.4,
          0.36363636363636365,
          0.4137931034482759,
          0.326530612244898,
          0.4,
          0.5,
          0.5,
          0.26086956521739135,
          0.5,
          0.2962962962962963,
          0.33333333333333337,
          0.5714285714285714,
          0.5217391304347826,
          0.4,
          0.47619047619047616,
          0.36363636363636365,
          0.23529411764705888,
          0.4347826086956522,
          0.35,
          0.3111111111111111,
          0.5,
          0.4285714285714286,
          0.4,
          0.5,
          0.4,
          0.30000000000000004,
          0.36363636363636365,
          0.41666666666666663,
          0.32432432432432434,
          0.4285714285714286,
          0.4,
          0.4,
          0.303030303030303,
          0.5454545454545454,
          0.4347826086956522,
          0.32558139534883723,
          0.34782608695652173,
          0.5,
          0.30434782608695654,
          0.5,
          0.48275862068965514,
          0.56,
          0.3529411764705882,
          0.46153846153846156,
          0.21276595744680848,
          0.33333333333333337,
          0.41666666666666663,
          0.4545454545454546,
          0.48275862068965514,
          0.3076923076923077,
          0.4666666666666667,
          0.3448275862068966,
          0.41666666666666663,
          0.6,
          0.4545454545454546,
          0.4375,
          0.4444444444444444,
          0.5454545454545454,
          0.2857142857142857,
          0.5161290322580645,
          0.2777777777777778,
          0.38095238095238093,
          0.24,
          0.23076923076923073,
          0.375,
          0.36363636363636365,
          0.48,
          0.34285714285714286,
          0.5384615384615384,
          0.4444444444444444,
          0.2068965517241379,
          0.42105263157894735,
          0.4137931034482759,
          0.4,
          0.38095238095238093,
          0.4242424242424242,
          0.5454545454545454,
          0.5185185185185186,
          0.4,
          0.4516129032258065,
          0.3125,
          0.2941176470588235,
          0.41666666666666663,
          0.31999999999999995,
          0.48275862068965514,
          0.3870967741935484,
          0.4,
          0.4285714285714286,
          0.25,
          0.5925925925925926,
          0.375,
          0.3783783783783784,
          0.5,
          0.4285714285714286,
          0.37037037037037035,
          0.5,
          0.48,
          0.3076923076923077,
          0.33333333333333337,
          0.11764705882352944,
          0.3529411764705882,
          0.26086956521739135,
          0.3529411764705882,
          0.41666666666666663,
          0.5714285714285714,
          0.3529411764705882,
          0.4516129032258065,
          0.4117647058823529,
          0.36363636363636365,
          0.48,
          0.4285714285714286,
          0.5454545454545454,
          0.4137931034482759,
          0.5454545454545454,
          0.2564102564102564,
          0.2222222222222222,
          0.41666666666666663,
          0.5,
          0.4444444444444444,
          0.38095238095238093,
          0.34782608695652173,
          0.5,
          0.41666666666666663,
          0.4516129032258065,
          0.4117647058823529,
          0.4347826086956522,
          0.3846153846153846,
          0.24,
          0.42105263157894735,
          0.4545454545454546,
          0.4666666666666667,
          0.34782608695652173,
          0.19047619047619047,
          0.31999999999999995,
          0.4137931034482759,
          0.2941176470588235,
          0.4,
          0.3076923076923077,
          0.4516129032258065,
          0.34782608695652173,
          0.4545454545454546,
          0.2564102564102564,
          0.31999999999999995,
          0.42105263157894735,
          0.4,
          0.5517241379310345,
          0.42105263157894735,
          0.47058823529411764,
          0.3846153846153846,
          0.33333333333333337,
          0.4,
          0.2777777777777778,
          0.4,
          0.37037037037037035,
          0.42105263157894735,
          0.5,
          0.5263157894736843,
          0.5217391304347826,
          0.37037037037037035,
          0.42105263157894735,
          0.3157894736842105,
          0.5454545454545454,
          0.4444444444444444,
          0.5161290322580645,
          0.5454545454545454,
          0.41666666666666663,
          0.5833333333333333,
          0.38888888888888884,
          0.47619047619047616,
          0.5384615384615384,
          0.33333333333333337,
          0.5,
          0.5714285714285714,
          0.375,
          0.6086956521739131,
          0.4347826086956522,
          0.4,
          0.46153846153846156,
          0.42105263157894735,
          0.5454545454545454,
          0.5833333333333333,
          0.38095238095238093,
          0.46153846153846156,
          0.4516129032258065,
          0.5,
          0.4516129032258065,
          0.5,
          0.37037037037037035,
          0.48,
          0.4666666666666667,
          0.5833333333333333,
          0.5217391304347826,
          0.5,
          0.5263157894736843,
          0.33333333333333337,
          0.23529411764705888,
          0.30000000000000004,
          0.4516129032258065,
          0.3448275862068966,
          0.4516129032258065,
          0.5714285714285714,
          0.48275862068965514,
          0.56,
          0.26415094339622647,
          0.375,
          0.36363636363636365,
          0.4444444444444444,
          0.41666666666666663,
          0.33333333333333337,
          0.5,
          0.4444444444444444,
          0.46153846153846156,
          0.38095238095238093,
          0.5833333333333333,
          0.3870967741935484,
          0.5,
          0.47619047619047616,
          0.5217391304347826,
          0.6,
          0.47619047619047616,
          0.5714285714285714,
          0.5714285714285714,
          0.5,
          0.5217391304347826,
          0.46153846153846156,
          0.6363636363636364,
          0.5454545454545454,
          0.5,
          0.3589743589743589,
          0.4444444444444444,
          0.3529411764705882,
          0.38888888888888884,
          0.4137931034482759,
          0.5714285714285714,
          0.5,
          0.125,
          0.47619047619047616,
          0.3783783783783784,
          0.3157894736842105,
          0.4347826086956522,
          0.4666666666666667,
          0.11764705882352944,
          0.4,
          0.375,
          0.5,
          0.5,
          0.5217391304347826,
          0.5,
          0.5,
          0.4444444444444444,
          0.42105263157894735,
          0.4516129032258065,
          0.4,
          0.36363636363636365,
          0.36363636363636365,
          0.5384615384615384,
          0.6666666666666667,
          0.47619047619047616,
          0.6086956521739131,
          0.4444444444444444,
          0.375,
          0.38095238095238093,
          0.5,
          0.47619047619047616,
          0.5714285714285714,
          0.41666666666666663,
          0.4347826086956522,
          0.33333333333333337,
          0.4347826086956522,
          0.3571428571428571,
          0.4516129032258065,
          0.4666666666666667,
          0.6,
          0.3529411764705882,
          0.4444444444444444,
          0.4242424242424242,
          0.2857142857142857,
          0.4,
          0.4444444444444444,
          0.41666666666666663,
          0.5384615384615384,
          0.5714285714285714,
          0.5454545454545454,
          0.37037037037037035,
          0.29268292682926833,
          0.4444444444444444,
          0.47619047619047616,
          0.3529411764705882,
          0.4444444444444444,
          0.33333333333333337,
          0.33333333333333337,
          0.4,
          0.4444444444444444,
          0.5454545454545454,
          0.4375,
          0.4545454545454546,
          0.46153846153846156,
          0.6086956521739131,
          0.4,
          0.5833333333333333,
          0.33333333333333337,
          0.2857142857142857,
          0.4137931034482759,
          0.46153846153846156,
          0.48,
          0.38095238095238093,
          0.3846153846153846,
          0.4,
          0.4117647058823529,
          0.5,
          0.36363636363636365,
          0.368421052631579,
          0.3870967741935484,
          0.5454545454545454,
          0.6,
          0.5,
          0.5454545454545454,
          0.3555555555555555,
          0.4545454545454546,
          0.4444444444444444,
          0.6363636363636364,
          0.3076923076923077,
          0.5454545454545454,
          0.5,
          0.5454545454545454,
          0.3157894736842105,
          0.5,
          0.2222222222222222,
          0.41666666666666663,
          0.4,
          0.4347826086956522,
          0.48275862068965514,
          0.5,
          0.48,
          0.3846153846153846,
          0.38095238095238093,
          0.47619047619047616,
          0.5454545454545454,
          0.4545454545454546,
          0.5,
          0.6,
          0.5714285714285714,
          0.5217391304347826,
          0.33333333333333337,
          0.4,
          0.33333333333333337,
          0.5384615384615384,
          0.37037037037037035,
          0.48,
          0.5,
          0.41666666666666663,
          0.4347826086956522,
          0.42105263157894735,
          0.31999999999999995,
          0.42105263157894735,
          0.3571428571428571,
          0.47619047619047616,
          0.4285714285714286,
          0.5454545454545454,
          0.46153846153846156,
          0.4137931034482759,
          0.38095238095238093,
          0.41666666666666663,
          0.4,
          0.4347826086956522,
          0.25,
          0.34782608695652173,
          0.5384615384615384,
          0.41666666666666663,
          0.5714285714285714,
          0.56,
          0.38095238095238093,
          0.33333333333333337,
          0.31999999999999995,
          0.48,
          0.4285714285714286,
          0.5714285714285714,
          0.34285714285714286,
          0.3076923076923077,
          0.41666666666666663,
          0.5,
          0.48275862068965514,
          0.33333333333333337,
          0.5217391304347826,
          0.5714285714285714,
          0.5454545454545454,
          0.47619047619047616,
          0.46153846153846156,
          0.4347826086956522,
          0.5217391304347826,
          0.42105263157894735,
          0.48,
          0.4666666666666667,
          0.5217391304347826,
          0.5263157894736843,
          0.42105263157894735,
          0.5714285714285714,
          0.4545454545454546,
          0.5217391304347826,
          0.38095238095238093,
          0.42105263157894735,
          0.6666666666666667,
          0.6666666666666667,
          0.5,
          0.5714285714285714,
          0.2727272727272727,
          0.5714285714285714,
          0.5833333333333333,
          0.5833333333333333,
          0.42105263157894735,
          0.5,
          0.5,
          0.6,
          0.6086956521739131,
          0.5263157894736843,
          0.23529411764705888,
          0.4444444444444444,
          0.4347826086956522,
          0.5,
          0.4347826086956522,
          0.38095238095238093,
          0.4545454545454546,
          0.47619047619047616,
          0.48,
          0.3157894736842105,
          0.48,
          0.5,
          0.5217391304347826,
          0.5,
          0.41666666666666663,
          0.4,
          0.46153846153846156,
          0.4,
          0.34782608695652173,
          0.3157894736842105,
          0.4444444444444444,
          0.23529411764705888,
          0.4347826086956522,
          0.5,
          0.6363636363636364,
          0.4545454545454546,
          0.38095238095238093,
          0.5,
          0.125,
          0.5454545454545454,
          0.4444444444444444,
          0.5454545454545454,
          0.4,
          0.30000000000000004,
          0.5,
          0.5,
          0.3529411764705882,
          0.2592592592592593,
          0.5263157894736843,
          0.5,
          0.5,
          0.5,
          0.4,
          0.4375,
          0.47058823529411764,
          0.34285714285714286,
          0.37037037037037035,
          0.303030303030303,
          0.5185185185185186,
          0.30434782608695654,
          0.368421052631579,
          0.31818181818181823,
          0.4137931034482759,
          0.38888888888888884
         ],
         "xaxis": "x2",
         "yaxis": "y2"
        }
       ],
       "layout": {
        "barmode": "relative",
        "height": 400,
        "legend": {
         "title": {
          "text": "Trace Fitness"
         },
         "tracegroupgap": 0
        },
        "margin": {
         "t": 60
        },
        "showlegend": false,
        "template": {
         "data": {
          "bar": [
           {
            "error_x": {
             "color": "rgb(36,36,36)"
            },
            "error_y": {
             "color": "rgb(36,36,36)"
            },
            "marker": {
             "line": {
              "color": "white",
              "width": 0.5
             }
            },
            "type": "bar"
           }
          ],
          "barpolar": [
           {
            "marker": {
             "line": {
              "color": "white",
              "width": 0.5
             }
            },
            "type": "barpolar"
           }
          ],
          "carpet": [
           {
            "aaxis": {
             "endlinecolor": "rgb(36,36,36)",
             "gridcolor": "white",
             "linecolor": "white",
             "minorgridcolor": "white",
             "startlinecolor": "rgb(36,36,36)"
            },
            "baxis": {
             "endlinecolor": "rgb(36,36,36)",
             "gridcolor": "white",
             "linecolor": "white",
             "minorgridcolor": "white",
             "startlinecolor": "rgb(36,36,36)"
            },
            "type": "carpet"
           }
          ],
          "choropleth": [
           {
            "colorbar": {
             "outlinewidth": 1,
             "tickcolor": "rgb(36,36,36)",
             "ticks": "outside"
            },
            "type": "choropleth"
           }
          ],
          "contour": [
           {
            "colorbar": {
             "outlinewidth": 1,
             "tickcolor": "rgb(36,36,36)",
             "ticks": "outside"
            },
            "colorscale": [
             [
              0,
              "#440154"
             ],
             [
              0.1111111111111111,
              "#482878"
             ],
             [
              0.2222222222222222,
              "#3e4989"
             ],
             [
              0.3333333333333333,
              "#31688e"
             ],
             [
              0.4444444444444444,
              "#26828e"
             ],
             [
              0.5555555555555556,
              "#1f9e89"
             ],
             [
              0.6666666666666666,
              "#35b779"
             ],
             [
              0.7777777777777778,
              "#6ece58"
             ],
             [
              0.8888888888888888,
              "#b5de2b"
             ],
             [
              1,
              "#fde725"
             ]
            ],
            "type": "contour"
           }
          ],
          "contourcarpet": [
           {
            "colorbar": {
             "outlinewidth": 1,
             "tickcolor": "rgb(36,36,36)",
             "ticks": "outside"
            },
            "type": "contourcarpet"
           }
          ],
          "heatmap": [
           {
            "colorbar": {
             "outlinewidth": 1,
             "tickcolor": "rgb(36,36,36)",
             "ticks": "outside"
            },
            "colorscale": [
             [
              0,
              "#440154"
             ],
             [
              0.1111111111111111,
              "#482878"
             ],
             [
              0.2222222222222222,
              "#3e4989"
             ],
             [
              0.3333333333333333,
              "#31688e"
             ],
             [
              0.4444444444444444,
              "#26828e"
             ],
             [
              0.5555555555555556,
              "#1f9e89"
             ],
             [
              0.6666666666666666,
              "#35b779"
             ],
             [
              0.7777777777777778,
              "#6ece58"
             ],
             [
              0.8888888888888888,
              "#b5de2b"
             ],
             [
              1,
              "#fde725"
             ]
            ],
            "type": "heatmap"
           }
          ],
          "heatmapgl": [
           {
            "colorbar": {
             "outlinewidth": 1,
             "tickcolor": "rgb(36,36,36)",
             "ticks": "outside"
            },
            "colorscale": [
             [
              0,
              "#440154"
             ],
             [
              0.1111111111111111,
              "#482878"
             ],
             [
              0.2222222222222222,
              "#3e4989"
             ],
             [
              0.3333333333333333,
              "#31688e"
             ],
             [
              0.4444444444444444,
              "#26828e"
             ],
             [
              0.5555555555555556,
              "#1f9e89"
             ],
             [
              0.6666666666666666,
              "#35b779"
             ],
             [
              0.7777777777777778,
              "#6ece58"
             ],
             [
              0.8888888888888888,
              "#b5de2b"
             ],
             [
              1,
              "#fde725"
             ]
            ],
            "type": "heatmapgl"
           }
          ],
          "histogram": [
           {
            "marker": {
             "line": {
              "color": "white",
              "width": 0.6
             }
            },
            "type": "histogram"
           }
          ],
          "histogram2d": [
           {
            "colorbar": {
             "outlinewidth": 1,
             "tickcolor": "rgb(36,36,36)",
             "ticks": "outside"
            },
            "colorscale": [
             [
              0,
              "#440154"
             ],
             [
              0.1111111111111111,
              "#482878"
             ],
             [
              0.2222222222222222,
              "#3e4989"
             ],
             [
              0.3333333333333333,
              "#31688e"
             ],
             [
              0.4444444444444444,
              "#26828e"
             ],
             [
              0.5555555555555556,
              "#1f9e89"
             ],
             [
              0.6666666666666666,
              "#35b779"
             ],
             [
              0.7777777777777778,
              "#6ece58"
             ],
             [
              0.8888888888888888,
              "#b5de2b"
             ],
             [
              1,
              "#fde725"
             ]
            ],
            "type": "histogram2d"
           }
          ],
          "histogram2dcontour": [
           {
            "colorbar": {
             "outlinewidth": 1,
             "tickcolor": "rgb(36,36,36)",
             "ticks": "outside"
            },
            "colorscale": [
             [
              0,
              "#440154"
             ],
             [
              0.1111111111111111,
              "#482878"
             ],
             [
              0.2222222222222222,
              "#3e4989"
             ],
             [
              0.3333333333333333,
              "#31688e"
             ],
             [
              0.4444444444444444,
              "#26828e"
             ],
             [
              0.5555555555555556,
              "#1f9e89"
             ],
             [
              0.6666666666666666,
              "#35b779"
             ],
             [
              0.7777777777777778,
              "#6ece58"
             ],
             [
              0.8888888888888888,
              "#b5de2b"
             ],
             [
              1,
              "#fde725"
             ]
            ],
            "type": "histogram2dcontour"
           }
          ],
          "mesh3d": [
           {
            "colorbar": {
             "outlinewidth": 1,
             "tickcolor": "rgb(36,36,36)",
             "ticks": "outside"
            },
            "type": "mesh3d"
           }
          ],
          "parcoords": [
           {
            "line": {
             "colorbar": {
              "outlinewidth": 1,
              "tickcolor": "rgb(36,36,36)",
              "ticks": "outside"
             }
            },
            "type": "parcoords"
           }
          ],
          "pie": [
           {
            "automargin": true,
            "type": "pie"
           }
          ],
          "scatter": [
           {
            "marker": {
             "colorbar": {
              "outlinewidth": 1,
              "tickcolor": "rgb(36,36,36)",
              "ticks": "outside"
             }
            },
            "type": "scatter"
           }
          ],
          "scatter3d": [
           {
            "line": {
             "colorbar": {
              "outlinewidth": 1,
              "tickcolor": "rgb(36,36,36)",
              "ticks": "outside"
             }
            },
            "marker": {
             "colorbar": {
              "outlinewidth": 1,
              "tickcolor": "rgb(36,36,36)",
              "ticks": "outside"
             }
            },
            "type": "scatter3d"
           }
          ],
          "scattercarpet": [
           {
            "marker": {
             "colorbar": {
              "outlinewidth": 1,
              "tickcolor": "rgb(36,36,36)",
              "ticks": "outside"
             }
            },
            "type": "scattercarpet"
           }
          ],
          "scattergeo": [
           {
            "marker": {
             "colorbar": {
              "outlinewidth": 1,
              "tickcolor": "rgb(36,36,36)",
              "ticks": "outside"
             }
            },
            "type": "scattergeo"
           }
          ],
          "scattergl": [
           {
            "marker": {
             "colorbar": {
              "outlinewidth": 1,
              "tickcolor": "rgb(36,36,36)",
              "ticks": "outside"
             }
            },
            "type": "scattergl"
           }
          ],
          "scattermapbox": [
           {
            "marker": {
             "colorbar": {
              "outlinewidth": 1,
              "tickcolor": "rgb(36,36,36)",
              "ticks": "outside"
             }
            },
            "type": "scattermapbox"
           }
          ],
          "scatterpolar": [
           {
            "marker": {
             "colorbar": {
              "outlinewidth": 1,
              "tickcolor": "rgb(36,36,36)",
              "ticks": "outside"
             }
            },
            "type": "scatterpolar"
           }
          ],
          "scatterpolargl": [
           {
            "marker": {
             "colorbar": {
              "outlinewidth": 1,
              "tickcolor": "rgb(36,36,36)",
              "ticks": "outside"
             }
            },
            "type": "scatterpolargl"
           }
          ],
          "scatterternary": [
           {
            "marker": {
             "colorbar": {
              "outlinewidth": 1,
              "tickcolor": "rgb(36,36,36)",
              "ticks": "outside"
             }
            },
            "type": "scatterternary"
           }
          ],
          "surface": [
           {
            "colorbar": {
             "outlinewidth": 1,
             "tickcolor": "rgb(36,36,36)",
             "ticks": "outside"
            },
            "colorscale": [
             [
              0,
              "#440154"
             ],
             [
              0.1111111111111111,
              "#482878"
             ],
             [
              0.2222222222222222,
              "#3e4989"
             ],
             [
              0.3333333333333333,
              "#31688e"
             ],
             [
              0.4444444444444444,
              "#26828e"
             ],
             [
              0.5555555555555556,
              "#1f9e89"
             ],
             [
              0.6666666666666666,
              "#35b779"
             ],
             [
              0.7777777777777778,
              "#6ece58"
             ],
             [
              0.8888888888888888,
              "#b5de2b"
             ],
             [
              1,
              "#fde725"
             ]
            ],
            "type": "surface"
           }
          ],
          "table": [
           {
            "cells": {
             "fill": {
              "color": "rgb(237,237,237)"
             },
             "line": {
              "color": "white"
             }
            },
            "header": {
             "fill": {
              "color": "rgb(217,217,217)"
             },
             "line": {
              "color": "white"
             }
            },
            "type": "table"
           }
          ]
         },
         "layout": {
          "annotationdefaults": {
           "arrowhead": 0,
           "arrowwidth": 1
          },
          "autotypenumbers": "strict",
          "coloraxis": {
           "colorbar": {
            "outlinewidth": 1,
            "tickcolor": "rgb(36,36,36)",
            "ticks": "outside"
           }
          },
          "colorscale": {
           "diverging": [
            [
             0,
             "rgb(103,0,31)"
            ],
            [
             0.1,
             "rgb(178,24,43)"
            ],
            [
             0.2,
             "rgb(214,96,77)"
            ],
            [
             0.3,
             "rgb(244,165,130)"
            ],
            [
             0.4,
             "rgb(253,219,199)"
            ],
            [
             0.5,
             "rgb(247,247,247)"
            ],
            [
             0.6,
             "rgb(209,229,240)"
            ],
            [
             0.7,
             "rgb(146,197,222)"
            ],
            [
             0.8,
             "rgb(67,147,195)"
            ],
            [
             0.9,
             "rgb(33,102,172)"
            ],
            [
             1,
             "rgb(5,48,97)"
            ]
           ],
           "sequential": [
            [
             0,
             "#440154"
            ],
            [
             0.1111111111111111,
             "#482878"
            ],
            [
             0.2222222222222222,
             "#3e4989"
            ],
            [
             0.3333333333333333,
             "#31688e"
            ],
            [
             0.4444444444444444,
             "#26828e"
            ],
            [
             0.5555555555555556,
             "#1f9e89"
            ],
            [
             0.6666666666666666,
             "#35b779"
            ],
            [
             0.7777777777777778,
             "#6ece58"
            ],
            [
             0.8888888888888888,
             "#b5de2b"
            ],
            [
             1,
             "#fde725"
            ]
           ],
           "sequentialminus": [
            [
             0,
             "#440154"
            ],
            [
             0.1111111111111111,
             "#482878"
            ],
            [
             0.2222222222222222,
             "#3e4989"
            ],
            [
             0.3333333333333333,
             "#31688e"
            ],
            [
             0.4444444444444444,
             "#26828e"
            ],
            [
             0.5555555555555556,
             "#1f9e89"
            ],
            [
             0.6666666666666666,
             "#35b779"
            ],
            [
             0.7777777777777778,
             "#6ece58"
            ],
            [
             0.8888888888888888,
             "#b5de2b"
            ],
            [
             1,
             "#fde725"
            ]
           ]
          },
          "colorway": [
           "#1F77B4",
           "#FF7F0E",
           "#2CA02C",
           "#D62728",
           "#9467BD",
           "#8C564B",
           "#E377C2",
           "#7F7F7F",
           "#BCBD22",
           "#17BECF"
          ],
          "font": {
           "color": "rgb(36,36,36)"
          },
          "geo": {
           "bgcolor": "white",
           "lakecolor": "white",
           "landcolor": "white",
           "showlakes": true,
           "showland": true,
           "subunitcolor": "white"
          },
          "hoverlabel": {
           "align": "left"
          },
          "hovermode": "closest",
          "mapbox": {
           "style": "light"
          },
          "paper_bgcolor": "white",
          "plot_bgcolor": "white",
          "polar": {
           "angularaxis": {
            "gridcolor": "rgb(232,232,232)",
            "linecolor": "rgb(36,36,36)",
            "showgrid": false,
            "showline": true,
            "ticks": "outside"
           },
           "bgcolor": "white",
           "radialaxis": {
            "gridcolor": "rgb(232,232,232)",
            "linecolor": "rgb(36,36,36)",
            "showgrid": false,
            "showline": true,
            "ticks": "outside"
           }
          },
          "scene": {
           "xaxis": {
            "backgroundcolor": "white",
            "gridcolor": "rgb(232,232,232)",
            "gridwidth": 2,
            "linecolor": "rgb(36,36,36)",
            "showbackground": true,
            "showgrid": false,
            "showline": true,
            "ticks": "outside",
            "zeroline": false,
            "zerolinecolor": "rgb(36,36,36)"
           },
           "yaxis": {
            "backgroundcolor": "white",
            "gridcolor": "rgb(232,232,232)",
            "gridwidth": 2,
            "linecolor": "rgb(36,36,36)",
            "showbackground": true,
            "showgrid": false,
            "showline": true,
            "ticks": "outside",
            "zeroline": false,
            "zerolinecolor": "rgb(36,36,36)"
           },
           "zaxis": {
            "backgroundcolor": "white",
            "gridcolor": "rgb(232,232,232)",
            "gridwidth": 2,
            "linecolor": "rgb(36,36,36)",
            "showbackground": true,
            "showgrid": false,
            "showline": true,
            "ticks": "outside",
            "zeroline": false,
            "zerolinecolor": "rgb(36,36,36)"
           }
          },
          "shapedefaults": {
           "fillcolor": "black",
           "line": {
            "width": 0
           },
           "opacity": 0.3
          },
          "ternary": {
           "aaxis": {
            "gridcolor": "rgb(232,232,232)",
            "linecolor": "rgb(36,36,36)",
            "showgrid": false,
            "showline": true,
            "ticks": "outside"
           },
           "baxis": {
            "gridcolor": "rgb(232,232,232)",
            "linecolor": "rgb(36,36,36)",
            "showgrid": false,
            "showline": true,
            "ticks": "outside"
           },
           "bgcolor": "white",
           "caxis": {
            "gridcolor": "rgb(232,232,232)",
            "linecolor": "rgb(36,36,36)",
            "showgrid": false,
            "showline": true,
            "ticks": "outside"
           }
          },
          "title": {
           "x": 0.05
          },
          "xaxis": {
           "automargin": true,
           "gridcolor": "rgb(232,232,232)",
           "linecolor": "rgb(36,36,36)",
           "showgrid": false,
           "showline": true,
           "ticks": "outside",
           "title": {
            "standoff": 15
           },
           "zeroline": false,
           "zerolinecolor": "rgb(36,36,36)"
          },
          "yaxis": {
           "automargin": true,
           "gridcolor": "rgb(232,232,232)",
           "linecolor": "rgb(36,36,36)",
           "showgrid": false,
           "showline": true,
           "ticks": "outside",
           "title": {
            "standoff": 15
           },
           "zeroline": false,
           "zerolinecolor": "rgb(36,36,36)"
          }
         }
        },
        "width": 900,
        "xaxis": {
         "anchor": "y",
         "domain": [
          0,
          1
         ],
         "title": {
          "text": "value"
         },
         "visible": false
        },
        "xaxis2": {
         "anchor": "y2",
         "domain": [
          0,
          1
         ],
         "matches": "x",
         "showticklabels": false,
         "visible": false
        },
        "yaxis": {
         "anchor": "x",
         "domain": [
          0,
          0.7326
         ],
         "title": {
          "text": "count"
         }
        },
        "yaxis2": {
         "anchor": "x2",
         "domain": [
          0.7426,
          1
         ],
         "matches": "y2",
         "showline": false,
         "showticklabels": false,
         "ticks": ""
        }
       }
      }
     },
     "metadata": {},
     "output_type": "display_data"
    }
   ],
   "source": [
    "tf_g1=pe.histogram(list_tf,\n",
    "    template=\"simple_white\",\n",
    "    width = 900,\n",
    "    height = 400,\n",
    "    labels={\"variable\":\"Trace Fitness\"},\n",
    "    color_discrete_sequence=[\"teal\"],\n",
    "    marginal=\"box\").update_xaxes(visible=False)\n",
    "tf_g1.update_layout(showlegend=False)"
   ]
  },
  {
   "cell_type": "code",
   "execution_count": 61,
   "metadata": {},
   "outputs": [
    {
     "data": {
      "application/vnd.jupyter.widget-view+json": {
       "model_id": "4386353f0d1041bb87257570c070ae51",
       "version_major": 2,
       "version_minor": 0
      },
      "text/plain": [
       "replaying log with TBR, completed variants ::   0%|          | 0/706 [00:00<?, ?it/s]"
      ]
     },
     "metadata": {},
     "output_type": "display_data"
    }
   ],
   "source": [
    "\n",
    "from pm4py.algo.conformance.tokenreplay import algorithm as token_based_replay\n",
    "parameters_tbr = {token_based_replay.Variants.TOKEN_REPLAY.value.Parameters.DISABLE_VARIANTS: True, token_based_replay.Variants.TOKEN_REPLAY.value.Parameters.ENABLE_PLTR_FITNESS: True}\n",
    "replayed_traces, place_fitness, trans_fitness, unwanted_activities = token_based_replay.apply(elog, net,\n",
    "                                                                                              im,\n",
    "                                                                                              fm,\n",
    "                                                                                              parameters=parameters_tbr)\n",
    "\n",
    "from pm4py.algo.conformance.tokenreplay.diagnostics import root_cause_analysis\n",
    "act_root_cause = root_cause_analysis.diagnose_from_notexisting_activities(elog, unwanted_activities,parameters=parameters_tbr)"
   ]
  },
  {
   "cell_type": "code",
   "execution_count": 45,
   "metadata": {},
   "outputs": [],
   "source": [
    "from pm4py.visualization.decisiontree import visualizer as dt_vis\n",
    "for act in act_root_cause:\n",
    "    clf = act_root_cause[act][\"clf\"]\n",
    "    feature_names = act_root_cause[act][\"feature_names\"]\n",
    "    classes = act_root_cause[act][\"classes\"]\n",
    "    # visualization could be called\n",
    "    gviz = dt_vis.apply(clf, feature_names, classes)\n",
    "    dt_vis.view(gviz)"
   ]
  },
  {
   "cell_type": "code",
   "execution_count": 66,
   "metadata": {},
   "outputs": [
    {
     "name": "stdout",
     "output_type": "stream",
     "text": [
      "(Id_617dc8bd-e379-45e9-b2af-e00f7f3c56a9, 'Internamento') {'n_fit': 6, 'n_underfed': 696, 'fit_median_time': 86400.0, 'underfed_median_time': 19137600.0, 'relative_throughput': 221.5}\n",
      "(Id_312fb7ff-8c30-413a-8564-5cca14f90299, 'Fisioterapia') {'n_fit': 6, 'n_underfed': 649, 'fit_median_time': 86400.0, 'underfed_median_time': 20736000.0, 'relative_throughput': 240.0}\n",
      "(Id_5695fb46-b7b5-42e1-9a55-51652efd1dbb, 'Análises') {'n_fit': 243, 'n_underfed': 129, 'fit_median_time': 34473600.0, 'underfed_median_time': 13305600.0, 'relative_throughput': 0.38596491228070173}\n",
      "(Id_ff93ce66-4e71-4f3b-8ff0-e53c5b84156d, 'Consulta Ortopedia') {'n_fit': 258, 'n_underfed': 377, 'fit_median_time': 6825600.0, 'underfed_median_time': 45532800.0, 'relative_throughput': 6.670886075949367}\n",
      "(Id_01efc805-a008-45d9-9a75-0d87b1e751d3, 'RM Bacia') {'n_fit': 20, 'n_underfed': 3, 'fit_median_time': 49982400.0, 'underfed_median_time': 27648000.0, 'relative_throughput': 0.5531547104580813}\n"
     ]
    }
   ],
   "source": [
    "from pm4py.algo.conformance.tokenreplay.diagnostics import duration_diagnostics\n",
    "trans_diagnostics = duration_diagnostics.diagnose_from_trans_fitness(elog, trans_fitness)\n",
    "for trans in trans_diagnostics:\n",
    "    print(trans, trans_diagnostics[trans])"
   ]
  },
  {
   "cell_type": "code",
   "execution_count": null,
   "metadata": {},
   "outputs": [],
   "source": []
  }
 ],
 "metadata": {
  "kernelspec": {
   "display_name": "Python 3.8.12 ('base')",
   "language": "python",
   "name": "python3"
  },
  "language_info": {
   "codemirror_mode": {
    "name": "ipython",
    "version": 3
   },
   "file_extension": ".py",
   "mimetype": "text/x-python",
   "name": "python",
   "nbconvert_exporter": "python",
   "pygments_lexer": "ipython3",
   "version": "3.8.13"
  },
  "orig_nbformat": 4,
  "vscode": {
   "interpreter": {
    "hash": "9ee5ba874a79cd84a972dd681a11c788a40f339b349bf6278c6396b8749a13ac"
   }
  }
 },
 "nbformat": 4,
 "nbformat_minor": 2
}
